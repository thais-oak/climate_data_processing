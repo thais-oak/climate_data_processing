{
 "cells": [
  {
   "cell_type": "code",
   "execution_count": 2,
   "id": "417447f3",
   "metadata": {},
   "outputs": [
    {
     "name": "stdout",
     "output_type": "stream",
     "text": [
      "Requirement already satisfied: esgf-pyclient==0.3.1 in c:\\users\\thais\\.virtualenvs\\climate\\lib\\site-packages (0.3.1)\n",
      "Requirement already satisfied: defusedxml in c:\\users\\thais\\.virtualenvs\\climate\\lib\\site-packages (from esgf-pyclient==0.3.1) (0.7.1)\n",
      "Requirement already satisfied: jinja2 in c:\\users\\thais\\.virtualenvs\\climate\\lib\\site-packages (from esgf-pyclient==0.3.1) (3.1.6)\n",
      "Requirement already satisfied: requests in c:\\users\\thais\\.virtualenvs\\climate\\lib\\site-packages (from esgf-pyclient==0.3.1) (2.32.4)\n",
      "Requirement already satisfied: requests_cache in c:\\users\\thais\\.virtualenvs\\climate\\lib\\site-packages (from esgf-pyclient==0.3.1) (1.2.1)\n",
      "Requirement already satisfied: webob in c:\\users\\thais\\.virtualenvs\\climate\\lib\\site-packages (from esgf-pyclient==0.3.1) (1.8.9)\n",
      "Requirement already satisfied: myproxyclient in c:\\users\\thais\\.virtualenvs\\climate\\lib\\site-packages (from esgf-pyclient==0.3.1) (2.1.1)\n",
      "Requirement already satisfied: MarkupSafe>=2.0 in c:\\users\\thais\\.virtualenvs\\climate\\lib\\site-packages (from jinja2->esgf-pyclient==0.3.1) (3.0.2)\n",
      "Requirement already satisfied: pyOpenSSL in c:\\users\\thais\\.virtualenvs\\climate\\lib\\site-packages (from myproxyclient->esgf-pyclient==0.3.1) (25.1.0)\n",
      "Requirement already satisfied: six in c:\\users\\thais\\.virtualenvs\\climate\\lib\\site-packages (from myproxyclient->esgf-pyclient==0.3.1) (1.17.0)\n",
      "Requirement already satisfied: charset_normalizer<4,>=2 in c:\\users\\thais\\.virtualenvs\\climate\\lib\\site-packages (from requests->esgf-pyclient==0.3.1) (3.4.2)\n",
      "Requirement already satisfied: idna<4,>=2.5 in c:\\users\\thais\\.virtualenvs\\climate\\lib\\site-packages (from requests->esgf-pyclient==0.3.1) (3.10)\n",
      "Requirement already satisfied: urllib3<3,>=1.21.1 in c:\\users\\thais\\.virtualenvs\\climate\\lib\\site-packages (from requests->esgf-pyclient==0.3.1) (2.5.0)\n",
      "Requirement already satisfied: certifi>=2017.4.17 in c:\\users\\thais\\.virtualenvs\\climate\\lib\\site-packages (from requests->esgf-pyclient==0.3.1) (2025.7.14)\n",
      "Requirement already satisfied: attrs>=21.2 in c:\\users\\thais\\.virtualenvs\\climate\\lib\\site-packages (from requests_cache->esgf-pyclient==0.3.1) (25.3.0)\n",
      "Requirement already satisfied: cattrs>=22.2 in c:\\users\\thais\\.virtualenvs\\climate\\lib\\site-packages (from requests_cache->esgf-pyclient==0.3.1) (25.1.1)\n",
      "Requirement already satisfied: platformdirs>=2.5 in c:\\users\\thais\\.virtualenvs\\climate\\lib\\site-packages (from requests_cache->esgf-pyclient==0.3.1) (4.3.8)\n",
      "Requirement already satisfied: url-normalize>=1.4 in c:\\users\\thais\\.virtualenvs\\climate\\lib\\site-packages (from requests_cache->esgf-pyclient==0.3.1) (2.2.1)\n",
      "Requirement already satisfied: typing-extensions>=4.12.2 in c:\\users\\thais\\.virtualenvs\\climate\\lib\\site-packages (from cattrs>=22.2->requests_cache->esgf-pyclient==0.3.1) (4.14.1)\n",
      "Requirement already satisfied: cryptography<46,>=41.0.5 in c:\\users\\thais\\.virtualenvs\\climate\\lib\\site-packages (from pyOpenSSL->myproxyclient->esgf-pyclient==0.3.1) (45.0.5)\n",
      "Requirement already satisfied: cffi>=1.14 in c:\\users\\thais\\.virtualenvs\\climate\\lib\\site-packages (from cryptography<46,>=41.0.5->pyOpenSSL->myproxyclient->esgf-pyclient==0.3.1) (1.17.1)\n",
      "Requirement already satisfied: pycparser in c:\\users\\thais\\.virtualenvs\\climate\\lib\\site-packages (from cffi>=1.14->cryptography<46,>=41.0.5->pyOpenSSL->myproxyclient->esgf-pyclient==0.3.1) (2.22)\n",
      "Note: you may need to restart the kernel to use updated packages.\n"
     ]
    },
    {
     "name": "stderr",
     "output_type": "stream",
     "text": [
      "\n",
      "[notice] A new release of pip available: 22.3.1 -> 25.1.1\n",
      "[notice] To update, run: python.exe -m pip install --upgrade pip\n"
     ]
    }
   ],
   "source": [
    "%pip install esgf-pyclient==0.3.1"
   ]
  },
  {
   "cell_type": "markdown",
   "id": "14b8e4d6",
   "metadata": {},
   "source": [
    "### listagem de variáveis do CMPI6"
   ]
  },
  {
   "cell_type": "code",
   "execution_count": 1,
   "id": "72d61b66",
   "metadata": {},
   "outputs": [],
   "source": [
    "import sys\n",
    "\n",
    "# apontar para a versão local da lib\n",
    "sys.path.insert(0, './dreqPy')"
   ]
  },
  {
   "cell_type": "code",
   "execution_count": 2,
   "id": "d8765649",
   "metadata": {},
   "outputs": [],
   "source": [
    "from dreqPy import dreq"
   ]
  },
  {
   "cell_type": "code",
   "execution_count": 3,
   "id": "e470d134",
   "metadata": {},
   "outputs": [],
   "source": [
    "# inicializando a biblioteca\n",
    "dq = dreq.loadDreq()"
   ]
  },
  {
   "cell_type": "code",
   "execution_count": 4,
   "id": "9b8f1a26",
   "metadata": {},
   "outputs": [
    {
     "name": "stdout",
     "output_type": "stream",
     "text": [
      "bigthetao - Sea Water Conservative Temperature - sea_water_conservative_temperature\n",
      "bigthetaoga - Global Average Sea Water Conservative Temperature - sea_water_conservative_temperature\n",
      "edt - Eddy Diffusivity Coefficient for Temperature - atmosphere_heat_diffusivity\n",
      "hfevapds - Temperature Flux Due to Evaporation Expressed as Heat Flux out of Sea Water - temperature_flux_due_to_evaporation_expressed_as_heat_flux_out_of_sea_water\n",
      "hfrainds - Temperature Flux Due to Rainfall Expressed as Heat Flux into Sea Water - temperature_flux_due_to_rainfall_expressed_as_heat_flux_into_sea_water\n",
      "hfrunoffds - Temperature Flux Due to Runoff Expressed as Heat Flux into Sea Water - temperature_flux_due_to_runoff_expressed_as_heat_flux_into_sea_water\n",
      "litempbotfl - Basal Temperature of Floating Ice Shelf - land_ice_basal_temperature\n",
      "litempbotgr - Basal Temperature of Grounded Ice Sheet - land_ice_basal_temperature\n",
      "litemptop - Temperature at Top of Ice Sheet Model - temperature_at_top_of_ice_sheet_model\n",
      "litemptopIs - Ice Sheet Temperature at Top of Ice Sheet Model - temperature_at_top_of_ice_sheet_model\n",
      "ocontempdiff - Tendency of Sea Water Conservative Temperature Expressed as Heat Content Due to Parameterized Dianeutral Mixing - tendency_of_sea_water_conservative_temperature_expressed_as_heat_content_due_to_parameterized_dianeutral_mixing\n",
      "ocontempmint - Depth Integral of Product of Sea Water Density and Conservative Temperature - integral_wrt_depth_of_product_of_conservative_temperature_and_sea_water_density\n",
      "ocontemppadvect - Tendency of Sea Water Conservative Temperature Expressed as Heat Content Due to Parameterized Eddy Advection - tendency_of_sea_water_conservative_temperature_expressed_as_heat_content_due_to_parameterized_eddy_advection\n",
      "ocontemppmdiff - Tendency of Sea Water Conservative Temperature Expressed as Heat Content Due to Parameterized Mesoscale Diffusion - tendency_of_sea_water_conservative_temperature_expressed_as_heat_content_due_to_parameterized_mesoscale_eddy_diffusion\n",
      "ocontemppsmadvect - Tendency of Sea Water Conservative Temperature Expressed as Heat Content Due to Parameterized Submesoscale Advection - tendency_of_sea_water_conservative_temperature_expressed_as_heat_content_due_to_parameterized_submesoscale_eddy_advection\n",
      "ocontemprmadvect - Tendency of Sea Water Conservative Temperature Expressed as Heat Content Due to Residual Mean Advection - tendency_of_sea_water_conservative_temperature_expressed_as_heat_content_due_to_residual_mean_advection\n",
      "ocontemptend - Tendency of Sea Water Conservative Temperature Expressed as Heat Content - tendency_of_sea_water_conservative_temperature_expressed_as_heat_content\n",
      "opottempdiff - Tendency of Sea Water Potential Temperature Expressed as Heat Content Due to Parameterized Dianeutral Mixing - tendency_of_sea_water_potential_temperature_expressed_as_heat_content_due_to_parameterized_dianeutral_mixing\n",
      "opottempmint - Integral with Respect to Depth of Product of Sea Water Density and Potential Temperature - integral_wrt_depth_of_product_of_potential_temperature_and_sea_water_density\n",
      "opottemppadvect - Tendency of Sea Water Potential Temperature Expressed as Heat Content Due to Parameterized Eddy Advection - tendency_of_sea_water_potential_temperature_expressed_as_heat_content_due_to_parameterized_eddy_advection\n",
      "opottemppmdiff - Tendency of Sea Water Potential Temperature Expressed as Heat Content Due to Parameterized Mesoscale Diffusion - tendency_of_sea_water_potential_temperature_expressed_as_heat_content_due_to_parameterized_mesoscale_eddy_diffusion\n",
      "opottemppsmadvect - Tendency of Sea Water Potential Temperature Expressed as Heat Content Due to Parameterized Submesoscale Advection - tendency_of_sea_water_potential_temperature_expressed_as_heat_content_due_to_parameterized_submesoscale_eddy_advection\n",
      "opottemprmadvect - Tendency of Sea Water Potential Temperature Expressed as Heat Content Due to Residual Mean Advection - tendency_of_sea_water_potential_temperature_expressed_as_heat_content_due_to_residual_mean_advection\n",
      "opottemptend - Tendency of Sea Water Potential Temperature Expressed as Heat Content - tendency_of_sea_water_potential_temperature_expressed_as_heat_content\n",
      "pabigthetao - Sea Water Added Conservative Temperature - sea_water_added_conservative_temperature\n",
      "pathetao - Sea Water Additional Potential Temperature - sea_water_added_potential_temperature\n",
      "prbigthetao - Sea Water Redistributed Conservative Temperature - sea_water_redistributed_conservative_temperature\n",
      "prthetao - Sea Water Redistributed Potential Temperature - sea_water_redistributed_potential_temperature\n",
      "sitempbot - Temperature at Ice-Ocean Interface - sea_ice_basal_temperature\n",
      "sitempsnic - Temperature at Snow-Ice Interface - sea_ice_surface_temperature\n",
      "sitemptop - Surface Temperature of Sea Ice - sea_ice_surface_temperature\n",
      "t2 - Mean-Squared Air Temperature - square_of_air_temperature\n",
      "ta - Air Temperature - air_temperature\n",
      "ta500 - Air Temperature - air_temperature\n",
      "ta700 - Air Temperature - air_temperature\n",
      "ta850 - Air Temperature - air_temperature\n",
      "tas - Near-Surface Air Temperature - air_temperature\n",
      "tasIs - Ice Sheet Near-Surface Air Temperature - air_temperature\n",
      "tasLut - Near-Surface Air Temperature on Land Use Tile - air_temperature\n",
      "tasmax - Daily Maximum Near-Surface Air Temperature - air_temperature\n",
      "tasmaxCrop - Daily Maximum Near-Surface Air Temperature over Crop Tile - air_temperature\n",
      "tasmin - Daily Minimum Near-Surface Air Temperature - air_temperature\n",
      "tasminCrop - Daily Minimum Near-Surface Air Temperature over Crop Tile - air_temperature\n",
      "tatp - Tropopause Air Temperature - tropopause_air_temperature\n",
      "tcs - Vegetation Canopy Temperature - canopy_temperature\n",
      "tdps - 2m Dewpoint Temperature - dew_point_temperature\n",
      "tgs - Temperature of Bare Soil - surface_temperature\n",
      "thetao - Sea Water Potential Temperature - sea_water_potential_temperature\n",
      "thetaoga - Global Average Sea Water Potential Temperature - sea_water_potential_temperature\n",
      "thetaot - Vertically Averaged Sea Water Potential Temperature - sea_water_potential_temperature\n",
      "thetaot2000 - Depth Average Potential Temperature of Upper 2000m - sea_water_potential_temperature\n",
      "thetaot300 - Depth Average Potential Temperature of Upper 300m - sea_water_potential_temperature\n",
      "thetaot700 - Depth Average Potential Temperature of Upper 700m - sea_water_potential_temperature\n",
      "tnt - Tendency of Air Temperature - tendency_of_air_temperature\n",
      "tnta - Tendency of Air Temperature Due to Advection - tendency_of_air_temperature_due_to_advection\n",
      "tntc - Tendency of Air Temperature Due to Convection - tendency_of_air_temperature_due_to_convection\n",
      "tntd - Tendency of Air Temperature Due to Numerical Diffusion - tendency_of_air_temperature_due_to_diffusion\n",
      "tntmp - Tendency of Air Temperature Due to Model Physics - tendency_of_air_temperature_due_to_model_physics\n",
      "tntnogw - Temperature Tendency Due to Non-Orographic Gravity Wave Dissipation - tendency_of_air_temperature_due_to_dissipation_of_nonorographic_gravity_waves\n",
      "tntogw - Temperature Tendency Due to Orographic Gravity Wave Dissipation - tendency_of_air_temperature_due_to_dissipation_of_orographic_gravity_waves\n",
      "tntpbl - Tendency of Air Temperature Due to Boundary Layer Mixing - tendency_of_air_temperature_due_to_boundary_layer_mixing\n",
      "tntr - Tendency of Air Temperature Due to Radiative Heating - tendency_of_air_temperature_due_to_radiative_heating\n",
      "tntrl - Tendency of Air Temperature Due to Longwave Radiative Heating - tendency_of_air_temperature_due_to_longwave_heating\n",
      "tntrlcs - Tendency of Air Temperature Due to Clear Sky Longwave Radiative Heating - tendency_of_air_temperature_due_to_longwave_heating_assuming_clear_sky\n",
      "tntrs - Tendency of Air Temperature Due to Shortwave Radiative Heating - tendency_of_air_temperature_due_to_shortwave_heating\n",
      "tntrscs - Tendency of Air Temperature Due to Clear Sky Shortwave Radiative Heating - tendency_of_air_temperature_due_to_shortwave_heating_assuming_clear_sky\n",
      "tntscp - Tendency of Air Temperature Due to Stratiform Clouds and Precipitation - tendency_of_air_temperature_due_to_stratiform_cloud_and_precipitation\n",
      "tntscpbl - Tendency of Air Temperature Due to Stratiform Cloud and Precipitation and Boundary Layer Mixing - tendency_of_air_temperature_due_to_stratiform_cloud_and_precipitation_and_boundary_layer_mixing\n",
      "tob - Sea Water Potential Temperature at Sea Floor - sea_water_potential_temperature_at_sea_floor\n",
      "tos - Sea Surface Temperature - sea_surface_temperature\n",
      "tosga - Global Average Sea Surface Temperature - sea_surface_temperature\n",
      "tossq - Square of Sea Surface Temperature - square_of_sea_surface_temperature\n",
      "tr - Surface Radiative Temperature - surface_temperature\n",
      "ts - Surface Temperature - surface_temperature\n",
      "tsIs - Ice Sheet Surface Temperature - surface_temperature\n",
      "tsl - Temperature of Soil - soil_temperature\n",
      "tsland - Land Surface Temperature - surface_temperature\n",
      "tslsi - Surface Temperature Where Land or Sea Ice - surface_temperature\n",
      "tslsiLut - Surface Temperature on Landuse Tile - surface_temperature\n",
      "tsn - Snow Internal Temperature - temperature_in_surface_snow\n",
      "tsnIs - Ice Sheet Snow Internal Temperature - temperature_in_surface_snow\n",
      "tsnl - Temperature Profile in the Snow - temperature_in_surface_snow\n",
      "tsns - Snow Surface Temperature - surface_temperature\n",
      "ttop - Air Temperature at Cloud Top - air_temperature_at_cloud_top\n",
      "twap - Product of Air Temperature and Omega - product_of_lagrangian_tendency_of_air_pressure_and_air_temperature\n",
      "ut - Product of Air Temperature and Eastward Wind - product_of_eastward_wind_and_air_temperature\n",
      "vt - Product of Air Temperature and Northward Wind - product_of_northward_wind_and_air_temperature\n",
      "vt100 - Northward Eddy Temperature Flux - covariance_over_longitude_of_northward_wind_and_air_temperature\n",
      "wbptemp - Wet Bulb Potential Temperature - wet_bulb_potential_temperature\n"
     ]
    }
   ],
   "source": [
    "# listando variáveis relacionadas à temperatura\n",
    "temperature_vars = [var for var in dq.coll[\"var\"].items if \"temperature\" in var.title.lower()]\n",
    "\n",
    "for v in temperature_vars:\n",
    "    print(v.label, \"-\", v.title, \"-\", v.sn)"
   ]
  },
  {
   "cell_type": "markdown",
   "id": "af37f7ee",
   "metadata": {},
   "source": [
    "### acesso ao ESGF"
   ]
  },
  {
   "cell_type": "code",
   "execution_count": 8,
   "id": "aa902bde",
   "metadata": {},
   "outputs": [],
   "source": [
    "from collections import Counter, defaultdict\n",
    "import logging\n",
    "from pyesgf.search import SearchConnection"
   ]
  },
  {
   "cell_type": "code",
   "execution_count": 6,
   "id": "909dce00",
   "metadata": {},
   "outputs": [],
   "source": [
    "logging.getLogger('pyesgf.search').setLevel(logging.ERROR)"
   ]
  },
  {
   "cell_type": "code",
   "execution_count": 7,
   "id": "871952c9",
   "metadata": {},
   "outputs": [],
   "source": [
    "# variáveis relevantes de acordo com GCOS\n",
    "variaveis = [\"tas\", \"tasmax\", \"tasmin\", \"ps\", \"pr\", \"hur\", \"rsds\", \"rlut\", \"uas\", \"vas\", \"tos\", \"sos\", \"sic\"]"
   ]
  },
  {
   "cell_type": "code",
   "execution_count": 55,
   "id": "71fe164b",
   "metadata": {},
   "outputs": [
    {
     "name": "stdout",
     "output_type": "stream",
     "text": [
      "Counter()\n"
     ]
    },
    {
     "data": {
      "text/plain": [
       "'\\nmapping = {}\\n\\nfor d in ctx.search(ignore_facet_check=True):\\n    models = [d.json.get(\"source_id\", [None])[0] for d in ctx.search(ignore_facet_check=True)]\\n    print(Counter(models))\\n\\n    model = d.json.get(\"source_id\", [None])[0]\\n    experiment = d.json.get(\"experiment_id\", [None])[0]\\n    variable = d.json.get(\"variable_id\", [None])[0]\\n\\n    if model and experiment and variable:\\n        mapping.setdefault(model, {}).setdefault(experiment, set()).add(variable)\\n\\n# Exibir resultados\\nfor model, exps in mapping.items():\\n    print(f\"\\nModelo: {model}\")\\n    for exp, vars in exps.items():\\n        print(f\"  Experimento: {exp} → Variáveis: {sorted(vars)}\")'"
      ]
     },
     "execution_count": 55,
     "metadata": {},
     "output_type": "execute_result"
    }
   ],
   "source": [
    "conn = SearchConnection(\"https://esgf-node.llnl.gov/esg-search\", distrib=False)   # distrib = False —> força a busca apenas no LLNL, que costuma estar mais estável\n",
    "\n",
    "ctx = conn.new_context(\n",
    "    project=\"CMIP6\",\n",
    "    experiment_id=[\"historical\", \"ssp245\", \"ssp585\"],\n",
    "    variable_id=variaveis,\n",
    "    frequency=[\"mon\"],\n",
    "    #member_id=\"r1i1p1f1\",\n",
    "    #grid_label=\"gn\",\n",
    "    replica=False,\n",
    "    latest=True\n",
    ")\n",
    "\n",
    "# armazenando os resultados\n",
    "results = list(ctx.search(ignore_facet_check=True))\n",
    "\n",
    "# extraindo os modelos (source_id)\n",
    "models = [d.json.get(\"source_id\", [None])[0] for d in results if \"source_id\" in d.json]\n",
    "\n",
    "# frequência de cada modelo\n",
    "print(Counter(models))\n",
    "\n",
    "\"\"\"\n",
    "mapping = {}\n",
    "\n",
    "for d in ctx.search(ignore_facet_check=True):\n",
    "    models = [d.json.get(\"source_id\", [None])[0] for d in ctx.search(ignore_facet_check=True)]\n",
    "    print(Counter(models))\n",
    "\n",
    "    model = d.json.get(\"source_id\", [None])[0]\n",
    "    experiment = d.json.get(\"experiment_id\", [None])[0]\n",
    "    variable = d.json.get(\"variable_id\", [None])[0]\n",
    "    \n",
    "    if model and experiment and variable:\n",
    "        mapping.setdefault(model, {}).setdefault(experiment, set()).add(variable)\n",
    "\n",
    "# Exibir resultados\n",
    "for model, exps in mapping.items():\n",
    "    print(f\"\\nModelo: {model}\")\n",
    "    for exp, vars in exps.items():\n",
    "        print(f\"  Experimento: {exp} → Variáveis: {sorted(vars)}\")\"\"\""
   ]
  },
  {
   "cell_type": "code",
   "execution_count": 57,
   "id": "b6d59ca3",
   "metadata": {},
   "outputs": [
    {
     "ename": "KeyboardInterrupt",
     "evalue": "",
     "output_type": "error",
     "traceback": [
      "\u001b[31m---------------------------------------------------------------------------\u001b[39m",
      "\u001b[31mKeyboardInterrupt\u001b[39m                         Traceback (most recent call last)",
      "\u001b[36mCell\u001b[39m\u001b[36m \u001b[39m\u001b[32mIn[57]\u001b[39m\u001b[32m, line 16\u001b[39m\n\u001b[32m      6\u001b[39m \u001b[38;5;28;01mfor\u001b[39;00m var \u001b[38;5;129;01min\u001b[39;00m variaveis:\n\u001b[32m      7\u001b[39m     ctx = conn.new_context(\n\u001b[32m      8\u001b[39m         project=\u001b[33m\"\u001b[39m\u001b[33mCMIP6\u001b[39m\u001b[33m\"\u001b[39m,\n\u001b[32m      9\u001b[39m         experiment_id=[\u001b[33m\"\u001b[39m\u001b[33mhistorical\u001b[39m\u001b[33m\"\u001b[39m, \u001b[33m\"\u001b[39m\u001b[33mssp245\u001b[39m\u001b[33m\"\u001b[39m, \u001b[33m\"\u001b[39m\u001b[33mssp585\u001b[39m\u001b[33m\"\u001b[39m],\n\u001b[32m   (...)\u001b[39m\u001b[32m     13\u001b[39m         latest=\u001b[38;5;28;01mTrue\u001b[39;00m\n\u001b[32m     14\u001b[39m     )\n\u001b[32m---> \u001b[39m\u001b[32m16\u001b[39m     results = \u001b[38;5;28mlist\u001b[39m(ctx.search(ignore_facet_check=\u001b[38;5;28;01mTrue\u001b[39;00m))\n\u001b[32m     17\u001b[39m     \u001b[38;5;28;01mfor\u001b[39;00m d \u001b[38;5;129;01min\u001b[39;00m results:\n\u001b[32m     18\u001b[39m         modelo = d.json.get(\u001b[33m\"\u001b[39m\u001b[33msource_id\u001b[39m\u001b[33m\"\u001b[39m, [\u001b[38;5;28;01mNone\u001b[39;00m])[\u001b[32m0\u001b[39m]\n",
      "\u001b[36mFile \u001b[39m\u001b[32m<frozen _collections_abc>:993\u001b[39m, in \u001b[36m__iter__\u001b[39m\u001b[34m(self)\u001b[39m\n",
      "\u001b[36mFile \u001b[39m\u001b[32mc:\\Users\\thais\\.virtualenvs\\climate\\Lib\\site-packages\\pyesgf\\search\\results.py:47\u001b[39m, in \u001b[36mResultSet.__getitem__\u001b[39m\u001b[34m(self, index)\u001b[39m\n\u001b[32m     45\u001b[39m batch_i = index // \u001b[38;5;28mself\u001b[39m.batch_size\n\u001b[32m     46\u001b[39m offset = index % \u001b[38;5;28mself\u001b[39m.batch_size\n\u001b[32m---> \u001b[39m\u001b[32m47\u001b[39m batch = \u001b[38;5;28;43mself\u001b[39;49m\u001b[43m.\u001b[49m\u001b[43m__get_batch\u001b[49m\u001b[43m(\u001b[49m\u001b[43mbatch_i\u001b[49m\u001b[43m)\u001b[49m\n\u001b[32m     49\u001b[39m search_type = \u001b[38;5;28mself\u001b[39m.context.search_type\n\u001b[32m     50\u001b[39m ResultClass = _result_classes[search_type]\n",
      "\u001b[36mFile \u001b[39m\u001b[32mc:\\Users\\thais\\.virtualenvs\\climate\\Lib\\site-packages\\pyesgf\\search\\results.py:83\u001b[39m, in \u001b[36mResultSet.__get_batch\u001b[39m\u001b[34m(self, batch_i)\u001b[39m\n\u001b[32m     79\u001b[39m limit = \u001b[38;5;28mself\u001b[39m.batch_size\n\u001b[32m     81\u001b[39m query_dict = \u001b[38;5;28mself\u001b[39m.context._build_query()\n\u001b[32m     82\u001b[39m response = (\u001b[38;5;28;43mself\u001b[39;49m\u001b[43m.\u001b[49m\u001b[43mcontext\u001b[49m\u001b[43m.\u001b[49m\u001b[43mconnection\u001b[49m\n\u001b[32m---> \u001b[39m\u001b[32m83\u001b[39m \u001b[43m            \u001b[49m\u001b[43m.\u001b[49m\u001b[43msend_search\u001b[49m\u001b[43m(\u001b[49m\u001b[43mquery_dict\u001b[49m\u001b[43m,\u001b[49m\u001b[43m \u001b[49m\u001b[43mlimit\u001b[49m\u001b[43m=\u001b[49m\u001b[43mlimit\u001b[49m\u001b[43m,\u001b[49m\u001b[43m \u001b[49m\u001b[43moffset\u001b[49m\u001b[43m=\u001b[49m\u001b[43moffset\u001b[49m\u001b[43m,\u001b[49m\n\u001b[32m     84\u001b[39m \u001b[43m                         \u001b[49m\u001b[43mshards\u001b[49m\u001b[43m=\u001b[49m\u001b[38;5;28;43mself\u001b[39;49m\u001b[43m.\u001b[49m\u001b[43mcontext\u001b[49m\u001b[43m.\u001b[49m\u001b[43mshards\u001b[49m\u001b[43m)\u001b[49m)\n\u001b[32m     86\u001b[39m \u001b[38;5;28;01mif\u001b[39;00m \u001b[38;5;28mself\u001b[39m.__len_cache \u001b[38;5;129;01mis\u001b[39;00m \u001b[38;5;28;01mNone\u001b[39;00m:\n\u001b[32m     87\u001b[39m     \u001b[38;5;28mself\u001b[39m.__len_cache = response[\u001b[33m'\u001b[39m\u001b[33mresponse\u001b[39m\u001b[33m'\u001b[39m][\u001b[33m'\u001b[39m\u001b[33mnumFound\u001b[39m\u001b[33m'\u001b[39m]\n",
      "\u001b[36mFile \u001b[39m\u001b[32mc:\\Users\\thais\\.virtualenvs\\climate\\Lib\\site-packages\\pyesgf\\search\\connection.py:159\u001b[39m, in \u001b[36mSearchConnection.send_search\u001b[39m\u001b[34m(self, query_dict, limit, offset, shards)\u001b[39m\n\u001b[32m    157\u001b[39m \u001b[38;5;28;01mif\u001b[39;00m \u001b[38;5;129;01mnot\u001b[39;00m \u001b[38;5;28mself\u001b[39m._isopen:\n\u001b[32m    158\u001b[39m     \u001b[38;5;28mself\u001b[39m.open()\n\u001b[32m--> \u001b[39m\u001b[32m159\u001b[39m response = \u001b[38;5;28;43mself\u001b[39;49m\u001b[43m.\u001b[49m\u001b[43m_send_query\u001b[49m\u001b[43m(\u001b[49m\u001b[33;43m'\u001b[39;49m\u001b[33;43msearch\u001b[39;49m\u001b[33;43m'\u001b[39;49m\u001b[43m,\u001b[49m\u001b[43m \u001b[49m\u001b[43mfull_query\u001b[49m\u001b[43m)\u001b[49m\n\u001b[32m    160\u001b[39m ret = response.json()\n\u001b[32m    161\u001b[39m response.close()\n",
      "\u001b[36mFile \u001b[39m\u001b[32mc:\\Users\\thais\\.virtualenvs\\climate\\Lib\\site-packages\\pyesgf\\search\\connection.py:203\u001b[39m, in \u001b[36mSearchConnection._send_query\u001b[39m\u001b[34m(self, endpoint, full_query)\u001b[39m\n\u001b[32m    200\u001b[39m query_url = \u001b[33m'\u001b[39m\u001b[38;5;132;01m%s\u001b[39;00m\u001b[33m/\u001b[39m\u001b[38;5;132;01m%s\u001b[39;00m\u001b[33m?\u001b[39m\u001b[38;5;132;01m%s\u001b[39;00m\u001b[33m'\u001b[39m % (\u001b[38;5;28mself\u001b[39m.url, endpoint, urlencode(full_query))\n\u001b[32m    201\u001b[39m log.debug(\u001b[33m'\u001b[39m\u001b[33mQuery request is \u001b[39m\u001b[38;5;132;01m%s\u001b[39;00m\u001b[33m'\u001b[39m % query_url)\n\u001b[32m--> \u001b[39m\u001b[32m203\u001b[39m response = \u001b[38;5;28;43mself\u001b[39;49m\u001b[43m.\u001b[49m\u001b[43msession\u001b[49m\u001b[43m.\u001b[49m\u001b[43mget\u001b[49m\u001b[43m(\u001b[49m\u001b[43mquery_url\u001b[49m\u001b[43m,\u001b[49m\u001b[43m \u001b[49m\u001b[43mverify\u001b[49m\u001b[43m=\u001b[49m\u001b[38;5;28;43mself\u001b[39;49m\u001b[43m.\u001b[49m\u001b[43mverify\u001b[49m\u001b[43m,\u001b[49m\n\u001b[32m    204\u001b[39m \u001b[43m                            \u001b[49m\u001b[43mtimeout\u001b[49m\u001b[43m=\u001b[49m\u001b[38;5;28;43mself\u001b[39;49m\u001b[43m.\u001b[49m\u001b[43mtimeout\u001b[49m\u001b[43m)\u001b[49m\n\u001b[32m    205\u001b[39m \u001b[38;5;28;01mif\u001b[39;00m response.status_code == \u001b[32m400\u001b[39m:\n\u001b[32m    206\u001b[39m     \u001b[38;5;66;03m# If error code 400, use urllib to find the errors:\u001b[39;00m\n\u001b[32m    207\u001b[39m     errors = \u001b[38;5;28mset\u001b[39m(re.findall(\u001b[33mr\u001b[39m\u001b[33m\"\u001b[39m\u001b[33mInvalid HTTP query parameter=(\u001b[39m\u001b[33m\\\u001b[39m\u001b[33mw+)\u001b[39m\u001b[33m\"\u001b[39m,\n\u001b[32m    208\u001b[39m                  response.text))\n",
      "\u001b[36mFile \u001b[39m\u001b[32mc:\\Users\\thais\\.virtualenvs\\climate\\Lib\\site-packages\\requests\\sessions.py:602\u001b[39m, in \u001b[36mSession.get\u001b[39m\u001b[34m(self, url, **kwargs)\u001b[39m\n\u001b[32m    594\u001b[39m \u001b[38;5;250m\u001b[39m\u001b[33mr\u001b[39m\u001b[33;03m\"\"\"Sends a GET request. Returns :class:`Response` object.\u001b[39;00m\n\u001b[32m    595\u001b[39m \n\u001b[32m    596\u001b[39m \u001b[33;03m:param url: URL for the new :class:`Request` object.\u001b[39;00m\n\u001b[32m    597\u001b[39m \u001b[33;03m:param \\*\\*kwargs: Optional arguments that ``request`` takes.\u001b[39;00m\n\u001b[32m    598\u001b[39m \u001b[33;03m:rtype: requests.Response\u001b[39;00m\n\u001b[32m    599\u001b[39m \u001b[33;03m\"\"\"\u001b[39;00m\n\u001b[32m    601\u001b[39m kwargs.setdefault(\u001b[33m\"\u001b[39m\u001b[33mallow_redirects\u001b[39m\u001b[33m\"\u001b[39m, \u001b[38;5;28;01mTrue\u001b[39;00m)\n\u001b[32m--> \u001b[39m\u001b[32m602\u001b[39m \u001b[38;5;28;01mreturn\u001b[39;00m \u001b[38;5;28;43mself\u001b[39;49m\u001b[43m.\u001b[49m\u001b[43mrequest\u001b[49m\u001b[43m(\u001b[49m\u001b[33;43m\"\u001b[39;49m\u001b[33;43mGET\u001b[39;49m\u001b[33;43m\"\u001b[39;49m\u001b[43m,\u001b[49m\u001b[43m \u001b[49m\u001b[43murl\u001b[49m\u001b[43m,\u001b[49m\u001b[43m \u001b[49m\u001b[43m*\u001b[49m\u001b[43m*\u001b[49m\u001b[43mkwargs\u001b[49m\u001b[43m)\u001b[49m\n",
      "\u001b[36mFile \u001b[39m\u001b[32mc:\\Users\\thais\\.virtualenvs\\climate\\Lib\\site-packages\\requests\\sessions.py:589\u001b[39m, in \u001b[36mSession.request\u001b[39m\u001b[34m(self, method, url, params, data, headers, cookies, files, auth, timeout, allow_redirects, proxies, hooks, stream, verify, cert, json)\u001b[39m\n\u001b[32m    584\u001b[39m send_kwargs = {\n\u001b[32m    585\u001b[39m     \u001b[33m\"\u001b[39m\u001b[33mtimeout\u001b[39m\u001b[33m\"\u001b[39m: timeout,\n\u001b[32m    586\u001b[39m     \u001b[33m\"\u001b[39m\u001b[33mallow_redirects\u001b[39m\u001b[33m\"\u001b[39m: allow_redirects,\n\u001b[32m    587\u001b[39m }\n\u001b[32m    588\u001b[39m send_kwargs.update(settings)\n\u001b[32m--> \u001b[39m\u001b[32m589\u001b[39m resp = \u001b[38;5;28;43mself\u001b[39;49m\u001b[43m.\u001b[49m\u001b[43msend\u001b[49m\u001b[43m(\u001b[49m\u001b[43mprep\u001b[49m\u001b[43m,\u001b[49m\u001b[43m \u001b[49m\u001b[43m*\u001b[49m\u001b[43m*\u001b[49m\u001b[43msend_kwargs\u001b[49m\u001b[43m)\u001b[49m\n\u001b[32m    591\u001b[39m \u001b[38;5;28;01mreturn\u001b[39;00m resp\n",
      "\u001b[36mFile \u001b[39m\u001b[32mc:\\Users\\thais\\.virtualenvs\\climate\\Lib\\site-packages\\requests\\sessions.py:703\u001b[39m, in \u001b[36mSession.send\u001b[39m\u001b[34m(self, request, **kwargs)\u001b[39m\n\u001b[32m    700\u001b[39m start = preferred_clock()\n\u001b[32m    702\u001b[39m \u001b[38;5;66;03m# Send the request\u001b[39;00m\n\u001b[32m--> \u001b[39m\u001b[32m703\u001b[39m r = \u001b[43madapter\u001b[49m\u001b[43m.\u001b[49m\u001b[43msend\u001b[49m\u001b[43m(\u001b[49m\u001b[43mrequest\u001b[49m\u001b[43m,\u001b[49m\u001b[43m \u001b[49m\u001b[43m*\u001b[49m\u001b[43m*\u001b[49m\u001b[43mkwargs\u001b[49m\u001b[43m)\u001b[49m\n\u001b[32m    705\u001b[39m \u001b[38;5;66;03m# Total elapsed time of the request (approximately)\u001b[39;00m\n\u001b[32m    706\u001b[39m elapsed = preferred_clock() - start\n",
      "\u001b[36mFile \u001b[39m\u001b[32mc:\\Users\\thais\\.virtualenvs\\climate\\Lib\\site-packages\\requests\\adapters.py:667\u001b[39m, in \u001b[36mHTTPAdapter.send\u001b[39m\u001b[34m(self, request, stream, timeout, verify, cert, proxies)\u001b[39m\n\u001b[32m    664\u001b[39m     timeout = TimeoutSauce(connect=timeout, read=timeout)\n\u001b[32m    666\u001b[39m \u001b[38;5;28;01mtry\u001b[39;00m:\n\u001b[32m--> \u001b[39m\u001b[32m667\u001b[39m     resp = \u001b[43mconn\u001b[49m\u001b[43m.\u001b[49m\u001b[43murlopen\u001b[49m\u001b[43m(\u001b[49m\n\u001b[32m    668\u001b[39m \u001b[43m        \u001b[49m\u001b[43mmethod\u001b[49m\u001b[43m=\u001b[49m\u001b[43mrequest\u001b[49m\u001b[43m.\u001b[49m\u001b[43mmethod\u001b[49m\u001b[43m,\u001b[49m\n\u001b[32m    669\u001b[39m \u001b[43m        \u001b[49m\u001b[43murl\u001b[49m\u001b[43m=\u001b[49m\u001b[43murl\u001b[49m\u001b[43m,\u001b[49m\n\u001b[32m    670\u001b[39m \u001b[43m        \u001b[49m\u001b[43mbody\u001b[49m\u001b[43m=\u001b[49m\u001b[43mrequest\u001b[49m\u001b[43m.\u001b[49m\u001b[43mbody\u001b[49m\u001b[43m,\u001b[49m\n\u001b[32m    671\u001b[39m \u001b[43m        \u001b[49m\u001b[43mheaders\u001b[49m\u001b[43m=\u001b[49m\u001b[43mrequest\u001b[49m\u001b[43m.\u001b[49m\u001b[43mheaders\u001b[49m\u001b[43m,\u001b[49m\n\u001b[32m    672\u001b[39m \u001b[43m        \u001b[49m\u001b[43mredirect\u001b[49m\u001b[43m=\u001b[49m\u001b[38;5;28;43;01mFalse\u001b[39;49;00m\u001b[43m,\u001b[49m\n\u001b[32m    673\u001b[39m \u001b[43m        \u001b[49m\u001b[43massert_same_host\u001b[49m\u001b[43m=\u001b[49m\u001b[38;5;28;43;01mFalse\u001b[39;49;00m\u001b[43m,\u001b[49m\n\u001b[32m    674\u001b[39m \u001b[43m        \u001b[49m\u001b[43mpreload_content\u001b[49m\u001b[43m=\u001b[49m\u001b[38;5;28;43;01mFalse\u001b[39;49;00m\u001b[43m,\u001b[49m\n\u001b[32m    675\u001b[39m \u001b[43m        \u001b[49m\u001b[43mdecode_content\u001b[49m\u001b[43m=\u001b[49m\u001b[38;5;28;43;01mFalse\u001b[39;49;00m\u001b[43m,\u001b[49m\n\u001b[32m    676\u001b[39m \u001b[43m        \u001b[49m\u001b[43mretries\u001b[49m\u001b[43m=\u001b[49m\u001b[38;5;28;43mself\u001b[39;49m\u001b[43m.\u001b[49m\u001b[43mmax_retries\u001b[49m\u001b[43m,\u001b[49m\n\u001b[32m    677\u001b[39m \u001b[43m        \u001b[49m\u001b[43mtimeout\u001b[49m\u001b[43m=\u001b[49m\u001b[43mtimeout\u001b[49m\u001b[43m,\u001b[49m\n\u001b[32m    678\u001b[39m \u001b[43m        \u001b[49m\u001b[43mchunked\u001b[49m\u001b[43m=\u001b[49m\u001b[43mchunked\u001b[49m\u001b[43m,\u001b[49m\n\u001b[32m    679\u001b[39m \u001b[43m    \u001b[49m\u001b[43m)\u001b[49m\n\u001b[32m    681\u001b[39m \u001b[38;5;28;01mexcept\u001b[39;00m (ProtocolError, \u001b[38;5;167;01mOSError\u001b[39;00m) \u001b[38;5;28;01mas\u001b[39;00m err:\n\u001b[32m    682\u001b[39m     \u001b[38;5;28;01mraise\u001b[39;00m \u001b[38;5;167;01mConnectionError\u001b[39;00m(err, request=request)\n",
      "\u001b[36mFile \u001b[39m\u001b[32mc:\\Users\\thais\\.virtualenvs\\climate\\Lib\\site-packages\\urllib3\\connectionpool.py:787\u001b[39m, in \u001b[36mHTTPConnectionPool.urlopen\u001b[39m\u001b[34m(self, method, url, body, headers, retries, redirect, assert_same_host, timeout, pool_timeout, release_conn, chunked, body_pos, preload_content, decode_content, **response_kw)\u001b[39m\n\u001b[32m    784\u001b[39m response_conn = conn \u001b[38;5;28;01mif\u001b[39;00m \u001b[38;5;129;01mnot\u001b[39;00m release_conn \u001b[38;5;28;01melse\u001b[39;00m \u001b[38;5;28;01mNone\u001b[39;00m\n\u001b[32m    786\u001b[39m \u001b[38;5;66;03m# Make the request on the HTTPConnection object\u001b[39;00m\n\u001b[32m--> \u001b[39m\u001b[32m787\u001b[39m response = \u001b[38;5;28;43mself\u001b[39;49m\u001b[43m.\u001b[49m\u001b[43m_make_request\u001b[49m\u001b[43m(\u001b[49m\n\u001b[32m    788\u001b[39m \u001b[43m    \u001b[49m\u001b[43mconn\u001b[49m\u001b[43m,\u001b[49m\n\u001b[32m    789\u001b[39m \u001b[43m    \u001b[49m\u001b[43mmethod\u001b[49m\u001b[43m,\u001b[49m\n\u001b[32m    790\u001b[39m \u001b[43m    \u001b[49m\u001b[43murl\u001b[49m\u001b[43m,\u001b[49m\n\u001b[32m    791\u001b[39m \u001b[43m    \u001b[49m\u001b[43mtimeout\u001b[49m\u001b[43m=\u001b[49m\u001b[43mtimeout_obj\u001b[49m\u001b[43m,\u001b[49m\n\u001b[32m    792\u001b[39m \u001b[43m    \u001b[49m\u001b[43mbody\u001b[49m\u001b[43m=\u001b[49m\u001b[43mbody\u001b[49m\u001b[43m,\u001b[49m\n\u001b[32m    793\u001b[39m \u001b[43m    \u001b[49m\u001b[43mheaders\u001b[49m\u001b[43m=\u001b[49m\u001b[43mheaders\u001b[49m\u001b[43m,\u001b[49m\n\u001b[32m    794\u001b[39m \u001b[43m    \u001b[49m\u001b[43mchunked\u001b[49m\u001b[43m=\u001b[49m\u001b[43mchunked\u001b[49m\u001b[43m,\u001b[49m\n\u001b[32m    795\u001b[39m \u001b[43m    \u001b[49m\u001b[43mretries\u001b[49m\u001b[43m=\u001b[49m\u001b[43mretries\u001b[49m\u001b[43m,\u001b[49m\n\u001b[32m    796\u001b[39m \u001b[43m    \u001b[49m\u001b[43mresponse_conn\u001b[49m\u001b[43m=\u001b[49m\u001b[43mresponse_conn\u001b[49m\u001b[43m,\u001b[49m\n\u001b[32m    797\u001b[39m \u001b[43m    \u001b[49m\u001b[43mpreload_content\u001b[49m\u001b[43m=\u001b[49m\u001b[43mpreload_content\u001b[49m\u001b[43m,\u001b[49m\n\u001b[32m    798\u001b[39m \u001b[43m    \u001b[49m\u001b[43mdecode_content\u001b[49m\u001b[43m=\u001b[49m\u001b[43mdecode_content\u001b[49m\u001b[43m,\u001b[49m\n\u001b[32m    799\u001b[39m \u001b[43m    \u001b[49m\u001b[43m*\u001b[49m\u001b[43m*\u001b[49m\u001b[43mresponse_kw\u001b[49m\u001b[43m,\u001b[49m\n\u001b[32m    800\u001b[39m \u001b[43m\u001b[49m\u001b[43m)\u001b[49m\n\u001b[32m    802\u001b[39m \u001b[38;5;66;03m# Everything went great!\u001b[39;00m\n\u001b[32m    803\u001b[39m clean_exit = \u001b[38;5;28;01mTrue\u001b[39;00m\n",
      "\u001b[36mFile \u001b[39m\u001b[32mc:\\Users\\thais\\.virtualenvs\\climate\\Lib\\site-packages\\urllib3\\connectionpool.py:464\u001b[39m, in \u001b[36mHTTPConnectionPool._make_request\u001b[39m\u001b[34m(self, conn, method, url, body, headers, retries, timeout, chunked, response_conn, preload_content, decode_content, enforce_content_length)\u001b[39m\n\u001b[32m    461\u001b[39m \u001b[38;5;28;01mtry\u001b[39;00m:\n\u001b[32m    462\u001b[39m     \u001b[38;5;66;03m# Trigger any extra validation we need to do.\u001b[39;00m\n\u001b[32m    463\u001b[39m     \u001b[38;5;28;01mtry\u001b[39;00m:\n\u001b[32m--> \u001b[39m\u001b[32m464\u001b[39m         \u001b[38;5;28;43mself\u001b[39;49m\u001b[43m.\u001b[49m\u001b[43m_validate_conn\u001b[49m\u001b[43m(\u001b[49m\u001b[43mconn\u001b[49m\u001b[43m)\u001b[49m\n\u001b[32m    465\u001b[39m     \u001b[38;5;28;01mexcept\u001b[39;00m (SocketTimeout, BaseSSLError) \u001b[38;5;28;01mas\u001b[39;00m e:\n\u001b[32m    466\u001b[39m         \u001b[38;5;28mself\u001b[39m._raise_timeout(err=e, url=url, timeout_value=conn.timeout)\n",
      "\u001b[36mFile \u001b[39m\u001b[32mc:\\Users\\thais\\.virtualenvs\\climate\\Lib\\site-packages\\urllib3\\connectionpool.py:1093\u001b[39m, in \u001b[36mHTTPSConnectionPool._validate_conn\u001b[39m\u001b[34m(self, conn)\u001b[39m\n\u001b[32m   1091\u001b[39m \u001b[38;5;66;03m# Force connect early to allow us to validate the connection.\u001b[39;00m\n\u001b[32m   1092\u001b[39m \u001b[38;5;28;01mif\u001b[39;00m conn.is_closed:\n\u001b[32m-> \u001b[39m\u001b[32m1093\u001b[39m     \u001b[43mconn\u001b[49m\u001b[43m.\u001b[49m\u001b[43mconnect\u001b[49m\u001b[43m(\u001b[49m\u001b[43m)\u001b[49m\n\u001b[32m   1095\u001b[39m \u001b[38;5;66;03m# TODO revise this, see https://github.com/urllib3/urllib3/issues/2791\u001b[39;00m\n\u001b[32m   1096\u001b[39m \u001b[38;5;28;01mif\u001b[39;00m \u001b[38;5;129;01mnot\u001b[39;00m conn.is_verified \u001b[38;5;129;01mand\u001b[39;00m \u001b[38;5;129;01mnot\u001b[39;00m conn.proxy_is_verified:\n",
      "\u001b[36mFile \u001b[39m\u001b[32mc:\\Users\\thais\\.virtualenvs\\climate\\Lib\\site-packages\\urllib3\\connection.py:790\u001b[39m, in \u001b[36mHTTPSConnection.connect\u001b[39m\u001b[34m(self)\u001b[39m\n\u001b[32m    787\u001b[39m     \u001b[38;5;66;03m# Remove trailing '.' from fqdn hostnames to allow certificate validation\u001b[39;00m\n\u001b[32m    788\u001b[39m     server_hostname_rm_dot = server_hostname.rstrip(\u001b[33m\"\u001b[39m\u001b[33m.\u001b[39m\u001b[33m\"\u001b[39m)\n\u001b[32m--> \u001b[39m\u001b[32m790\u001b[39m     sock_and_verified = \u001b[43m_ssl_wrap_socket_and_match_hostname\u001b[49m\u001b[43m(\u001b[49m\n\u001b[32m    791\u001b[39m \u001b[43m        \u001b[49m\u001b[43msock\u001b[49m\u001b[43m=\u001b[49m\u001b[43msock\u001b[49m\u001b[43m,\u001b[49m\n\u001b[32m    792\u001b[39m \u001b[43m        \u001b[49m\u001b[43mcert_reqs\u001b[49m\u001b[43m=\u001b[49m\u001b[38;5;28;43mself\u001b[39;49m\u001b[43m.\u001b[49m\u001b[43mcert_reqs\u001b[49m\u001b[43m,\u001b[49m\n\u001b[32m    793\u001b[39m \u001b[43m        \u001b[49m\u001b[43mssl_version\u001b[49m\u001b[43m=\u001b[49m\u001b[38;5;28;43mself\u001b[39;49m\u001b[43m.\u001b[49m\u001b[43mssl_version\u001b[49m\u001b[43m,\u001b[49m\n\u001b[32m    794\u001b[39m \u001b[43m        \u001b[49m\u001b[43mssl_minimum_version\u001b[49m\u001b[43m=\u001b[49m\u001b[38;5;28;43mself\u001b[39;49m\u001b[43m.\u001b[49m\u001b[43mssl_minimum_version\u001b[49m\u001b[43m,\u001b[49m\n\u001b[32m    795\u001b[39m \u001b[43m        \u001b[49m\u001b[43mssl_maximum_version\u001b[49m\u001b[43m=\u001b[49m\u001b[38;5;28;43mself\u001b[39;49m\u001b[43m.\u001b[49m\u001b[43mssl_maximum_version\u001b[49m\u001b[43m,\u001b[49m\n\u001b[32m    796\u001b[39m \u001b[43m        \u001b[49m\u001b[43mca_certs\u001b[49m\u001b[43m=\u001b[49m\u001b[38;5;28;43mself\u001b[39;49m\u001b[43m.\u001b[49m\u001b[43mca_certs\u001b[49m\u001b[43m,\u001b[49m\n\u001b[32m    797\u001b[39m \u001b[43m        \u001b[49m\u001b[43mca_cert_dir\u001b[49m\u001b[43m=\u001b[49m\u001b[38;5;28;43mself\u001b[39;49m\u001b[43m.\u001b[49m\u001b[43mca_cert_dir\u001b[49m\u001b[43m,\u001b[49m\n\u001b[32m    798\u001b[39m \u001b[43m        \u001b[49m\u001b[43mca_cert_data\u001b[49m\u001b[43m=\u001b[49m\u001b[38;5;28;43mself\u001b[39;49m\u001b[43m.\u001b[49m\u001b[43mca_cert_data\u001b[49m\u001b[43m,\u001b[49m\n\u001b[32m    799\u001b[39m \u001b[43m        \u001b[49m\u001b[43mcert_file\u001b[49m\u001b[43m=\u001b[49m\u001b[38;5;28;43mself\u001b[39;49m\u001b[43m.\u001b[49m\u001b[43mcert_file\u001b[49m\u001b[43m,\u001b[49m\n\u001b[32m    800\u001b[39m \u001b[43m        \u001b[49m\u001b[43mkey_file\u001b[49m\u001b[43m=\u001b[49m\u001b[38;5;28;43mself\u001b[39;49m\u001b[43m.\u001b[49m\u001b[43mkey_file\u001b[49m\u001b[43m,\u001b[49m\n\u001b[32m    801\u001b[39m \u001b[43m        \u001b[49m\u001b[43mkey_password\u001b[49m\u001b[43m=\u001b[49m\u001b[38;5;28;43mself\u001b[39;49m\u001b[43m.\u001b[49m\u001b[43mkey_password\u001b[49m\u001b[43m,\u001b[49m\n\u001b[32m    802\u001b[39m \u001b[43m        \u001b[49m\u001b[43mserver_hostname\u001b[49m\u001b[43m=\u001b[49m\u001b[43mserver_hostname_rm_dot\u001b[49m\u001b[43m,\u001b[49m\n\u001b[32m    803\u001b[39m \u001b[43m        \u001b[49m\u001b[43mssl_context\u001b[49m\u001b[43m=\u001b[49m\u001b[38;5;28;43mself\u001b[39;49m\u001b[43m.\u001b[49m\u001b[43mssl_context\u001b[49m\u001b[43m,\u001b[49m\n\u001b[32m    804\u001b[39m \u001b[43m        \u001b[49m\u001b[43mtls_in_tls\u001b[49m\u001b[43m=\u001b[49m\u001b[43mtls_in_tls\u001b[49m\u001b[43m,\u001b[49m\n\u001b[32m    805\u001b[39m \u001b[43m        \u001b[49m\u001b[43massert_hostname\u001b[49m\u001b[43m=\u001b[49m\u001b[38;5;28;43mself\u001b[39;49m\u001b[43m.\u001b[49m\u001b[43massert_hostname\u001b[49m\u001b[43m,\u001b[49m\n\u001b[32m    806\u001b[39m \u001b[43m        \u001b[49m\u001b[43massert_fingerprint\u001b[49m\u001b[43m=\u001b[49m\u001b[38;5;28;43mself\u001b[39;49m\u001b[43m.\u001b[49m\u001b[43massert_fingerprint\u001b[49m\u001b[43m,\u001b[49m\n\u001b[32m    807\u001b[39m \u001b[43m    \u001b[49m\u001b[43m)\u001b[49m\n\u001b[32m    808\u001b[39m     \u001b[38;5;28mself\u001b[39m.sock = sock_and_verified.socket\n\u001b[32m    810\u001b[39m \u001b[38;5;66;03m# If an error occurs during connection/handshake we may need to release\u001b[39;00m\n\u001b[32m    811\u001b[39m \u001b[38;5;66;03m# our lock so another connection can probe the origin.\u001b[39;00m\n",
      "\u001b[36mFile \u001b[39m\u001b[32mc:\\Users\\thais\\.virtualenvs\\climate\\Lib\\site-packages\\urllib3\\connection.py:969\u001b[39m, in \u001b[36m_ssl_wrap_socket_and_match_hostname\u001b[39m\u001b[34m(sock, cert_reqs, ssl_version, ssl_minimum_version, ssl_maximum_version, cert_file, key_file, key_password, ca_certs, ca_cert_dir, ca_cert_data, assert_hostname, assert_fingerprint, server_hostname, ssl_context, tls_in_tls)\u001b[39m\n\u001b[32m    966\u001b[39m     \u001b[38;5;28;01mif\u001b[39;00m is_ipaddress(normalized):\n\u001b[32m    967\u001b[39m         server_hostname = normalized\n\u001b[32m--> \u001b[39m\u001b[32m969\u001b[39m ssl_sock = \u001b[43mssl_wrap_socket\u001b[49m\u001b[43m(\u001b[49m\n\u001b[32m    970\u001b[39m \u001b[43m    \u001b[49m\u001b[43msock\u001b[49m\u001b[43m=\u001b[49m\u001b[43msock\u001b[49m\u001b[43m,\u001b[49m\n\u001b[32m    971\u001b[39m \u001b[43m    \u001b[49m\u001b[43mkeyfile\u001b[49m\u001b[43m=\u001b[49m\u001b[43mkey_file\u001b[49m\u001b[43m,\u001b[49m\n\u001b[32m    972\u001b[39m \u001b[43m    \u001b[49m\u001b[43mcertfile\u001b[49m\u001b[43m=\u001b[49m\u001b[43mcert_file\u001b[49m\u001b[43m,\u001b[49m\n\u001b[32m    973\u001b[39m \u001b[43m    \u001b[49m\u001b[43mkey_password\u001b[49m\u001b[43m=\u001b[49m\u001b[43mkey_password\u001b[49m\u001b[43m,\u001b[49m\n\u001b[32m    974\u001b[39m \u001b[43m    \u001b[49m\u001b[43mca_certs\u001b[49m\u001b[43m=\u001b[49m\u001b[43mca_certs\u001b[49m\u001b[43m,\u001b[49m\n\u001b[32m    975\u001b[39m \u001b[43m    \u001b[49m\u001b[43mca_cert_dir\u001b[49m\u001b[43m=\u001b[49m\u001b[43mca_cert_dir\u001b[49m\u001b[43m,\u001b[49m\n\u001b[32m    976\u001b[39m \u001b[43m    \u001b[49m\u001b[43mca_cert_data\u001b[49m\u001b[43m=\u001b[49m\u001b[43mca_cert_data\u001b[49m\u001b[43m,\u001b[49m\n\u001b[32m    977\u001b[39m \u001b[43m    \u001b[49m\u001b[43mserver_hostname\u001b[49m\u001b[43m=\u001b[49m\u001b[43mserver_hostname\u001b[49m\u001b[43m,\u001b[49m\n\u001b[32m    978\u001b[39m \u001b[43m    \u001b[49m\u001b[43mssl_context\u001b[49m\u001b[43m=\u001b[49m\u001b[43mcontext\u001b[49m\u001b[43m,\u001b[49m\n\u001b[32m    979\u001b[39m \u001b[43m    \u001b[49m\u001b[43mtls_in_tls\u001b[49m\u001b[43m=\u001b[49m\u001b[43mtls_in_tls\u001b[49m\u001b[43m,\u001b[49m\n\u001b[32m    980\u001b[39m \u001b[43m\u001b[49m\u001b[43m)\u001b[49m\n\u001b[32m    982\u001b[39m \u001b[38;5;28;01mtry\u001b[39;00m:\n\u001b[32m    983\u001b[39m     \u001b[38;5;28;01mif\u001b[39;00m assert_fingerprint:\n",
      "\u001b[36mFile \u001b[39m\u001b[32mc:\\Users\\thais\\.virtualenvs\\climate\\Lib\\site-packages\\urllib3\\util\\ssl_.py:480\u001b[39m, in \u001b[36mssl_wrap_socket\u001b[39m\u001b[34m(sock, keyfile, certfile, cert_reqs, ca_certs, server_hostname, ssl_version, ciphers, ssl_context, ca_cert_dir, key_password, ca_cert_data, tls_in_tls)\u001b[39m\n\u001b[32m    476\u001b[39m         context.load_cert_chain(certfile, keyfile, key_password)\n\u001b[32m    478\u001b[39m context.set_alpn_protocols(ALPN_PROTOCOLS)\n\u001b[32m--> \u001b[39m\u001b[32m480\u001b[39m ssl_sock = \u001b[43m_ssl_wrap_socket_impl\u001b[49m\u001b[43m(\u001b[49m\u001b[43msock\u001b[49m\u001b[43m,\u001b[49m\u001b[43m \u001b[49m\u001b[43mcontext\u001b[49m\u001b[43m,\u001b[49m\u001b[43m \u001b[49m\u001b[43mtls_in_tls\u001b[49m\u001b[43m,\u001b[49m\u001b[43m \u001b[49m\u001b[43mserver_hostname\u001b[49m\u001b[43m)\u001b[49m\n\u001b[32m    481\u001b[39m \u001b[38;5;28;01mreturn\u001b[39;00m ssl_sock\n",
      "\u001b[36mFile \u001b[39m\u001b[32mc:\\Users\\thais\\.virtualenvs\\climate\\Lib\\site-packages\\urllib3\\util\\ssl_.py:524\u001b[39m, in \u001b[36m_ssl_wrap_socket_impl\u001b[39m\u001b[34m(sock, ssl_context, tls_in_tls, server_hostname)\u001b[39m\n\u001b[32m    521\u001b[39m     SSLTransport._validate_ssl_context_for_tls_in_tls(ssl_context)\n\u001b[32m    522\u001b[39m     \u001b[38;5;28;01mreturn\u001b[39;00m SSLTransport(sock, ssl_context, server_hostname)\n\u001b[32m--> \u001b[39m\u001b[32m524\u001b[39m \u001b[38;5;28;01mreturn\u001b[39;00m \u001b[43mssl_context\u001b[49m\u001b[43m.\u001b[49m\u001b[43mwrap_socket\u001b[49m\u001b[43m(\u001b[49m\u001b[43msock\u001b[49m\u001b[43m,\u001b[49m\u001b[43m \u001b[49m\u001b[43mserver_hostname\u001b[49m\u001b[43m=\u001b[49m\u001b[43mserver_hostname\u001b[49m\u001b[43m)\u001b[49m\n",
      "\u001b[36mFile \u001b[39m\u001b[32m~\\AppData\\Local\\Programs\\Python\\Python311\\Lib\\ssl.py:517\u001b[39m, in \u001b[36mSSLContext.wrap_socket\u001b[39m\u001b[34m(self, sock, server_side, do_handshake_on_connect, suppress_ragged_eofs, server_hostname, session)\u001b[39m\n\u001b[32m    511\u001b[39m \u001b[38;5;28;01mdef\u001b[39;00m\u001b[38;5;250m \u001b[39m\u001b[34mwrap_socket\u001b[39m(\u001b[38;5;28mself\u001b[39m, sock, server_side=\u001b[38;5;28;01mFalse\u001b[39;00m,\n\u001b[32m    512\u001b[39m                 do_handshake_on_connect=\u001b[38;5;28;01mTrue\u001b[39;00m,\n\u001b[32m    513\u001b[39m                 suppress_ragged_eofs=\u001b[38;5;28;01mTrue\u001b[39;00m,\n\u001b[32m    514\u001b[39m                 server_hostname=\u001b[38;5;28;01mNone\u001b[39;00m, session=\u001b[38;5;28;01mNone\u001b[39;00m):\n\u001b[32m    515\u001b[39m     \u001b[38;5;66;03m# SSLSocket class handles server_hostname encoding before it calls\u001b[39;00m\n\u001b[32m    516\u001b[39m     \u001b[38;5;66;03m# ctx._wrap_socket()\u001b[39;00m\n\u001b[32m--> \u001b[39m\u001b[32m517\u001b[39m     \u001b[38;5;28;01mreturn\u001b[39;00m \u001b[38;5;28;43mself\u001b[39;49m\u001b[43m.\u001b[49m\u001b[43msslsocket_class\u001b[49m\u001b[43m.\u001b[49m\u001b[43m_create\u001b[49m\u001b[43m(\u001b[49m\n\u001b[32m    518\u001b[39m \u001b[43m        \u001b[49m\u001b[43msock\u001b[49m\u001b[43m=\u001b[49m\u001b[43msock\u001b[49m\u001b[43m,\u001b[49m\n\u001b[32m    519\u001b[39m \u001b[43m        \u001b[49m\u001b[43mserver_side\u001b[49m\u001b[43m=\u001b[49m\u001b[43mserver_side\u001b[49m\u001b[43m,\u001b[49m\n\u001b[32m    520\u001b[39m \u001b[43m        \u001b[49m\u001b[43mdo_handshake_on_connect\u001b[49m\u001b[43m=\u001b[49m\u001b[43mdo_handshake_on_connect\u001b[49m\u001b[43m,\u001b[49m\n\u001b[32m    521\u001b[39m \u001b[43m        \u001b[49m\u001b[43msuppress_ragged_eofs\u001b[49m\u001b[43m=\u001b[49m\u001b[43msuppress_ragged_eofs\u001b[49m\u001b[43m,\u001b[49m\n\u001b[32m    522\u001b[39m \u001b[43m        \u001b[49m\u001b[43mserver_hostname\u001b[49m\u001b[43m=\u001b[49m\u001b[43mserver_hostname\u001b[49m\u001b[43m,\u001b[49m\n\u001b[32m    523\u001b[39m \u001b[43m        \u001b[49m\u001b[43mcontext\u001b[49m\u001b[43m=\u001b[49m\u001b[38;5;28;43mself\u001b[39;49m\u001b[43m,\u001b[49m\n\u001b[32m    524\u001b[39m \u001b[43m        \u001b[49m\u001b[43msession\u001b[49m\u001b[43m=\u001b[49m\u001b[43msession\u001b[49m\n\u001b[32m    525\u001b[39m \u001b[43m    \u001b[49m\u001b[43m)\u001b[49m\n",
      "\u001b[36mFile \u001b[39m\u001b[32m~\\AppData\\Local\\Programs\\Python\\Python311\\Lib\\ssl.py:1075\u001b[39m, in \u001b[36mSSLSocket._create\u001b[39m\u001b[34m(cls, sock, server_side, do_handshake_on_connect, suppress_ragged_eofs, server_hostname, context, session)\u001b[39m\n\u001b[32m   1072\u001b[39m         \u001b[38;5;28;01mif\u001b[39;00m timeout == \u001b[32m0.0\u001b[39m:\n\u001b[32m   1073\u001b[39m             \u001b[38;5;66;03m# non-blocking\u001b[39;00m\n\u001b[32m   1074\u001b[39m             \u001b[38;5;28;01mraise\u001b[39;00m \u001b[38;5;167;01mValueError\u001b[39;00m(\u001b[33m\"\u001b[39m\u001b[33mdo_handshake_on_connect should not be specified for non-blocking sockets\u001b[39m\u001b[33m\"\u001b[39m)\n\u001b[32m-> \u001b[39m\u001b[32m1075\u001b[39m         \u001b[38;5;28;43mself\u001b[39;49m\u001b[43m.\u001b[49m\u001b[43mdo_handshake\u001b[49m\u001b[43m(\u001b[49m\u001b[43m)\u001b[49m\n\u001b[32m   1076\u001b[39m \u001b[38;5;28;01mexcept\u001b[39;00m (\u001b[38;5;167;01mOSError\u001b[39;00m, \u001b[38;5;167;01mValueError\u001b[39;00m):\n\u001b[32m   1077\u001b[39m     \u001b[38;5;28mself\u001b[39m.close()\n",
      "\u001b[36mFile \u001b[39m\u001b[32m~\\AppData\\Local\\Programs\\Python\\Python311\\Lib\\ssl.py:1346\u001b[39m, in \u001b[36mSSLSocket.do_handshake\u001b[39m\u001b[34m(self, block)\u001b[39m\n\u001b[32m   1344\u001b[39m     \u001b[38;5;28;01mif\u001b[39;00m timeout == \u001b[32m0.0\u001b[39m \u001b[38;5;129;01mand\u001b[39;00m block:\n\u001b[32m   1345\u001b[39m         \u001b[38;5;28mself\u001b[39m.settimeout(\u001b[38;5;28;01mNone\u001b[39;00m)\n\u001b[32m-> \u001b[39m\u001b[32m1346\u001b[39m     \u001b[38;5;28mself\u001b[39m._sslobj.do_handshake()\n\u001b[32m   1347\u001b[39m \u001b[38;5;28;01mfinally\u001b[39;00m:\n\u001b[32m   1348\u001b[39m     \u001b[38;5;28mself\u001b[39m.settimeout(timeout)\n",
      "\u001b[31mKeyboardInterrupt\u001b[39m: "
     ]
    }
   ],
   "source": [
    "variaveis = [\"tas\", \"tasmin\", \"tasmax\", \"tos\", \"ps\", \"pr\"]  # exemplo com 6 variáveis\n",
    "modelos_por_variavel = defaultdict(set)\n",
    "\n",
    "conn = SearchConnection(\"https://esgf-node.llnl.gov/esg-search\", distrib=False)\n",
    "\n",
    "for var in variaveis:\n",
    "    ctx = conn.new_context(\n",
    "        project=\"CMIP6\",\n",
    "        experiment_id=[\"historical\", \"ssp245\", \"ssp585\"],\n",
    "        variable_id=var,\n",
    "        frequency=\"mon\",\n",
    "        replica=False,\n",
    "        latest=True\n",
    "    )\n",
    "\n",
    "    results = list(ctx.search(ignore_facet_check=True))\n",
    "    for d in results:\n",
    "        modelo = d.json.get(\"source_id\", [None])[0]\n",
    "        if modelo:\n",
    "            modelos_por_variavel[var].add(modelo)\n",
    "\n",
    "# Exibindo os resultados\n",
    "for var, modelos in modelos_por_variavel.items():\n",
    "    print(f\"{var}: {sorted(modelos)}\")"
   ]
  },
  {
   "cell_type": "code",
   "execution_count": null,
   "id": "beee8ac4",
   "metadata": {},
   "outputs": [],
   "source": [
    "EC-Earth3 (1401)\n",
    "CanESM5 (1300)\n",
    "MIROC6 (1201)\n",
    "ACCESS-ESM1-5 (760)\n",
    "MPI-ESM1-2-LR (709)\n",
    "GISS-E2-1-G (561)\n",
    "MIROC-ES2L (558)\n",
    "CanESM5-1 (512)\n",
    "IPSL-CM6A-LR (397)\n",
    "CNRM-CM6-1 (297)\n",
    "UKESM1-0-LL (286)\n",
    "MRI-ESM2-0 (216)\n",
    "GISS-E2-1-H (199)\n",
    "EC-Earth3-Veg (193)\n",
    "ACCESS-CM2 (187)\n",
    "CNRM-ESM2-1 (178)\n",
    "NorCPM1 (172)\n",
    "EC-Earth3-CC (134)\n",
    "CESM2 (132)\n",
    "FGOALS-g3 (120)\n",
    "NorESM2-LM (114)\n",
    "E3SM-1-0 (111)\n",
    "MPI-ESM1-2-HR (110)\n",
    "E3SM-2-0 (104)\n",
    "HadGEM3-GC31-LL (104)\n",
    "GISS-E2-2-G (99)\n",
    "CESM2-WACCM (96)\n",
    "INM-CM5-0 (96)\n",
    "NESM3 (88)\n",
    "KACE-1-0-G (86)\n",
    "CMCC-CM2-SR5 (84)\n",
    "EC-Earth3-Veg-LR (66)\n",
    "HadGEM3-GC31-MM (62)\n",
    "GFDL-ESM4 (58)\n",
    "AWI-CM-1-1-MR (56)\n",
    "BCC-CSM2-MR (46)\n",
    "NorESM2-MM (44)\n",
    "FGOALS-f3-L (40)\n",
    "ICON-ESM-LR (40)\n",
    "CAS-ESM2-0 (39)\n",
    "MIROC-ES2H (39)\n",
    "CAMS-CSM1-0 (37)\n",
    "CanESM5-CanOE (36)\n",
    "FIO-ESM-2-0 (34)\n",
    "BCC-ESM1 (30)\n",
    "CESM2-FV2 (30)\n",
    "E3SM-2-0-NARRM (30)\n",
    "E3SM-1-1 (29)\n",
    "GFDL-CM4 (29)\n",
    "KIOST-ESM (29)\n",
    "TaiESM1 (26)\n",
    "GISS-E2-2-H (25)\n",
    "CESM2-WACCM-FV2 (24)\n",
    "CMCC-ESM2 (24)\n",
    "EC-Earth3-AerChem (24)\n",
    "INM-CM4-8 (24)\n",
    "MPI-ESM-1-2-HAM (24)\n",
    "CIESM (23)\n",
    "CNRM-CM6-1-HR (22)\n",
    "IITM-ESM (21)\n",
    "MCM-UA-1-0 (16)\n",
    "E3SM-1-1-ECA (11)\n",
    "E3SM-2-1 (10)\n",
    "SAM0-UNICON (10)\n",
    "AWI-ESM-1-1-LR (8)\n",
    "CMCC-CM2-HR4 (8)\n",
    "GISS-E2-1-G-CC (8)\n",
    "IPSL-CM5A2-INCA (6)\n",
    "IPSL-CM6A-LR-INCA (4)\n",
    "UKESM1-1-LL (4)\n",
    "GISS-E3-G (3)\n",
    "AWI-ESM-1-REcoM (2)"
   ]
  },
  {
   "cell_type": "code",
   "execution_count": 9,
   "id": "fe27f396",
   "metadata": {},
   "outputs": [
    {
     "name": "stdout",
     "output_type": "stream",
     "text": [
      "\n",
      "Modelo: EC-Earth3\n",
      "  Experimento: ssp585 → Variáveis: ['pr', 'ps', 'tas', 'tasmax', 'tasmin', 'tos']\n",
      "\n",
      "Modelo: CanESM5\n",
      "  Experimento: ssp585 → Variáveis: ['pr', 'ps', 'tas', 'tasmax', 'tasmin', 'tos']\n",
      "\n",
      "Modelo: MPI-ESM1-2-LR\n",
      "  Experimento: ssp585 → Variáveis: ['pr', 'ps', 'tas', 'tasmax', 'tasmin', 'tos']\n"
     ]
    }
   ],
   "source": [
    "# Conexão ao ESGF LLNL\n",
    "conn = SearchConnection(\"https://esgf-node.llnl.gov/esg-search\", distrib=False)\n",
    "\n",
    "# Modelos e variáveis de interesse\n",
    "modelos = [\"EC-Earth3\", \"CanESM5\", \"MPI-ESM1-2-LR\"]\n",
    "variaveis = [\"tas\", \"tasmin\", \"tasmax\", \"tos\", \"ps\", \"pr\"]\n",
    "experimentos = [\"historical\", \"ssp245\", \"ssp585\"]\n",
    "\n",
    "# Dicionário para armazenar os resultados\n",
    "resultados = defaultdict(lambda: defaultdict(set))\n",
    "\n",
    "# Loop por variável e modelo\n",
    "for var in variaveis:\n",
    "    for modelo in modelos:\n",
    "        ctx = conn.new_context(\n",
    "            project=\"CMIP6\",\n",
    "            experiment_id=experimentos,\n",
    "            variable_id=var,\n",
    "            source_id=modelo,\n",
    "            frequency=\"mon\",\n",
    "            replica=False,\n",
    "            latest=True\n",
    "        )\n",
    "        results = list(ctx.search(ignore_facet_check=True))\n",
    "        for d in results:\n",
    "            experimento = d.json.get(\"experiment_id\", [None])[0]\n",
    "            if experimento:\n",
    "                resultados[modelo][experimento].add(var)\n",
    "\n",
    "# Exibição dos resultados\n",
    "for modelo, exps in resultados.items():\n",
    "    print(f\"\\nModelo: {modelo}\")\n",
    "    for exp, vars in exps.items():\n",
    "        print(f\"  Experimento: {exp} → Variáveis: {sorted(vars)}\")"
   ]
  }
 ],
 "metadata": {
  "kernelspec": {
   "display_name": "climate",
   "language": "python",
   "name": "python3"
  },
  "language_info": {
   "codemirror_mode": {
    "name": "ipython",
    "version": 3
   },
   "file_extension": ".py",
   "mimetype": "text/x-python",
   "name": "python",
   "nbconvert_exporter": "python",
   "pygments_lexer": "ipython3",
   "version": "3.11.2"
  }
 },
 "nbformat": 4,
 "nbformat_minor": 5
}
