{
 "cells": [
  {
   "cell_type": "code",
   "execution_count": 1,
   "id": "bc6dbc23",
   "metadata": {},
   "outputs": [],
   "source": [
    "#%pip install pyspark"
   ]
  },
  {
   "cell_type": "code",
   "execution_count": 2,
   "id": "1c41120d",
   "metadata": {},
   "outputs": [],
   "source": [
    "#%pip install xarray"
   ]
  },
  {
   "cell_type": "code",
   "execution_count": 3,
   "id": "b6ae4b87",
   "metadata": {},
   "outputs": [],
   "source": [
    "#%pip install netCDF4"
   ]
  },
  {
   "cell_type": "code",
   "execution_count": 4,
   "id": "417447f3",
   "metadata": {},
   "outputs": [],
   "source": [
    "#%pip install esgf-pyclient==0.3.1"
   ]
  },
  {
   "cell_type": "code",
   "execution_count": 5,
   "id": "0bb84385",
   "metadata": {},
   "outputs": [],
   "source": [
    "from pyspark.sql import SparkSession\n",
    "import xarray as xr\n",
    "import os\n",
    "#os.environ[\"SPARK_LOCAL_DIR\"] = \"C:/tmp/spark\"\n",
    "os.environ[\"SPARK_LOCAL_DIR\"] = \"C:/Users/thais/spark-temp\""
   ]
  },
  {
   "cell_type": "code",
   "execution_count": 2,
   "id": "3a5b266c",
   "metadata": {},
   "outputs": [
    {
     "name": "stdout",
     "output_type": "stream",
     "text": [
      "+---+-------+\n",
      "| id|message|\n",
      "+---+-------+\n",
      "|  1|  Hello|\n",
      "|  2|  World|\n",
      "+---+-------+\n",
      "\n"
     ]
    }
   ],
   "source": [
    "spark = SparkSession.builder.master(\"local\").appName(\"Test\").getOrCreate()\n",
    "df = spark.createDataFrame([(1, \"Hello\"), (2, \"World\")], [\"id\", \"message\"])\n",
    "df.show()"
   ]
  },
  {
   "cell_type": "markdown",
   "id": "14b8e4d6",
   "metadata": {},
   "source": [
    "### listagem de variáveis do CMPI6"
   ]
  },
  {
   "cell_type": "code",
   "execution_count": 1,
   "id": "72d61b66",
   "metadata": {},
   "outputs": [],
   "source": [
    "import sys\n",
    "\n",
    "# apontar para a versão local da lib\n",
    "sys.path.insert(0, './dreqPy')"
   ]
  },
  {
   "cell_type": "code",
   "execution_count": 2,
   "id": "d8765649",
   "metadata": {},
   "outputs": [],
   "source": [
    "from dreqPy import dreq"
   ]
  },
  {
   "cell_type": "code",
   "execution_count": 3,
   "id": "e470d134",
   "metadata": {},
   "outputs": [],
   "source": [
    "# inicializando a biblioteca\n",
    "dq = dreq.loadDreq()"
   ]
  },
  {
   "cell_type": "code",
   "execution_count": 4,
   "id": "9b8f1a26",
   "metadata": {},
   "outputs": [
    {
     "name": "stdout",
     "output_type": "stream",
     "text": [
      "bigthetao - Sea Water Conservative Temperature - sea_water_conservative_temperature\n",
      "bigthetaoga - Global Average Sea Water Conservative Temperature - sea_water_conservative_temperature\n",
      "edt - Eddy Diffusivity Coefficient for Temperature - atmosphere_heat_diffusivity\n",
      "hfevapds - Temperature Flux Due to Evaporation Expressed as Heat Flux out of Sea Water - temperature_flux_due_to_evaporation_expressed_as_heat_flux_out_of_sea_water\n",
      "hfrainds - Temperature Flux Due to Rainfall Expressed as Heat Flux into Sea Water - temperature_flux_due_to_rainfall_expressed_as_heat_flux_into_sea_water\n",
      "hfrunoffds - Temperature Flux Due to Runoff Expressed as Heat Flux into Sea Water - temperature_flux_due_to_runoff_expressed_as_heat_flux_into_sea_water\n",
      "litempbotfl - Basal Temperature of Floating Ice Shelf - land_ice_basal_temperature\n",
      "litempbotgr - Basal Temperature of Grounded Ice Sheet - land_ice_basal_temperature\n",
      "litemptop - Temperature at Top of Ice Sheet Model - temperature_at_top_of_ice_sheet_model\n",
      "litemptopIs - Ice Sheet Temperature at Top of Ice Sheet Model - temperature_at_top_of_ice_sheet_model\n",
      "ocontempdiff - Tendency of Sea Water Conservative Temperature Expressed as Heat Content Due to Parameterized Dianeutral Mixing - tendency_of_sea_water_conservative_temperature_expressed_as_heat_content_due_to_parameterized_dianeutral_mixing\n",
      "ocontempmint - Depth Integral of Product of Sea Water Density and Conservative Temperature - integral_wrt_depth_of_product_of_conservative_temperature_and_sea_water_density\n",
      "ocontemppadvect - Tendency of Sea Water Conservative Temperature Expressed as Heat Content Due to Parameterized Eddy Advection - tendency_of_sea_water_conservative_temperature_expressed_as_heat_content_due_to_parameterized_eddy_advection\n",
      "ocontemppmdiff - Tendency of Sea Water Conservative Temperature Expressed as Heat Content Due to Parameterized Mesoscale Diffusion - tendency_of_sea_water_conservative_temperature_expressed_as_heat_content_due_to_parameterized_mesoscale_eddy_diffusion\n",
      "ocontemppsmadvect - Tendency of Sea Water Conservative Temperature Expressed as Heat Content Due to Parameterized Submesoscale Advection - tendency_of_sea_water_conservative_temperature_expressed_as_heat_content_due_to_parameterized_submesoscale_eddy_advection\n",
      "ocontemprmadvect - Tendency of Sea Water Conservative Temperature Expressed as Heat Content Due to Residual Mean Advection - tendency_of_sea_water_conservative_temperature_expressed_as_heat_content_due_to_residual_mean_advection\n",
      "ocontemptend - Tendency of Sea Water Conservative Temperature Expressed as Heat Content - tendency_of_sea_water_conservative_temperature_expressed_as_heat_content\n",
      "opottempdiff - Tendency of Sea Water Potential Temperature Expressed as Heat Content Due to Parameterized Dianeutral Mixing - tendency_of_sea_water_potential_temperature_expressed_as_heat_content_due_to_parameterized_dianeutral_mixing\n",
      "opottempmint - Integral with Respect to Depth of Product of Sea Water Density and Potential Temperature - integral_wrt_depth_of_product_of_potential_temperature_and_sea_water_density\n",
      "opottemppadvect - Tendency of Sea Water Potential Temperature Expressed as Heat Content Due to Parameterized Eddy Advection - tendency_of_sea_water_potential_temperature_expressed_as_heat_content_due_to_parameterized_eddy_advection\n",
      "opottemppmdiff - Tendency of Sea Water Potential Temperature Expressed as Heat Content Due to Parameterized Mesoscale Diffusion - tendency_of_sea_water_potential_temperature_expressed_as_heat_content_due_to_parameterized_mesoscale_eddy_diffusion\n",
      "opottemppsmadvect - Tendency of Sea Water Potential Temperature Expressed as Heat Content Due to Parameterized Submesoscale Advection - tendency_of_sea_water_potential_temperature_expressed_as_heat_content_due_to_parameterized_submesoscale_eddy_advection\n",
      "opottemprmadvect - Tendency of Sea Water Potential Temperature Expressed as Heat Content Due to Residual Mean Advection - tendency_of_sea_water_potential_temperature_expressed_as_heat_content_due_to_residual_mean_advection\n",
      "opottemptend - Tendency of Sea Water Potential Temperature Expressed as Heat Content - tendency_of_sea_water_potential_temperature_expressed_as_heat_content\n",
      "pabigthetao - Sea Water Added Conservative Temperature - sea_water_added_conservative_temperature\n",
      "pathetao - Sea Water Additional Potential Temperature - sea_water_added_potential_temperature\n",
      "prbigthetao - Sea Water Redistributed Conservative Temperature - sea_water_redistributed_conservative_temperature\n",
      "prthetao - Sea Water Redistributed Potential Temperature - sea_water_redistributed_potential_temperature\n",
      "sitempbot - Temperature at Ice-Ocean Interface - sea_ice_basal_temperature\n",
      "sitempsnic - Temperature at Snow-Ice Interface - sea_ice_surface_temperature\n",
      "sitemptop - Surface Temperature of Sea Ice - sea_ice_surface_temperature\n",
      "t2 - Mean-Squared Air Temperature - square_of_air_temperature\n",
      "ta - Air Temperature - air_temperature\n",
      "ta500 - Air Temperature - air_temperature\n",
      "ta700 - Air Temperature - air_temperature\n",
      "ta850 - Air Temperature - air_temperature\n",
      "tas - Near-Surface Air Temperature - air_temperature\n",
      "tasIs - Ice Sheet Near-Surface Air Temperature - air_temperature\n",
      "tasLut - Near-Surface Air Temperature on Land Use Tile - air_temperature\n",
      "tasmax - Daily Maximum Near-Surface Air Temperature - air_temperature\n",
      "tasmaxCrop - Daily Maximum Near-Surface Air Temperature over Crop Tile - air_temperature\n",
      "tasmin - Daily Minimum Near-Surface Air Temperature - air_temperature\n",
      "tasminCrop - Daily Minimum Near-Surface Air Temperature over Crop Tile - air_temperature\n",
      "tatp - Tropopause Air Temperature - tropopause_air_temperature\n",
      "tcs - Vegetation Canopy Temperature - canopy_temperature\n",
      "tdps - 2m Dewpoint Temperature - dew_point_temperature\n",
      "tgs - Temperature of Bare Soil - surface_temperature\n",
      "thetao - Sea Water Potential Temperature - sea_water_potential_temperature\n",
      "thetaoga - Global Average Sea Water Potential Temperature - sea_water_potential_temperature\n",
      "thetaot - Vertically Averaged Sea Water Potential Temperature - sea_water_potential_temperature\n",
      "thetaot2000 - Depth Average Potential Temperature of Upper 2000m - sea_water_potential_temperature\n",
      "thetaot300 - Depth Average Potential Temperature of Upper 300m - sea_water_potential_temperature\n",
      "thetaot700 - Depth Average Potential Temperature of Upper 700m - sea_water_potential_temperature\n",
      "tnt - Tendency of Air Temperature - tendency_of_air_temperature\n",
      "tnta - Tendency of Air Temperature Due to Advection - tendency_of_air_temperature_due_to_advection\n",
      "tntc - Tendency of Air Temperature Due to Convection - tendency_of_air_temperature_due_to_convection\n",
      "tntd - Tendency of Air Temperature Due to Numerical Diffusion - tendency_of_air_temperature_due_to_diffusion\n",
      "tntmp - Tendency of Air Temperature Due to Model Physics - tendency_of_air_temperature_due_to_model_physics\n",
      "tntnogw - Temperature Tendency Due to Non-Orographic Gravity Wave Dissipation - tendency_of_air_temperature_due_to_dissipation_of_nonorographic_gravity_waves\n",
      "tntogw - Temperature Tendency Due to Orographic Gravity Wave Dissipation - tendency_of_air_temperature_due_to_dissipation_of_orographic_gravity_waves\n",
      "tntpbl - Tendency of Air Temperature Due to Boundary Layer Mixing - tendency_of_air_temperature_due_to_boundary_layer_mixing\n",
      "tntr - Tendency of Air Temperature Due to Radiative Heating - tendency_of_air_temperature_due_to_radiative_heating\n",
      "tntrl - Tendency of Air Temperature Due to Longwave Radiative Heating - tendency_of_air_temperature_due_to_longwave_heating\n",
      "tntrlcs - Tendency of Air Temperature Due to Clear Sky Longwave Radiative Heating - tendency_of_air_temperature_due_to_longwave_heating_assuming_clear_sky\n",
      "tntrs - Tendency of Air Temperature Due to Shortwave Radiative Heating - tendency_of_air_temperature_due_to_shortwave_heating\n",
      "tntrscs - Tendency of Air Temperature Due to Clear Sky Shortwave Radiative Heating - tendency_of_air_temperature_due_to_shortwave_heating_assuming_clear_sky\n",
      "tntscp - Tendency of Air Temperature Due to Stratiform Clouds and Precipitation - tendency_of_air_temperature_due_to_stratiform_cloud_and_precipitation\n",
      "tntscpbl - Tendency of Air Temperature Due to Stratiform Cloud and Precipitation and Boundary Layer Mixing - tendency_of_air_temperature_due_to_stratiform_cloud_and_precipitation_and_boundary_layer_mixing\n",
      "tob - Sea Water Potential Temperature at Sea Floor - sea_water_potential_temperature_at_sea_floor\n",
      "tos - Sea Surface Temperature - sea_surface_temperature\n",
      "tosga - Global Average Sea Surface Temperature - sea_surface_temperature\n",
      "tossq - Square of Sea Surface Temperature - square_of_sea_surface_temperature\n",
      "tr - Surface Radiative Temperature - surface_temperature\n",
      "ts - Surface Temperature - surface_temperature\n",
      "tsIs - Ice Sheet Surface Temperature - surface_temperature\n",
      "tsl - Temperature of Soil - soil_temperature\n",
      "tsland - Land Surface Temperature - surface_temperature\n",
      "tslsi - Surface Temperature Where Land or Sea Ice - surface_temperature\n",
      "tslsiLut - Surface Temperature on Landuse Tile - surface_temperature\n",
      "tsn - Snow Internal Temperature - temperature_in_surface_snow\n",
      "tsnIs - Ice Sheet Snow Internal Temperature - temperature_in_surface_snow\n",
      "tsnl - Temperature Profile in the Snow - temperature_in_surface_snow\n",
      "tsns - Snow Surface Temperature - surface_temperature\n",
      "ttop - Air Temperature at Cloud Top - air_temperature_at_cloud_top\n",
      "twap - Product of Air Temperature and Omega - product_of_lagrangian_tendency_of_air_pressure_and_air_temperature\n",
      "ut - Product of Air Temperature and Eastward Wind - product_of_eastward_wind_and_air_temperature\n",
      "vt - Product of Air Temperature and Northward Wind - product_of_northward_wind_and_air_temperature\n",
      "vt100 - Northward Eddy Temperature Flux - covariance_over_longitude_of_northward_wind_and_air_temperature\n",
      "wbptemp - Wet Bulb Potential Temperature - wet_bulb_potential_temperature\n"
     ]
    }
   ],
   "source": [
    "# listando variáveis relacionadas à temperatura\n",
    "temperature_vars = [var for var in dq.coll[\"var\"].items if \"temperature\" in var.title.lower()]\n",
    "\n",
    "for v in temperature_vars:\n",
    "    print(v.label, \"-\", v.title, \"-\", v.sn)"
   ]
  },
  {
   "cell_type": "markdown",
   "id": "af37f7ee",
   "metadata": {},
   "source": [
    "### acesso ao ESGF"
   ]
  },
  {
   "cell_type": "code",
   "execution_count": 6,
   "id": "aa902bde",
   "metadata": {},
   "outputs": [],
   "source": [
    "from collections import Counter, defaultdict\n",
    "import logging\n",
    "from pyesgf.search import SearchConnection"
   ]
  },
  {
   "cell_type": "code",
   "execution_count": 7,
   "id": "2110615a",
   "metadata": {},
   "outputs": [],
   "source": [
    "os.environ[\"ESGF_PYCLIENT_NO_FACETS_STAR_WARNING\"] = \"1\""
   ]
  },
  {
   "cell_type": "code",
   "execution_count": 8,
   "id": "909dce00",
   "metadata": {},
   "outputs": [],
   "source": [
    "logging.getLogger('pyesgf.search').setLevel(logging.ERROR)"
   ]
  },
  {
   "cell_type": "code",
   "execution_count": 9,
   "id": "871952c9",
   "metadata": {},
   "outputs": [],
   "source": [
    "# variáveis relevantes de acordo com GCOS\n",
    "variaveis = [\"tas\", \"tasmax\", \"tasmin\", \"ps\", \"pr\", \"hur\", \"rsds\", \"rlut\", \"uas\", \"vas\", \"tos\", \"sos\", \"sic\"]"
   ]
  },
  {
   "cell_type": "code",
   "execution_count": 13,
   "id": "b6d59ca3",
   "metadata": {},
   "outputs": [
    {
     "name": "stdout",
     "output_type": "stream",
     "text": [
      "tas: ['ACCESS-CM2', 'ACCESS-ESM1-5', 'AWI-CM-1-1-MR', 'BCC-CSM2-MR', 'CAMS-CSM1-0', 'CAS-ESM2-0', 'CESM2', 'CESM2-FV2', 'CESM2-WACCM', 'CIESM', 'CMCC-CM2-SR5', 'CMCC-ESM2', 'CNRM-CM6-1', 'CNRM-CM6-1-HR', 'CNRM-ESM2-1', 'CanESM5', 'CanESM5-1', 'CanESM5-CanOE', 'E3SM-1-0', 'E3SM-1-1', 'E3SM-1-1-ECA', 'EC-Earth3', 'EC-Earth3-CC', 'EC-Earth3-Veg', 'EC-Earth3-Veg-LR', 'FGOALS-f3-L', 'FGOALS-g3', 'FIO-ESM-2-0', 'GFDL-ESM4', 'GISS-E2-1-G', 'GISS-E2-1-G-CC', 'GISS-E2-1-H', 'GISS-E2-2-G', 'HadGEM3-GC31-LL', 'HadGEM3-GC31-MM', 'IITM-ESM', 'INM-CM4-8', 'INM-CM5-0', 'IPSL-CM6A-LR', 'KACE-1-0-G', 'KIOST-ESM', 'MCM-UA-1-0', 'MIROC-ES2H', 'MIROC-ES2L', 'MIROC6', 'MPI-ESM1-2-HR', 'MPI-ESM1-2-LR', 'MRI-ESM2-0', 'NESM3', 'NorESM2-LM', 'NorESM2-MM', 'TaiESM1', 'UKESM1-0-LL']\n",
      "tasmin: ['ACCESS-CM2', 'ACCESS-ESM1-5', 'AWI-CM-1-1-MR', 'BCC-CSM2-MR', 'CAS-ESM2-0', 'CESM2', 'CESM2-WACCM', 'CIESM', 'CMCC-CM2-SR5', 'CMCC-ESM2', 'CNRM-CM6-1', 'CNRM-CM6-1-HR', 'CNRM-ESM2-1', 'CanESM5', 'CanESM5-1', 'CanESM5-CanOE', 'EC-Earth3', 'EC-Earth3-CC', 'EC-Earth3-Veg', 'EC-Earth3-Veg-LR', 'FGOALS-g3', 'FIO-ESM-2-0', 'GFDL-ESM4', 'GISS-E2-1-G', 'GISS-E2-1-G-CC', 'GISS-E2-1-H', 'GISS-E2-2-G', 'HadGEM3-GC31-LL', 'HadGEM3-GC31-MM', 'INM-CM4-8', 'INM-CM5-0', 'IPSL-CM6A-LR', 'MIROC-ES2H', 'MIROC-ES2L', 'MIROC6', 'MPI-ESM1-2-HR', 'MPI-ESM1-2-LR', 'MRI-ESM2-0', 'NESM3', 'UKESM1-0-LL']\n",
      "tasmax: ['ACCESS-CM2', 'ACCESS-ESM1-5', 'AWI-CM-1-1-MR', 'BCC-CSM2-MR', 'CAS-ESM2-0', 'CESM2', 'CESM2-WACCM', 'CIESM', 'CMCC-CM2-SR5', 'CMCC-ESM2', 'CNRM-CM6-1', 'CNRM-CM6-1-HR', 'CNRM-ESM2-1', 'CanESM5', 'CanESM5-1', 'CanESM5-CanOE', 'EC-Earth3', 'EC-Earth3-CC', 'EC-Earth3-Veg', 'EC-Earth3-Veg-LR', 'FGOALS-g3', 'FIO-ESM-2-0', 'GFDL-ESM4', 'GISS-E2-1-G', 'GISS-E2-1-G-CC', 'GISS-E2-1-H', 'GISS-E2-2-G', 'HadGEM3-GC31-LL', 'HadGEM3-GC31-MM', 'INM-CM4-8', 'INM-CM5-0', 'IPSL-CM6A-LR', 'MIROC-ES2H', 'MIROC-ES2L', 'MIROC6', 'MPI-ESM1-2-HR', 'MPI-ESM1-2-LR', 'MRI-ESM2-0', 'NESM3', 'UKESM1-0-LL']\n",
      "tos: ['ACCESS-CM2', 'ACCESS-ESM1-5', 'AWI-CM-1-1-MR', 'BCC-CSM2-MR', 'CAMS-CSM1-0', 'CAS-ESM2-0', 'CESM2', 'CESM2-FV2', 'CESM2-WACCM', 'CIESM', 'CMCC-CM2-SR5', 'CMCC-ESM2', 'CNRM-CM6-1', 'CNRM-CM6-1-HR', 'CNRM-ESM2-1', 'CanESM5', 'CanESM5-1', 'CanESM5-CanOE', 'E3SM-1-0', 'E3SM-1-1', 'E3SM-1-1-ECA', 'EC-Earth3', 'EC-Earth3-CC', 'EC-Earth3-Veg', 'EC-Earth3-Veg-LR', 'FGOALS-f3-L', 'FGOALS-g3', 'FIO-ESM-2-0', 'GFDL-CM4', 'GFDL-ESM4', 'GISS-E2-1-G', 'GISS-E2-1-G-CC', 'GISS-E2-1-H', 'GISS-E2-2-G', 'HadGEM3-GC31-LL', 'HadGEM3-GC31-MM', 'IITM-ESM', 'INM-CM4-8', 'INM-CM5-0', 'IPSL-CM6A-LR', 'KACE-1-0-G', 'KIOST-ESM', 'MCM-UA-1-0', 'MIROC-ES2H', 'MIROC-ES2L', 'MIROC6', 'MPI-ESM1-2-HR', 'MPI-ESM1-2-LR', 'MRI-ESM2-0', 'NESM3', 'NorESM2-LM', 'NorESM2-MM', 'TaiESM1', 'UKESM1-0-LL']\n",
      "ps: ['ACCESS-CM2', 'ACCESS-ESM1-5', 'AWI-CM-1-1-MR', 'BCC-CSM2-MR', 'CAMS-CSM1-0', 'CAS-ESM2-0', 'CESM2', 'CESM2-FV2', 'CESM2-WACCM', 'CIESM', 'CMCC-CM2-SR5', 'CMCC-ESM2', 'CNRM-CM6-1', 'CNRM-CM6-1-HR', 'CNRM-ESM2-1', 'CanESM5', 'CanESM5-1', 'CanESM5-CanOE', 'E3SM-1-0', 'E3SM-1-1', 'E3SM-1-1-ECA', 'EC-Earth3', 'EC-Earth3-CC', 'EC-Earth3-Veg', 'EC-Earth3-Veg-LR', 'FGOALS-f3-L', 'FGOALS-g3', 'FIO-ESM-2-0', 'GFDL-CM4', 'GFDL-ESM4', 'GISS-E2-1-G', 'GISS-E2-1-G-CC', 'GISS-E2-1-H', 'GISS-E2-2-G', 'HadGEM3-GC31-LL', 'HadGEM3-GC31-MM', 'IITM-ESM', 'INM-CM4-8', 'INM-CM5-0', 'IPSL-CM6A-LR', 'KACE-1-0-G', 'KIOST-ESM', 'MCM-UA-1-0', 'MIROC-ES2H', 'MIROC-ES2L', 'MIROC6', 'MPI-ESM1-2-HR', 'MPI-ESM1-2-LR', 'MRI-ESM2-0', 'NESM3', 'NorESM2-LM', 'NorESM2-MM', 'TaiESM1', 'UKESM1-0-LL']\n",
      "pr: ['ACCESS-CM2', 'ACCESS-ESM1-5', 'AWI-CM-1-1-MR', 'BCC-CSM2-MR', 'CAMS-CSM1-0', 'CAS-ESM2-0', 'CESM2', 'CESM2-WACCM', 'CIESM', 'CMCC-CM2-SR5', 'CMCC-ESM2', 'CNRM-CM6-1', 'CNRM-CM6-1-HR', 'CNRM-ESM2-1', 'CanESM5', 'CanESM5-1', 'CanESM5-CanOE', 'E3SM-1-0', 'E3SM-1-1', 'E3SM-1-1-ECA', 'EC-Earth3', 'EC-Earth3-CC', 'EC-Earth3-Veg', 'EC-Earth3-Veg-LR', 'FGOALS-f3-L', 'FGOALS-g3', 'FIO-ESM-2-0', 'GFDL-ESM4', 'GISS-E2-1-G', 'GISS-E2-1-G-CC', 'GISS-E2-1-H', 'GISS-E2-2-G', 'HadGEM3-GC31-LL', 'HadGEM3-GC31-MM', 'IITM-ESM', 'INM-CM4-8', 'INM-CM5-0', 'IPSL-CM6A-LR', 'KACE-1-0-G', 'KIOST-ESM', 'MCM-UA-1-0', 'MIROC-ES2H', 'MIROC-ES2L', 'MIROC6', 'MPI-ESM1-2-HR', 'MPI-ESM1-2-LR', 'MRI-ESM2-0', 'NESM3', 'NorESM2-LM', 'NorESM2-MM', 'TaiESM1', 'UKESM1-0-LL']\n"
     ]
    }
   ],
   "source": [
    "variaveis = [\"tas\", \"tasmin\", \"tasmax\", \"tos\", \"ps\", \"pr\"]  # exemplo com 6 variáveis\n",
    "#variaveis = [\"tas\"]\n",
    "#models = [\"EC-Earth3\", \"CanESM5\", \"MPI-ESM1-2-LR\", \"IPSL-CM5A2-INCA\"]\n",
    "modelos_por_variavel = defaultdict(set)\n",
    "\n",
    "conn = SearchConnection(\"https://esgf-node.llnl.gov/esg-search\", distrib=False, timeout=300)\n",
    "#conn = SearchConnection(\"https://esgf-node.ornl.gov/esg-search\", distrib=False)\n",
    "#conn = SearchConnection(\"https://eagle.alcf.anl.gov/esg-search\", distrib=False)\n",
    "\n",
    "for var in variaveis:\n",
    "    ctx = conn.new_context(\n",
    "        project=\"CMIP6\",\n",
    "        experiment_id=[\"historical\", \"ssp245\", \"ssp585\"],\n",
    "        variable_id=var,\n",
    "        frequency=\"mon\",\n",
    "        #source_id=\"MIROC6\",\n",
    "        replica=False,\n",
    "        latest=True\n",
    "    )\n",
    "\n",
    "    results = list(ctx.search(ignore_facet_check=True))\n",
    "    for d in results:\n",
    "        modelo = d.json.get(\"source_id\", [None])[0]\n",
    "        if modelo:\n",
    "            modelos_por_variavel[var].add(modelo)\n",
    "\n",
    "# Exibindo os resultados\n",
    "for var, modelos in modelos_por_variavel.items():\n",
    "    print(f\"{var}: {sorted(modelos)}\")"
   ]
  },
  {
   "cell_type": "code",
   "execution_count": 10,
   "id": "c812fef8",
   "metadata": {},
   "outputs": [
    {
     "name": "stdout",
     "output_type": "stream",
     "text": [
      "tas: ['EC-Earth3']\n",
      "tasmin: ['EC-Earth3']\n",
      "tasmax: ['EC-Earth3']\n",
      "tos: ['EC-Earth3']\n",
      "ps: ['EC-Earth3']\n",
      "pr: ['EC-Earth3']\n"
     ]
    }
   ],
   "source": [
    "# obtendo informações dos datasets para as variáveis\n",
    "\n",
    "variaveis = [\"tas\", \"tasmin\", \"tasmax\", \"tos\", \"ps\", \"pr\"]  # exemplo com 6 variáveis\n",
    "#variaveis = [\"tas\"]\n",
    "models = \"EC-Earth3\" # [\"EC-Earth3\", \"CanESM5\", \"MPI-ESM1-2-LR\", \"IPSL-CM5A2-INCA\"]\n",
    "experiments = [\"historical\", \"ssp245\", \"ssp585\"]\n",
    "modelos_por_variavel = defaultdict(set)\n",
    "infos_datasets = {}\n",
    "\n",
    "conn = SearchConnection(\"https://esgf-node.llnl.gov/esg-search\", distrib=False, timeout=300)\n",
    "#conn = SearchConnection(\"https://esgf-node.ornl.gov/esg-search\", distrib=False)\n",
    "#conn = SearchConnection(\"https://eagle.alcf.anl.gov/esg-search\", distrib=False)\n",
    "\n",
    "for var in variaveis:\n",
    "    ctx = conn.new_context(\n",
    "        project=\"CMIP6\",\n",
    "        experiment_id=\"historical\",\n",
    "        variable_id=var,\n",
    "        frequency=\"mon\",\n",
    "        source_id=models,\n",
    "        replica=False,\n",
    "        latest=True\n",
    "    )\n",
    "\n",
    "    results = list(ctx.search(ignore_facet_check=True))\n",
    "    infos_datasets[var] = results\n",
    "\n",
    "    for d in results:\n",
    "        modelo = d.json.get(\"source_id\", [None])[0]\n",
    "        \n",
    "        if modelo:\n",
    "            modelos_por_variavel[var].add(modelo)\n",
    "\n",
    "# Exibindo os resultados\n",
    "for var, modelos in modelos_por_variavel.items():\n",
    "    print(f\"{var}: {sorted(modelos)}\")"
   ]
  },
  {
   "cell_type": "code",
   "execution_count": 23,
   "id": "59ee9bfc",
   "metadata": {},
   "outputs": [
    {
     "name": "stdout",
     "output_type": "stream",
     "text": [
      "quantidadede de DatasetResults da variável tas: 230\n",
      "historical: 74 membros\n",
      "-----\n",
      "\n",
      "quantidadede de DatasetResults da variável tasmin: 230\n",
      "historical: 74 membros\n",
      "-----\n",
      "\n",
      "quantidadede de DatasetResults da variável tasmax: 230\n",
      "historical: 74 membros\n",
      "-----\n",
      "\n",
      "quantidadede de DatasetResults da variável tos: 315\n",
      "historical: 74 membros\n",
      "-----\n",
      "\n",
      "quantidadede de DatasetResults da variável ps: 60\n",
      "historical: 74 membros\n",
      "-----\n",
      "\n",
      "quantidadede de DatasetResults da variável pr: 228\n",
      "historical: 74 membros\n",
      "-----\n",
      "\n"
     ]
    }
   ],
   "source": [
    "agrupamento = defaultdict(set)\n",
    "\n",
    "for var in variaveis:\n",
    "    print(f\"quantidadede de DatasetResults da variável {var}: {len(infos_datasets[var])}\")\n",
    "\n",
    "    for d in infos_datasets[\"tas\"]:\n",
    "        experimento = d.json.get(\"experiment_id\", [\"-\"])[0]\n",
    "        membro = d.json.get(\"member_id\", [\"-\"])[0]\n",
    "        agrupamento[experimento].add(membro)\n",
    "\n",
    "    for exp, membros in agrupamento.items():\n",
    "        print(f\"{exp}: {len(membros)} membros\\n-----\\n\")"
   ]
  },
  {
   "cell_type": "code",
   "execution_count": 24,
   "id": "fccf87df",
   "metadata": {},
   "outputs": [
    {
     "name": "stdout",
     "output_type": "stream",
     "text": [
      "[tas] Dataset mais recente:\n",
      "  ID.............: CMIP6.CMIP.EC-Earth-Consortium.EC-Earth3.historical.r5i1p1f1.Amon.tas.gr.v20201001|eagle.alcf.anl.gov\n",
      "  Experimento....: historical\n",
      "  Membro.........: r5i1p1f1\n",
      "  Data criação...: 2020-09-27T04:59:24Z\n",
      "  Número arquivos: 165\n",
      "\n",
      "[tasmin] Dataset mais recente:\n",
      "  ID.............: CMIP6.CMIP.EC-Earth-Consortium.EC-Earth3.historical.r5i1p1f1.Amon.tasmin.gr.v20201001|eagle.alcf.anl.gov\n",
      "  Experimento....: historical\n",
      "  Membro.........: r5i1p1f1\n",
      "  Data criação...: 2020-09-28T22:49:32Z\n",
      "  Número arquivos: 165\n",
      "\n",
      "[tasmax] Dataset mais recente:\n",
      "  ID.............: CMIP6.CMIP.EC-Earth-Consortium.EC-Earth3.historical.r5i1p1f1.Amon.tasmax.gr.v20201001|eagle.alcf.anl.gov\n",
      "  Experimento....: historical\n",
      "  Membro.........: r5i1p1f1\n",
      "  Data criação...: 2020-09-25T23:51:27Z\n",
      "  Número arquivos: 165\n",
      "\n",
      "[tos] Dataset mais recente:\n",
      "  ID.............: CMIP6.CMIP.EC-Earth-Consortium.EC-Earth3.historical.r5i1p1f1.Omon.tos.gn.v20201001|eagle.alcf.anl.gov\n",
      "  Experimento....: historical\n",
      "  Membro.........: r5i1p1f1\n",
      "  Data criação...: 2020-10-01T05:11:12Z\n",
      "  Número arquivos: 165\n",
      "\n",
      "[ps] Dataset mais recente:\n",
      "  ID.............: CMIP6.CMIP.EC-Earth-Consortium.EC-Earth3.historical.r5i1p1f1.Emon.ps.gr.v20201001|eagle.alcf.anl.gov\n",
      "  Experimento....: historical\n",
      "  Membro.........: r5i1p1f1\n",
      "  Data criação...: 2020-09-27T14:01:52Z\n",
      "  Número arquivos: 165\n",
      "\n",
      "[pr] Dataset mais recente:\n",
      "  ID.............: CMIP6.CMIP.EC-Earth-Consortium.EC-Earth3.historical.r5i1p1f1.Amon.pr.gr.v20201001|eagle.alcf.anl.gov\n",
      "  Experimento....: historical\n",
      "  Membro.........: r5i1p1f1\n",
      "  Data criação...: 2020-09-24T22:11:01Z\n",
      "  Número arquivos: 165\n",
      "\n"
     ]
    }
   ],
   "source": [
    "# identificando os datasets mais recentes de cada variável\n",
    "from datetime import datetime\n",
    "\n",
    "dataset_mais_recente_por_variavel = {}\n",
    "\n",
    "for var in variaveis:\n",
    "    datasets = infos_datasets[var]\n",
    "\n",
    "    # filtrando apenas datasets com creation_date válido\n",
    "    datasets_validos = [\n",
    "        d for d in datasets if d.json.get(\"creation_date\") is not None\n",
    "    ]\n",
    "\n",
    "    if not datasets_validos:\n",
    "        print(f\"[{var}] Nenhum dataset com creation_date disponível.\")\n",
    "        continue\n",
    "\n",
    "    # selecionando o dataset mais recente\n",
    "    dataset_mais_recente = max(\n",
    "        datasets_validos,\n",
    "        key=lambda d: datetime.fromisoformat(d.json[\"creation_date\"].replace(\"Z\", \"\"))\n",
    "    )\n",
    "\n",
    "    dataset_mais_recente_por_variavel[var] = dataset_mais_recente\n",
    "\n",
    "    print(f\"[{var}] Dataset mais recente:\")\n",
    "    print(f\"  ID.............: {dataset_mais_recente.dataset_id}\")\n",
    "    print(f\"  Experimento....: {dataset_mais_recente.json.get('experiment_id', ['?'])[0]}\")\n",
    "    print(f\"  Membro.........: {dataset_mais_recente.json.get('member_id', ['?'])[0]}\")\n",
    "    print(f\"  Data criação...: {dataset_mais_recente.json.get('creation_date')}\")\n",
    "    print(f\"  Número arquivos: {dataset_mais_recente.json.get('number_of_files')}\")\n",
    "    print(\"\")"
   ]
  },
  {
   "cell_type": "code",
   "execution_count": 25,
   "id": "6a2d62ec",
   "metadata": {},
   "outputs": [
    {
     "name": "stdout",
     "output_type": "stream",
     "text": [
      "\n",
      "[tas] Localizando arquivos...\n"
     ]
    },
    {
     "ename": "HTTPError",
     "evalue": "422 Client Error: Unprocessable Content for url: https://esgf-node.ornl.gov/esgf-1-5-bridge?format=application%2Fsolr%2Bjson&limit=0&distrib=false&type=File&dataset_id=CMIP6.CMIP.EC-Earth-Consortium.EC-Earth3.historical.r5i1p1f1.Amon.tas.gr.v20201001%7Ceagle.alcf.anl.gov&facets=%2A",
     "output_type": "error",
     "traceback": [
      "\u001b[31m---------------------------------------------------------------------------\u001b[39m",
      "\u001b[31mHTTPError\u001b[39m                                 Traceback (most recent call last)",
      "\u001b[36mCell\u001b[39m\u001b[36m \u001b[39m\u001b[32mIn[25]\u001b[39m\u001b[32m, line 6\u001b[39m\n\u001b[32m      4\u001b[39m \u001b[38;5;28;01mfor\u001b[39;00m var, dataset \u001b[38;5;129;01min\u001b[39;00m dataset_mais_recente_por_variavel.items():\n\u001b[32m      5\u001b[39m     \u001b[38;5;28mprint\u001b[39m(\u001b[33mf\u001b[39m\u001b[33m\"\u001b[39m\u001b[38;5;130;01m\\n\u001b[39;00m\u001b[33m[\u001b[39m\u001b[38;5;132;01m{\u001b[39;00mvar\u001b[38;5;132;01m}\u001b[39;00m\u001b[33m] Localizando arquivos...\u001b[39m\u001b[33m\"\u001b[39m)\n\u001b[32m----> \u001b[39m\u001b[32m6\u001b[39m     files = \u001b[38;5;28mlist\u001b[39m(\u001b[43mdataset\u001b[49m\u001b[43m.\u001b[49m\u001b[43mfile_context\u001b[49m\u001b[43m(\u001b[49m\u001b[43m)\u001b[49m\u001b[43m.\u001b[49m\u001b[43msearch\u001b[49m\u001b[43m(\u001b[49m\u001b[43m)\u001b[49m)\n\u001b[32m      8\u001b[39m     \u001b[38;5;28mprint\u001b[39m(\u001b[33mf\u001b[39m\u001b[33m\"\u001b[39m\u001b[33m  Total de arquivos encontrados: \u001b[39m\u001b[38;5;132;01m{\u001b[39;00m\u001b[38;5;28mlen\u001b[39m(files)\u001b[38;5;132;01m}\u001b[39;00m\u001b[33m\"\u001b[39m)\n\u001b[32m     10\u001b[39m     \u001b[38;5;66;03m# Apenas arquivos HTTP disponíveis\u001b[39;00m\n",
      "\u001b[36mFile \u001b[39m\u001b[32mc:\\Users\\thais\\.virtualenvs\\climate\\Lib\\site-packages\\pyesgf\\search\\context.py:139\u001b[39m, in \u001b[36mSearchContext.search\u001b[39m\u001b[34m(self, batch_size, ignore_facet_check, **constraints)\u001b[39m\n\u001b[32m    136\u001b[39m     sc = \u001b[38;5;28mself\u001b[39m\n\u001b[32m    138\u001b[39m \u001b[38;5;28;01mif\u001b[39;00m \u001b[38;5;129;01mnot\u001b[39;00m ignore_facet_check:\n\u001b[32m--> \u001b[39m\u001b[32m139\u001b[39m     \u001b[43msc\u001b[49m\u001b[43m.\u001b[49m\u001b[43m__update_counts\u001b[49m\u001b[43m(\u001b[49m\u001b[43m)\u001b[49m\n\u001b[32m    141\u001b[39m \u001b[38;5;28;01mreturn\u001b[39;00m ResultSet(sc, batch_size=batch_size)\n",
      "\u001b[36mFile \u001b[39m\u001b[32mc:\\Users\\thais\\.virtualenvs\\climate\\Lib\\site-packages\\pyesgf\\search\\context.py:220\u001b[39m, in \u001b[36mSearchContext.__update_counts\u001b[39m\u001b[34m(self)\u001b[39m\n\u001b[32m    217\u001b[39m     \u001b[38;5;28;01mif\u001b[39;00m \u001b[38;5;28mself\u001b[39m.connection.distrib:\n\u001b[32m    218\u001b[39m         \u001b[38;5;28mself\u001b[39m._do_facets_star_warning()\n\u001b[32m--> \u001b[39m\u001b[32m220\u001b[39m response = \u001b[38;5;28;43mself\u001b[39;49m\u001b[43m.\u001b[49m\u001b[43mconnection\u001b[49m\u001b[43m.\u001b[49m\u001b[43msend_search\u001b[49m\u001b[43m(\u001b[49m\u001b[43mquery_dict\u001b[49m\u001b[43m,\u001b[49m\u001b[43m \u001b[49m\u001b[43mlimit\u001b[49m\u001b[43m=\u001b[49m\u001b[32;43m0\u001b[39;49m\u001b[43m)\u001b[49m\n\u001b[32m    221\u001b[39m \u001b[38;5;28;01mfor\u001b[39;00m facet, counts \u001b[38;5;129;01min\u001b[39;00m (\u001b[38;5;28mlist\u001b[39m(response[\u001b[33m'\u001b[39m\u001b[33mfacet_counts\u001b[39m\u001b[33m'\u001b[39m][\u001b[33m'\u001b[39m\u001b[33mfacet_fields\u001b[39m\u001b[33m'\u001b[39m].items())):\n\u001b[32m    222\u001b[39m     d = \u001b[38;5;28mself\u001b[39m.__facet_counts[facet] = {}\n",
      "\u001b[36mFile \u001b[39m\u001b[32mc:\\Users\\thais\\.virtualenvs\\climate\\Lib\\site-packages\\pyesgf\\search\\connection.py:159\u001b[39m, in \u001b[36mSearchConnection.send_search\u001b[39m\u001b[34m(self, query_dict, limit, offset, shards)\u001b[39m\n\u001b[32m    157\u001b[39m \u001b[38;5;28;01mif\u001b[39;00m \u001b[38;5;129;01mnot\u001b[39;00m \u001b[38;5;28mself\u001b[39m._isopen:\n\u001b[32m    158\u001b[39m     \u001b[38;5;28mself\u001b[39m.open()\n\u001b[32m--> \u001b[39m\u001b[32m159\u001b[39m response = \u001b[38;5;28;43mself\u001b[39;49m\u001b[43m.\u001b[49m\u001b[43m_send_query\u001b[49m\u001b[43m(\u001b[49m\u001b[33;43m'\u001b[39;49m\u001b[33;43msearch\u001b[39;49m\u001b[33;43m'\u001b[39;49m\u001b[43m,\u001b[49m\u001b[43m \u001b[49m\u001b[43mfull_query\u001b[49m\u001b[43m)\u001b[49m\n\u001b[32m    160\u001b[39m ret = response.json()\n\u001b[32m    161\u001b[39m response.close()\n",
      "\u001b[36mFile \u001b[39m\u001b[32mc:\\Users\\thais\\.virtualenvs\\climate\\Lib\\site-packages\\pyesgf\\search\\connection.py:213\u001b[39m, in \u001b[36mSearchConnection._send_query\u001b[39m\u001b[34m(self, endpoint, full_query)\u001b[39m\n\u001b[32m    210\u001b[39m     \u001b[38;5;28;01mraise\u001b[39;00m \u001b[38;5;167;01mException\u001b[39;00m(\u001b[33m\"\u001b[39m\u001b[33mInvalid query parameter(s): \u001b[39m\u001b[38;5;132;01m%s\u001b[39;00m\u001b[33m\"\u001b[39m % content)\n\u001b[32m    212\u001b[39m \u001b[38;5;66;03m# Raise if query was unsucessful:\u001b[39;00m\n\u001b[32m--> \u001b[39m\u001b[32m213\u001b[39m \u001b[43mresponse\u001b[49m\u001b[43m.\u001b[49m\u001b[43mraise_for_status\u001b[49m\u001b[43m(\u001b[49m\u001b[43m)\u001b[49m\n\u001b[32m    214\u001b[39m \u001b[38;5;28;01mreturn\u001b[39;00m response\n",
      "\u001b[36mFile \u001b[39m\u001b[32mc:\\Users\\thais\\.virtualenvs\\climate\\Lib\\site-packages\\requests\\models.py:1026\u001b[39m, in \u001b[36mResponse.raise_for_status\u001b[39m\u001b[34m(self)\u001b[39m\n\u001b[32m   1021\u001b[39m     http_error_msg = (\n\u001b[32m   1022\u001b[39m         \u001b[33mf\u001b[39m\u001b[33m\"\u001b[39m\u001b[38;5;132;01m{\u001b[39;00m\u001b[38;5;28mself\u001b[39m.status_code\u001b[38;5;132;01m}\u001b[39;00m\u001b[33m Server Error: \u001b[39m\u001b[38;5;132;01m{\u001b[39;00mreason\u001b[38;5;132;01m}\u001b[39;00m\u001b[33m for url: \u001b[39m\u001b[38;5;132;01m{\u001b[39;00m\u001b[38;5;28mself\u001b[39m.url\u001b[38;5;132;01m}\u001b[39;00m\u001b[33m\"\u001b[39m\n\u001b[32m   1023\u001b[39m     )\n\u001b[32m   1025\u001b[39m \u001b[38;5;28;01mif\u001b[39;00m http_error_msg:\n\u001b[32m-> \u001b[39m\u001b[32m1026\u001b[39m     \u001b[38;5;28;01mraise\u001b[39;00m HTTPError(http_error_msg, response=\u001b[38;5;28mself\u001b[39m)\n",
      "\u001b[31mHTTPError\u001b[39m: 422 Client Error: Unprocessable Content for url: https://esgf-node.ornl.gov/esgf-1-5-bridge?format=application%2Fsolr%2Bjson&limit=0&distrib=false&type=File&dataset_id=CMIP6.CMIP.EC-Earth-Consortium.EC-Earth3.historical.r5i1p1f1.Amon.tas.gr.v20201001%7Ceagle.alcf.anl.gov&facets=%2A"
     ]
    }
   ],
   "source": [
    "download_dir = r\"C:\\Users\\thais\\OneDrive\\Documentos\\#POLI\\2024_4\\Trabalho de Conclusão de Curso\\cmip6_ingestion\\datasets\\ec_earth3\"  # ajuste para o diretório desejado\n",
    "os.makedirs(download_dir, exist_ok=True)\n",
    "\n",
    "for var, dataset in dataset_mais_recente_por_variavel.items():\n",
    "    print(f\"\\n[{var}] Localizando arquivos...\")\n",
    "    files = list(dataset.file_context().search())\n",
    "    \n",
    "    print(f\"  Total de arquivos encontrados: {len(files)}\")\n",
    "\n",
    "    # Apenas arquivos HTTP disponíveis\n",
    "    files_http = [f for f in files if \"HTTPServer\" in f.json.get(\"access\", [])]\n",
    "\n",
    "    if not files_http:\n",
    "        print(f\"  Nenhum arquivo com acesso HTTP disponível para {var}\")\n",
    "        continue\n",
    "\n",
    "    for f in files_http:\n",
    "        url = f.download_url()\n",
    "        filename = os.path.join(download_dir, var, os.path.basename(url))\n",
    "        os.makedirs(os.path.dirname(filename), exist_ok=True)\n",
    "        \n",
    "        # Comando para baixar com wget\n",
    "        cmd = f\"wget -nc -O {filename} {url}\"\n",
    "        print(f\"  Baixando: {url}\")\n",
    "        os.system(cmd)\n"
   ]
  },
  {
   "cell_type": "code",
   "execution_count": 19,
   "id": "09fce50a",
   "metadata": {},
   "outputs": [
    {
     "data": {
      "text/plain": [
       "{'mip_era': ['CMIP6'],\n",
       " 'activity_drs': ['ScenarioMIP'],\n",
       " 'institution_id': ['EC-Earth-Consortium'],\n",
       " 'source_id': ['EC-Earth3'],\n",
       " 'experiment_id': ['ssp585'],\n",
       " 'member_id': ['r1i1p1f1'],\n",
       " 'table_id': ['Amon'],\n",
       " 'variable_id': ['tas'],\n",
       " 'grid_label': ['gr'],\n",
       " 'frequency': ['mon'],\n",
       " 'realm': ['atmos'],\n",
       " 'product': ['model-output'],\n",
       " 'nominal_resolution': ['100 km'],\n",
       " 'source_type': ['AOGCM'],\n",
       " 'grid': ['T255L91'],\n",
       " 'creation_date': '2019-09-27T17:17:08Z',\n",
       " 'variant_label': ['r1i1p1f1'],\n",
       " 'sub_experiment_id': ['none'],\n",
       " 'further_info_url': ['https://furtherinfo.es-doc.org/CMIP6.EC-Earth-Consortium.EC-Earth3.ssp585.none.r1i1p1f1'],\n",
       " 'activity_id': ['ScenarioMIP'],\n",
       " 'data_specs_version': ['01.00.31'],\n",
       " 'title': 'CMIP6.ScenarioMIP.EC-Earth-Consortium.EC-Earth3.ssp585.r1i1p1f1.Amon.tas.gr',\n",
       " 'experiment_title': ['update of RCP8.5 based on SSP5'],\n",
       " 'data_node': 'eagle.alcf.anl.gov',\n",
       " 'index_node': 'us-index',\n",
       " 'master_id': 'CMIP6.ScenarioMIP.EC-Earth-Consortium.EC-Earth3.ssp585.r1i1p1f1.Amon.tas.gr',\n",
       " 'instance_id': 'CMIP6.ScenarioMIP.EC-Earth-Consortium.EC-Earth3.ssp585.r1i1p1f1.Amon.tas.gr.v20200310',\n",
       " 'id': 'CMIP6.ScenarioMIP.EC-Earth-Consortium.EC-Earth3.ssp585.r1i1p1f1.Amon.tas.gr.v20200310|eagle.alcf.anl.gov',\n",
       " 'short_description': ['EC-Earth3 output prepared for CMIP6'],\n",
       " 'replica': True,\n",
       " 'latest': True,\n",
       " 'type': 'Dataset',\n",
       " 'version': '20200310',\n",
       " 'dataset_id_template_': ['%(mip_era)s.%(activity_drs)s.%(institution_id)s.%(source_id)s.%(experiment_id)s.%(member_id)s.%(table_id)s.%(variable_id)s.%(grid_label)s'],\n",
       " 'directory_format_template_': ['%(root)s/%(mip_era)s/%(activity_drs)s/%(institution_id)s/%(source_id)s/%(experiment_id)s/%(member_id)s/%(table_id)s/%(variable_id)s/%(grid_label)s/%(version)s'],\n",
       " 'model_cohort': ['Registered'],\n",
       " 'project': ['CMIP6'],\n",
       " 'variable_long_name': ['Near-Surface Air Temperature'],\n",
       " 'cf_standard_name': ['air_temperature'],\n",
       " 'variable_units': ['K'],\n",
       " 'variable': ['tas'],\n",
       " 'north_degrees': 89.46282,\n",
       " 'south_degrees': -89.46282,\n",
       " 'east_degrees': 359.29688,\n",
       " 'west_degrees': 0.0,\n",
       " 'datetime_start': '2015-01-16T00:00:00Z',\n",
       " 'datetime_end': '2100-12-16T00:00:00Z',\n",
       " 'number_of_files': 86,\n",
       " 'size': 405874019,\n",
       " 'access': ['HTTPServer', 'Globus'],\n",
       " 'citation_url': ['http://cera-www.dkrz.de/WDCC/meta/CMIP6/CMIP6.ScenarioMIP.EC-Earth-Consortium.EC-Earth3.ssp585.r1i1p1f1.Amon.tas.gr.v20200310.json'],\n",
       " 'xlink': ['http://cera-www.dkrz.de/WDCC/meta/CMIP6/CMIP6.ScenarioMIP.EC-Earth-Consortium.EC-Earth3.ssp585.r1i1p1f1.Amon.tas.gr.v20200310.json|Citation|citation',\n",
       "  'http://hdl.handle.net/hdl:21.14100/de3c2f42-97e3-39dd-af5b-20f07f153be0|PID|pid'],\n",
       " 'pid': ['hdl:21.14100/de3c2f42-97e3-39dd-af5b-20f07f153be0'],\n",
       " '_version_': 1782230386019926016,\n",
       " 'retracted': False,\n",
       " '_timestamp': '2023-11-11T01:49:05.066Z',\n",
       " 'score': 0.5}"
      ]
     },
     "execution_count": 19,
     "metadata": {},
     "output_type": "execute_result"
    }
   ],
   "source": [
    "dataset_mais_recente_por_variavel[\"tas\"].json"
   ]
  },
  {
   "cell_type": "code",
   "execution_count": 29,
   "id": "9b9e1797",
   "metadata": {},
   "outputs": [
    {
     "name": "stdout",
     "output_type": "stream",
     "text": [
      "\n",
      "[tas] Buscando arquivos para: CMIP6.CMIP.EC-Earth-Consortium.EC-Earth3.historical.r5i1p1f1.Amon.tas.gr.v20201001\n"
     ]
    },
    {
     "name": "stderr",
     "output_type": "stream",
     "text": [
      "\n",
      "-------------------------------------------------------------------------------\n",
      "Warning - defaulting to search with facets=*\n",
      "\n",
      "This behavior is kept for backward-compatibility, but ESGF indexes might not\n",
      "successfully perform a distributed search when this option is used, so some\n",
      "results may be missing.  For full results, it is recommended to pass a list of\n",
      "facets of interest when instantiating a context object.  For example,\n",
      "\n",
      "      ctx = conn.new_context(facets='project,experiment_id')\n",
      "\n",
      "Only the facets that you specify will be present in the facets_counts dictionary.\n",
      "\n",
      "This warning is displayed when a distributed search is performed while using the\n",
      "facets=* default, a maximum of once per context object.  To suppress this warning,\n",
      "set the environment variable ESGF_PYCLIENT_NO_FACETS_STAR_WARNING to any value\n",
      "or explicitly use  conn.new_context(facets='*')\n",
      "\n",
      "-------------------------------------------------------------------------------\n"
     ]
    },
    {
     "name": "stdout",
     "output_type": "stream",
     "text": [
      "  Total de arquivos encontrados: 0\n",
      "  Nenhum arquivo com acesso HTTP disponível para tas\n",
      "\n",
      "[tasmin] Buscando arquivos para: CMIP6.CMIP.EC-Earth-Consortium.EC-Earth3.historical.r5i1p1f1.Amon.tasmin.gr.v20201001\n"
     ]
    },
    {
     "name": "stderr",
     "output_type": "stream",
     "text": [
      "\n",
      "-------------------------------------------------------------------------------\n",
      "Warning - defaulting to search with facets=*\n",
      "\n",
      "This behavior is kept for backward-compatibility, but ESGF indexes might not\n",
      "successfully perform a distributed search when this option is used, so some\n",
      "results may be missing.  For full results, it is recommended to pass a list of\n",
      "facets of interest when instantiating a context object.  For example,\n",
      "\n",
      "      ctx = conn.new_context(facets='project,experiment_id')\n",
      "\n",
      "Only the facets that you specify will be present in the facets_counts dictionary.\n",
      "\n",
      "This warning is displayed when a distributed search is performed while using the\n",
      "facets=* default, a maximum of once per context object.  To suppress this warning,\n",
      "set the environment variable ESGF_PYCLIENT_NO_FACETS_STAR_WARNING to any value\n",
      "or explicitly use  conn.new_context(facets='*')\n",
      "\n",
      "-------------------------------------------------------------------------------\n"
     ]
    },
    {
     "name": "stdout",
     "output_type": "stream",
     "text": [
      "  Total de arquivos encontrados: 0\n",
      "  Nenhum arquivo com acesso HTTP disponível para tasmin\n",
      "\n",
      "[tasmax] Buscando arquivos para: CMIP6.CMIP.EC-Earth-Consortium.EC-Earth3.historical.r5i1p1f1.Amon.tasmax.gr.v20201001\n"
     ]
    },
    {
     "name": "stderr",
     "output_type": "stream",
     "text": [
      "\n",
      "-------------------------------------------------------------------------------\n",
      "Warning - defaulting to search with facets=*\n",
      "\n",
      "This behavior is kept for backward-compatibility, but ESGF indexes might not\n",
      "successfully perform a distributed search when this option is used, so some\n",
      "results may be missing.  For full results, it is recommended to pass a list of\n",
      "facets of interest when instantiating a context object.  For example,\n",
      "\n",
      "      ctx = conn.new_context(facets='project,experiment_id')\n",
      "\n",
      "Only the facets that you specify will be present in the facets_counts dictionary.\n",
      "\n",
      "This warning is displayed when a distributed search is performed while using the\n",
      "facets=* default, a maximum of once per context object.  To suppress this warning,\n",
      "set the environment variable ESGF_PYCLIENT_NO_FACETS_STAR_WARNING to any value\n",
      "or explicitly use  conn.new_context(facets='*')\n",
      "\n",
      "-------------------------------------------------------------------------------\n"
     ]
    },
    {
     "name": "stdout",
     "output_type": "stream",
     "text": [
      "  Total de arquivos encontrados: 0\n",
      "  Nenhum arquivo com acesso HTTP disponível para tasmax\n",
      "\n",
      "[tos] Buscando arquivos para: CMIP6.CMIP.EC-Earth-Consortium.EC-Earth3.historical.r5i1p1f1.Omon.tos.gn.v20201001\n"
     ]
    },
    {
     "name": "stderr",
     "output_type": "stream",
     "text": [
      "\n",
      "-------------------------------------------------------------------------------\n",
      "Warning - defaulting to search with facets=*\n",
      "\n",
      "This behavior is kept for backward-compatibility, but ESGF indexes might not\n",
      "successfully perform a distributed search when this option is used, so some\n",
      "results may be missing.  For full results, it is recommended to pass a list of\n",
      "facets of interest when instantiating a context object.  For example,\n",
      "\n",
      "      ctx = conn.new_context(facets='project,experiment_id')\n",
      "\n",
      "Only the facets that you specify will be present in the facets_counts dictionary.\n",
      "\n",
      "This warning is displayed when a distributed search is performed while using the\n",
      "facets=* default, a maximum of once per context object.  To suppress this warning,\n",
      "set the environment variable ESGF_PYCLIENT_NO_FACETS_STAR_WARNING to any value\n",
      "or explicitly use  conn.new_context(facets='*')\n",
      "\n",
      "-------------------------------------------------------------------------------\n"
     ]
    },
    {
     "name": "stdout",
     "output_type": "stream",
     "text": [
      "  Total de arquivos encontrados: 0\n",
      "  Nenhum arquivo com acesso HTTP disponível para tos\n",
      "\n",
      "[ps] Buscando arquivos para: CMIP6.CMIP.EC-Earth-Consortium.EC-Earth3.historical.r5i1p1f1.Emon.ps.gr.v20201001\n"
     ]
    },
    {
     "name": "stderr",
     "output_type": "stream",
     "text": [
      "\n",
      "-------------------------------------------------------------------------------\n",
      "Warning - defaulting to search with facets=*\n",
      "\n",
      "This behavior is kept for backward-compatibility, but ESGF indexes might not\n",
      "successfully perform a distributed search when this option is used, so some\n",
      "results may be missing.  For full results, it is recommended to pass a list of\n",
      "facets of interest when instantiating a context object.  For example,\n",
      "\n",
      "      ctx = conn.new_context(facets='project,experiment_id')\n",
      "\n",
      "Only the facets that you specify will be present in the facets_counts dictionary.\n",
      "\n",
      "This warning is displayed when a distributed search is performed while using the\n",
      "facets=* default, a maximum of once per context object.  To suppress this warning,\n",
      "set the environment variable ESGF_PYCLIENT_NO_FACETS_STAR_WARNING to any value\n",
      "or explicitly use  conn.new_context(facets='*')\n",
      "\n",
      "-------------------------------------------------------------------------------\n"
     ]
    },
    {
     "name": "stdout",
     "output_type": "stream",
     "text": [
      "  Total de arquivos encontrados: 0\n",
      "  Nenhum arquivo com acesso HTTP disponível para ps\n",
      "\n",
      "[pr] Buscando arquivos para: CMIP6.CMIP.EC-Earth-Consortium.EC-Earth3.historical.r5i1p1f1.Amon.pr.gr.v20201001\n"
     ]
    },
    {
     "name": "stderr",
     "output_type": "stream",
     "text": [
      "\n",
      "-------------------------------------------------------------------------------\n",
      "Warning - defaulting to search with facets=*\n",
      "\n",
      "This behavior is kept for backward-compatibility, but ESGF indexes might not\n",
      "successfully perform a distributed search when this option is used, so some\n",
      "results may be missing.  For full results, it is recommended to pass a list of\n",
      "facets of interest when instantiating a context object.  For example,\n",
      "\n",
      "      ctx = conn.new_context(facets='project,experiment_id')\n",
      "\n",
      "Only the facets that you specify will be present in the facets_counts dictionary.\n",
      "\n",
      "This warning is displayed when a distributed search is performed while using the\n",
      "facets=* default, a maximum of once per context object.  To suppress this warning,\n",
      "set the environment variable ESGF_PYCLIENT_NO_FACETS_STAR_WARNING to any value\n",
      "or explicitly use  conn.new_context(facets='*')\n",
      "\n",
      "-------------------------------------------------------------------------------\n"
     ]
    },
    {
     "name": "stdout",
     "output_type": "stream",
     "text": [
      "  Total de arquivos encontrados: 0\n",
      "  Nenhum arquivo com acesso HTTP disponível para pr\n"
     ]
    }
   ],
   "source": [
    "# Conexão apenas para arquivos\n",
    "conn_files = SearchConnection(\"https://esgf-data.dkrz.de/esg-search\", distrib=True)\n",
    "#conn_files = SearchConnection(\"https://esgf-node.llnl.gov/esg-search\", distrib=False, timeout=300) #\n",
    "#conn_files = SearchConnection(\"https://eagle.alcf.anl.gov/esg-search\", distrib=False, timeout=300)\n",
    "\n",
    "for var, dataset in dataset_mais_recente_por_variavel.items():\n",
    "    #dataset_id = dataset.dataset_id\n",
    "    dataset_id = dataset.dataset_id.split('|')[0]\n",
    "    print(f\"\\n[{var}] Buscando arquivos para: {dataset_id}\")\n",
    "\n",
    "    # Criar contexto no nó de download com o mesmo dataset_id\n",
    "    ctx = conn_files.new_context(project=\"CMIP6\", dataset_id=dataset_id, type=\"File\")\n",
    "\n",
    "    try:\n",
    "        files = list(ctx.search())\n",
    "    except Exception as e:\n",
    "        print(f\"  Erro ao buscar arquivos: {e}\")\n",
    "        continue\n",
    "\n",
    "    print(f\"  Total de arquivos encontrados: {len(files)}\")\n",
    "\n",
    "    files_http = [f for f in files if \"HTTPServer\" in f.json.get(\"access\", [])]\n",
    "\n",
    "    if not files_http:\n",
    "        print(f\"  Nenhum arquivo com acesso HTTP disponível para {var}\")\n",
    "        continue\n",
    "\n",
    "    for f in files_http:\n",
    "        url = f.download_url()\n",
    "        filename = os.path.join(download_dir, var, os.path.basename(url))\n",
    "        os.makedirs(os.path.dirname(filename), exist_ok=True)\n",
    "\n",
    "        cmd = f\"wget -nc -O \\\"{filename}\\\" {url}\"\n",
    "        print(f\"  Baixando: {url}\")\n",
    "        os.system(cmd)\n"
   ]
  },
  {
   "cell_type": "code",
   "execution_count": 31,
   "id": "c2b6cabb",
   "metadata": {},
   "outputs": [
    {
     "data": {
      "text/plain": [
       "{'mip_era': ['CMIP6'],\n",
       " 'activity_drs': ['CMIP'],\n",
       " 'institution_id': ['EC-Earth-Consortium'],\n",
       " 'source_id': ['EC-Earth3'],\n",
       " 'experiment_id': ['historical'],\n",
       " 'member_id': ['r5i1p1f1'],\n",
       " 'table_id': ['Amon'],\n",
       " 'variable_id': ['tas'],\n",
       " 'grid_label': ['gr'],\n",
       " 'frequency': ['mon'],\n",
       " 'realm': ['atmos'],\n",
       " 'product': ['model-output'],\n",
       " 'nominal_resolution': ['100 km'],\n",
       " 'source_type': ['AOGCM'],\n",
       " 'grid': ['T255L91'],\n",
       " 'creation_date': '2020-09-27T04:59:24Z',\n",
       " 'variant_label': ['r5i1p1f1'],\n",
       " 'sub_experiment_id': ['none'],\n",
       " 'further_info_url': ['https://furtherinfo.es-doc.org/CMIP6.EC-Earth-Consortium.EC-Earth3.historical.none.r5i1p1f1'],\n",
       " 'activity_id': ['CMIP'],\n",
       " 'data_specs_version': ['01.00.32'],\n",
       " 'title': 'CMIP6.CMIP.EC-Earth-Consortium.EC-Earth3.historical.r5i1p1f1.Amon.tas.gr',\n",
       " 'experiment_title': ['all-forcing simulation of the recent past'],\n",
       " 'data_node': 'eagle.alcf.anl.gov',\n",
       " 'index_node': 'us-index',\n",
       " 'master_id': 'CMIP6.CMIP.EC-Earth-Consortium.EC-Earth3.historical.r5i1p1f1.Amon.tas.gr',\n",
       " 'instance_id': 'CMIP6.CMIP.EC-Earth-Consortium.EC-Earth3.historical.r5i1p1f1.Amon.tas.gr.v20201001',\n",
       " 'id': 'CMIP6.CMIP.EC-Earth-Consortium.EC-Earth3.historical.r5i1p1f1.Amon.tas.gr.v20201001|eagle.alcf.anl.gov',\n",
       " 'short_description': ['EC-Earth3 output prepared for CMIP6'],\n",
       " 'replica': True,\n",
       " 'latest': True,\n",
       " 'type': 'Dataset',\n",
       " 'version': '20201001',\n",
       " 'dataset_id_template_': ['%(mip_era)s.%(activity_drs)s.%(institution_id)s.%(source_id)s.%(experiment_id)s.%(member_id)s.%(table_id)s.%(variable_id)s.%(grid_label)s'],\n",
       " 'directory_format_template_': ['%(root)s/%(mip_era)s/%(activity_drs)s/%(institution_id)s/%(source_id)s/%(experiment_id)s/%(member_id)s/%(table_id)s/%(variable_id)s/%(grid_label)s/%(version)s'],\n",
       " 'model_cohort': ['Registered'],\n",
       " 'project': ['CMIP6'],\n",
       " 'variable_long_name': ['Near-Surface Air Temperature'],\n",
       " 'cf_standard_name': ['air_temperature'],\n",
       " 'variable_units': ['K'],\n",
       " 'variable': ['tas'],\n",
       " 'north_degrees': 89.46282,\n",
       " 'south_degrees': -89.46282,\n",
       " 'east_degrees': 359.29688,\n",
       " 'west_degrees': 0.0,\n",
       " 'datetime_start': '1850-01-16T00:00:00Z',\n",
       " 'datetime_end': '2014-12-16T00:00:00Z',\n",
       " 'number_of_files': 165,\n",
       " 'size': 780798072,\n",
       " 'access': ['HTTPServer', 'Globus'],\n",
       " 'citation_url': ['http://cera-www.dkrz.de/WDCC/meta/CMIP6/CMIP6.CMIP.EC-Earth-Consortium.EC-Earth3.historical.r5i1p1f1.Amon.tas.gr.v20201001.json'],\n",
       " 'xlink': ['http://cera-www.dkrz.de/WDCC/meta/CMIP6/CMIP6.CMIP.EC-Earth-Consortium.EC-Earth3.historical.r5i1p1f1.Amon.tas.gr.v20201001.json|Citation|citation',\n",
       "  'http://hdl.handle.net/hdl:21.14100/49fa1878-d21c-32c9-bb60-c3acf0404f43|PID|pid'],\n",
       " 'pid': ['hdl:21.14100/49fa1878-d21c-32c9-bb60-c3acf0404f43'],\n",
       " '_version_': 1781679144121139200,\n",
       " 'retracted': False,\n",
       " '_timestamp': '2023-11-04T23:47:19.825Z',\n",
       " 'score': 0.5}"
      ]
     },
     "execution_count": 31,
     "metadata": {},
     "output_type": "execute_result"
    }
   ],
   "source": [
    "dataset_mais_recente_por_variavel[\"tas\"].json"
   ]
  },
  {
   "cell_type": "markdown",
   "id": "c952625c",
   "metadata": {},
   "source": [
    "#### tas | UKESM1-0-LL | tutorial"
   ]
  },
  {
   "cell_type": "code",
   "execution_count": 12,
   "id": "0548b66e",
   "metadata": {},
   "outputs": [
    {
     "data": {
      "text/plain": [
       "0"
      ]
     },
     "execution_count": 12,
     "metadata": {},
     "output_type": "execute_result"
    }
   ],
   "source": [
    "conn = SearchConnection('https://esgf-data.dkrz.de/esg-search', distrib=True)\n",
    "ctx = conn.new_context(\n",
    "    project='CMIP6',\n",
    "    source_id='UKESM1-0-LL',\n",
    "    experiment_id='historical',\n",
    "    variable='tas',\n",
    "    frequency='mon',\n",
    "    variant_label='r1i1p1f2',\n",
    "    data_node='esgf-data3.ceda.ac.uk')\n",
    "ctx.hit_count"
   ]
  },
  {
   "cell_type": "code",
   "execution_count": 11,
   "id": "7c6617df",
   "metadata": {},
   "outputs": [
    {
     "ename": "IndexError",
     "evalue": "list index out of range",
     "output_type": "error",
     "traceback": [
      "\u001b[31m---------------------------------------------------------------------------\u001b[39m",
      "\u001b[31mIndexError\u001b[39m                                Traceback (most recent call last)",
      "\u001b[36mCell\u001b[39m\u001b[36m \u001b[39m\u001b[32mIn[11]\u001b[39m\u001b[32m, line 1\u001b[39m\n\u001b[32m----> \u001b[39m\u001b[32m1\u001b[39m result = \u001b[43mctx\u001b[49m\u001b[43m.\u001b[49m\u001b[43msearch\u001b[49m\u001b[43m(\u001b[49m\u001b[43m)\u001b[49m\u001b[43m[\u001b[49m\u001b[32;43m0\u001b[39;49m\u001b[43m]\u001b[49m\n\u001b[32m      2\u001b[39m result.dataset_id\n",
      "\u001b[36mFile \u001b[39m\u001b[32mc:\\Users\\thais\\.virtualenvs\\climate\\Lib\\site-packages\\pyesgf\\search\\results.py:53\u001b[39m, in \u001b[36mResultSet.__getitem__\u001b[39m\u001b[34m(self, index)\u001b[39m\n\u001b[32m     50\u001b[39m ResultClass = _result_classes[search_type]\n\u001b[32m     52\u001b[39m \u001b[38;5;66;03m# !TODO: should probably wrap the json inside self.__batch_cache\u001b[39;00m\n\u001b[32m---> \u001b[39m\u001b[32m53\u001b[39m \u001b[38;5;28;01mreturn\u001b[39;00m ResultClass(\u001b[43mbatch\u001b[49m\u001b[43m[\u001b[49m\u001b[43moffset\u001b[49m\u001b[43m]\u001b[49m, \u001b[38;5;28mself\u001b[39m.context)\n",
      "\u001b[31mIndexError\u001b[39m: list index out of range"
     ]
    }
   ],
   "source": [
    "result = ctx.search()[0]\n",
    "result.dataset_id"
   ]
  },
  {
   "cell_type": "code",
   "execution_count": 14,
   "id": "245a2fa5",
   "metadata": {},
   "outputs": [
    {
     "name": "stdout",
     "output_type": "stream",
     "text": [
      "Logado? False\n",
      "Enter myproxy username: "
     ]
    },
    {
     "ename": "TimeoutError",
     "evalue": "[WinError 10060] Uma tentativa de conexão falhou porque o componente conectado não respondeu\r\ncorretamente após um período de tempo ou a conexão estabelecida falhou\r\nporque o host conectado não respondeu",
     "output_type": "error",
     "traceback": [
      "\u001b[31m---------------------------------------------------------------------------\u001b[39m",
      "\u001b[31mTimeoutError\u001b[39m                              Traceback (most recent call last)",
      "\u001b[36mCell\u001b[39m\u001b[36m \u001b[39m\u001b[32mIn[14]\u001b[39m\u001b[32m, line 12\u001b[39m\n\u001b[32m      9\u001b[39m \u001b[38;5;28mprint\u001b[39m(\u001b[33m\"\u001b[39m\u001b[33mLogado?\u001b[39m\u001b[33m\"\u001b[39m, lm.is_logged_on())\n\u001b[32m     11\u001b[39m myproxy_host = \u001b[33m'\u001b[39m\u001b[33mesgf-data.dkrz.de\u001b[39m\u001b[33m'\u001b[39m\n\u001b[32m---> \u001b[39m\u001b[32m12\u001b[39m \u001b[43mlm\u001b[49m\u001b[43m.\u001b[49m\u001b[43mlogon\u001b[49m\u001b[43m(\u001b[49m\u001b[43musername\u001b[49m\u001b[43m=\u001b[49m\u001b[38;5;28;43;01mNone\u001b[39;49;00m\u001b[43m,\u001b[49m\u001b[43m \u001b[49m\u001b[43mpassword\u001b[49m\u001b[43m=\u001b[49m\u001b[38;5;28;43;01mNone\u001b[39;49;00m\u001b[43m,\u001b[49m\u001b[43m \u001b[49m\u001b[43mhostname\u001b[49m\u001b[43m=\u001b[49m\u001b[43mmyproxy_host\u001b[49m\u001b[43m)\u001b[49m  \u001b[38;5;66;03m# Isso abrirá um prompt interativo\u001b[39;00m\n\u001b[32m     13\u001b[39m \u001b[38;5;28mprint\u001b[39m(\u001b[33m\"\u001b[39m\u001b[33mLogado após autenticação?\u001b[39m\u001b[33m\"\u001b[39m, lm.is_logged_on())\n",
      "\u001b[36mFile \u001b[39m\u001b[32mc:\\Users\\thais\\.virtualenvs\\climate\\Lib\\site-packages\\pyesgf\\logon.py:184\u001b[39m, in \u001b[36mLogonManager.logon\u001b[39m\u001b[34m(self, username, password, hostname, bootstrap, update_trustroots, interactive)\u001b[39m\n\u001b[32m    180\u001b[39m     \u001b[38;5;28;01mraise\u001b[39;00m OpenidResolutionError(\u001b[33m'\u001b[39m\u001b[33mFull logon details not available\u001b[39m\u001b[33m'\u001b[39m)\n\u001b[32m    182\u001b[39m c = MyProxyClient(hostname=hostname, caCertDir=\u001b[38;5;28mself\u001b[39m.esgf_certs_dir)\n\u001b[32m--> \u001b[39m\u001b[32m184\u001b[39m creds = \u001b[43mc\u001b[49m\u001b[43m.\u001b[49m\u001b[43mlogon\u001b[49m\u001b[43m(\u001b[49m\u001b[43musername\u001b[49m\u001b[43m,\u001b[49m\u001b[43m \u001b[49m\u001b[43mpassword\u001b[49m\u001b[43m,\u001b[49m\n\u001b[32m    185\u001b[39m \u001b[43m                \u001b[49m\u001b[43mbootstrap\u001b[49m\u001b[43m=\u001b[49m\u001b[43mbootstrap\u001b[49m\u001b[43m,\u001b[49m\n\u001b[32m    186\u001b[39m \u001b[43m                \u001b[49m\u001b[43mupdateTrustRoots\u001b[49m\u001b[43m=\u001b[49m\u001b[43mupdate_trustroots\u001b[49m\u001b[43m)\u001b[49m\n\u001b[32m    187\u001b[39m \u001b[38;5;28;01mwith\u001b[39;00m \u001b[38;5;28mopen\u001b[39m(\u001b[38;5;28mself\u001b[39m.esgf_credentials, \u001b[33m'\u001b[39m\u001b[33mwb\u001b[39m\u001b[33m'\u001b[39m) \u001b[38;5;28;01mas\u001b[39;00m fh:\n\u001b[32m    188\u001b[39m     \u001b[38;5;28;01mfor\u001b[39;00m cred \u001b[38;5;129;01min\u001b[39;00m creds:\n",
      "\u001b[36mFile \u001b[39m\u001b[32mc:\\Users\\thais\\.virtualenvs\\climate\\Lib\\site-packages\\myproxy\\client\\__init__.py:1453\u001b[39m, in \u001b[36mMyProxyClient.logon\u001b[39m\u001b[34m(self, username, passphrase, credname, lifetime, keyPair, certReq, nBitsForKey, bootstrap, updateTrustRoots, authnGetTrustRootsCall, sslCertFile, sslKeyFile, sslKeyFilePassphrase)\u001b[39m\n\u001b[32m   1450\u001b[39m     \u001b[38;5;28;01melse\u001b[39;00m:\n\u001b[32m   1451\u001b[39m         getTrustRootsKw = {}\n\u001b[32m-> \u001b[39m\u001b[32m1453\u001b[39m     \u001b[38;5;28;43mself\u001b[39;49m\u001b[43m.\u001b[49m\u001b[43mgetTrustRoots\u001b[49m\u001b[43m(\u001b[49m\u001b[43mwriteToCACertDir\u001b[49m\u001b[43m=\u001b[49m\u001b[38;5;28;43;01mTrue\u001b[39;49;00m\u001b[43m,\u001b[49m\n\u001b[32m   1454\u001b[39m \u001b[43m                       \u001b[49m\u001b[43mbootstrap\u001b[49m\u001b[43m=\u001b[49m\u001b[43mbootstrap\u001b[49m\u001b[43m,\u001b[49m\n\u001b[32m   1455\u001b[39m \u001b[43m                       \u001b[49m\u001b[43m*\u001b[49m\u001b[43m*\u001b[49m\u001b[43mgetTrustRootsKw\u001b[49m\u001b[43m)\u001b[49m\n\u001b[32m   1457\u001b[39m lifetime = lifetime \u001b[38;5;129;01mor\u001b[39;00m \u001b[38;5;28mself\u001b[39m.proxyCertLifetime\n\u001b[32m   1459\u001b[39m \u001b[38;5;66;03m# Basic sanity check on username to avoid overhead on server\u001b[39;00m\n",
      "\u001b[36mFile \u001b[39m\u001b[32mc:\\Users\\thais\\.virtualenvs\\climate\\Lib\\site-packages\\myproxy\\client\\__init__.py:1609\u001b[39m, in \u001b[36mMyProxyClient.getTrustRoots\u001b[39m\u001b[34m(self, username, passphrase, writeToCACertDir, bootstrap)\u001b[39m\n\u001b[32m   1607\u001b[39m \u001b[38;5;66;03m# Set-up SSL connection\u001b[39;00m\n\u001b[32m   1608\u001b[39m conn = \u001b[38;5;28mself\u001b[39m._initConnection(verifyPeerWithTrustRoots=(\u001b[38;5;129;01mnot\u001b[39;00m bootstrap))\n\u001b[32m-> \u001b[39m\u001b[32m1609\u001b[39m \u001b[43mconn\u001b[49m\u001b[43m.\u001b[49m\u001b[43mconnect\u001b[49m\u001b[43m(\u001b[49m\u001b[43m(\u001b[49m\u001b[38;5;28;43mself\u001b[39;49m\u001b[43m.\u001b[49m\u001b[43mhostname\u001b[49m\u001b[43m,\u001b[49m\u001b[43m \u001b[49m\u001b[38;5;28;43mself\u001b[39;49m\u001b[43m.\u001b[49m\u001b[43mport\u001b[49m\u001b[43m)\u001b[49m\u001b[43m)\u001b[49m\n\u001b[32m   1611\u001b[39m \u001b[38;5;66;03m# send globus compatibility stuff\u001b[39;00m\n\u001b[32m   1612\u001b[39m conn.write(\u001b[38;5;28mself\u001b[39m.\u001b[34m__class__\u001b[39m.GLOBUS_INIT_MSG)\n",
      "\u001b[36mFile \u001b[39m\u001b[32mc:\\Users\\thais\\.virtualenvs\\climate\\Lib\\site-packages\\OpenSSL\\SSL.py:2443\u001b[39m, in \u001b[36mConnection.connect\u001b[39m\u001b[34m(self, addr)\u001b[39m\n\u001b[32m   2434\u001b[39m \u001b[38;5;250m\u001b[39m\u001b[33;03m\"\"\"\u001b[39;00m\n\u001b[32m   2435\u001b[39m \u001b[33;03mCall the :meth:`connect` method of the underlying socket and set up SSL\u001b[39;00m\n\u001b[32m   2436\u001b[39m \u001b[33;03mon the socket, using the :class:`Context` object supplied to this\u001b[39;00m\n\u001b[32m   (...)\u001b[39m\u001b[32m   2440\u001b[39m \u001b[33;03m:return: What the socket's connect method returns\u001b[39;00m\n\u001b[32m   2441\u001b[39m \u001b[33;03m\"\"\"\u001b[39;00m\n\u001b[32m   2442\u001b[39m _lib.SSL_set_connect_state(\u001b[38;5;28mself\u001b[39m._ssl)\n\u001b[32m-> \u001b[39m\u001b[32m2443\u001b[39m \u001b[38;5;28;01mreturn\u001b[39;00m \u001b[38;5;28;43mself\u001b[39;49m\u001b[43m.\u001b[49m\u001b[43m_socket\u001b[49m\u001b[43m.\u001b[49m\u001b[43mconnect\u001b[49m\u001b[43m(\u001b[49m\u001b[43maddr\u001b[49m\u001b[43m)\u001b[49m\n",
      "\u001b[31mTimeoutError\u001b[39m: [WinError 10060] Uma tentativa de conexão falhou porque o componente conectado não respondeu\r\ncorretamente após um período de tempo ou a conexão estabelecida falhou\r\nporque o host conectado não respondeu"
     ]
    }
   ],
   "source": [
    "import os\n",
    "if 'HOME' not in os.environ:\n",
    "    os.environ['HOME'] = os.environ.get('USERPROFILE', 'C:\\\\Users\\\\thais')\n",
    "\n",
    "from pyesgf.logon import LogonManager\n",
    "\n",
    "lm = LogonManager()\n",
    "lm.logoff()\n",
    "print(\"Logado?\", lm.is_logged_on())\n",
    "\n",
    "myproxy_host = 'esgf-data.dkrz.de'\n",
    "lm.logon(username=None, password=None, hostname=myproxy_host)  # Isso abrirá um prompt interativo\n",
    "print(\"Logado após autenticação?\", lm.is_logged_on())"
   ]
  },
  {
   "cell_type": "markdown",
   "id": "b160bea8",
   "metadata": {},
   "source": [
    "#### tas | EC-Earth3"
   ]
  },
  {
   "cell_type": "code",
   "execution_count": 61,
   "id": "e631cb86",
   "metadata": {},
   "outputs": [
    {
     "ename": "HTTPError",
     "evalue": "422 Client Error: Unprocessable Content for url: https://esgf-node.ornl.gov/esgf-1-5-bridge?format=application%2Fsolr%2Bjson&limit=0&distrib=true&type=Dataset&project=CMIP6&source_id=EC-Earth3&experiment_id=historical&member_id=r5i1p1f1&table_id=Amon&variable_id=pr&grid_label=gr&version=20201001&facets=%2A",
     "output_type": "error",
     "traceback": [
      "\u001b[31m---------------------------------------------------------------------------\u001b[39m",
      "\u001b[31mHTTPError\u001b[39m                                 Traceback (most recent call last)",
      "\u001b[36mCell\u001b[39m\u001b[36m \u001b[39m\u001b[32mIn[61]\u001b[39m\u001b[32m, line 33\u001b[39m\n\u001b[32m     19\u001b[39m facets = parse_dataset_id(dataset_id)\n\u001b[32m     21\u001b[39m ctx_files = conn_files.new_context(\n\u001b[32m     22\u001b[39m     project=facets[\u001b[33m\"\u001b[39m\u001b[33mproject\u001b[39m\u001b[33m\"\u001b[39m],\n\u001b[32m     23\u001b[39m     source_id=facets[\u001b[33m\"\u001b[39m\u001b[33msource_id\u001b[39m\u001b[33m\"\u001b[39m],\n\u001b[32m   (...)\u001b[39m\u001b[32m     30\u001b[39m     \u001b[38;5;28mtype\u001b[39m=\u001b[33m\"\u001b[39m\u001b[33mFile\u001b[39m\u001b[33m\"\u001b[39m\n\u001b[32m     31\u001b[39m )\n\u001b[32m---> \u001b[39m\u001b[32m33\u001b[39m files = \u001b[38;5;28mlist\u001b[39m(\u001b[43mctx_files\u001b[49m\u001b[43m.\u001b[49m\u001b[43msearch\u001b[49m\u001b[43m(\u001b[49m\u001b[43m)\u001b[49m)\n\u001b[32m     35\u001b[39m \u001b[38;5;28;01mif\u001b[39;00m \u001b[38;5;129;01mnot\u001b[39;00m files:\n\u001b[32m     36\u001b[39m     \u001b[38;5;28mprint\u001b[39m(\u001b[33m\"\u001b[39m\u001b[33mNenhum arquivo encontrado.\u001b[39m\u001b[33m\"\u001b[39m)\n",
      "\u001b[36mFile \u001b[39m\u001b[32mc:\\Users\\thais\\.virtualenvs\\climate\\Lib\\site-packages\\pyesgf\\search\\context.py:139\u001b[39m, in \u001b[36mSearchContext.search\u001b[39m\u001b[34m(self, batch_size, ignore_facet_check, **constraints)\u001b[39m\n\u001b[32m    136\u001b[39m     sc = \u001b[38;5;28mself\u001b[39m\n\u001b[32m    138\u001b[39m \u001b[38;5;28;01mif\u001b[39;00m \u001b[38;5;129;01mnot\u001b[39;00m ignore_facet_check:\n\u001b[32m--> \u001b[39m\u001b[32m139\u001b[39m     \u001b[43msc\u001b[49m\u001b[43m.\u001b[49m\u001b[43m__update_counts\u001b[49m\u001b[43m(\u001b[49m\u001b[43m)\u001b[49m\n\u001b[32m    141\u001b[39m \u001b[38;5;28;01mreturn\u001b[39;00m ResultSet(sc, batch_size=batch_size)\n",
      "\u001b[36mFile \u001b[39m\u001b[32mc:\\Users\\thais\\.virtualenvs\\climate\\Lib\\site-packages\\pyesgf\\search\\context.py:220\u001b[39m, in \u001b[36mSearchContext.__update_counts\u001b[39m\u001b[34m(self)\u001b[39m\n\u001b[32m    217\u001b[39m     \u001b[38;5;28;01mif\u001b[39;00m \u001b[38;5;28mself\u001b[39m.connection.distrib:\n\u001b[32m    218\u001b[39m         \u001b[38;5;28mself\u001b[39m._do_facets_star_warning()\n\u001b[32m--> \u001b[39m\u001b[32m220\u001b[39m response = \u001b[38;5;28;43mself\u001b[39;49m\u001b[43m.\u001b[49m\u001b[43mconnection\u001b[49m\u001b[43m.\u001b[49m\u001b[43msend_search\u001b[49m\u001b[43m(\u001b[49m\u001b[43mquery_dict\u001b[49m\u001b[43m,\u001b[49m\u001b[43m \u001b[49m\u001b[43mlimit\u001b[49m\u001b[43m=\u001b[49m\u001b[32;43m0\u001b[39;49m\u001b[43m)\u001b[49m\n\u001b[32m    221\u001b[39m \u001b[38;5;28;01mfor\u001b[39;00m facet, counts \u001b[38;5;129;01min\u001b[39;00m (\u001b[38;5;28mlist\u001b[39m(response[\u001b[33m'\u001b[39m\u001b[33mfacet_counts\u001b[39m\u001b[33m'\u001b[39m][\u001b[33m'\u001b[39m\u001b[33mfacet_fields\u001b[39m\u001b[33m'\u001b[39m].items())):\n\u001b[32m    222\u001b[39m     d = \u001b[38;5;28mself\u001b[39m.__facet_counts[facet] = {}\n",
      "\u001b[36mFile \u001b[39m\u001b[32mc:\\Users\\thais\\.virtualenvs\\climate\\Lib\\site-packages\\pyesgf\\search\\connection.py:159\u001b[39m, in \u001b[36mSearchConnection.send_search\u001b[39m\u001b[34m(self, query_dict, limit, offset, shards)\u001b[39m\n\u001b[32m    157\u001b[39m \u001b[38;5;28;01mif\u001b[39;00m \u001b[38;5;129;01mnot\u001b[39;00m \u001b[38;5;28mself\u001b[39m._isopen:\n\u001b[32m    158\u001b[39m     \u001b[38;5;28mself\u001b[39m.open()\n\u001b[32m--> \u001b[39m\u001b[32m159\u001b[39m response = \u001b[38;5;28;43mself\u001b[39;49m\u001b[43m.\u001b[49m\u001b[43m_send_query\u001b[49m\u001b[43m(\u001b[49m\u001b[33;43m'\u001b[39;49m\u001b[33;43msearch\u001b[39;49m\u001b[33;43m'\u001b[39;49m\u001b[43m,\u001b[49m\u001b[43m \u001b[49m\u001b[43mfull_query\u001b[49m\u001b[43m)\u001b[49m\n\u001b[32m    160\u001b[39m ret = response.json()\n\u001b[32m    161\u001b[39m response.close()\n",
      "\u001b[36mFile \u001b[39m\u001b[32mc:\\Users\\thais\\.virtualenvs\\climate\\Lib\\site-packages\\pyesgf\\search\\connection.py:213\u001b[39m, in \u001b[36mSearchConnection._send_query\u001b[39m\u001b[34m(self, endpoint, full_query)\u001b[39m\n\u001b[32m    210\u001b[39m     \u001b[38;5;28;01mraise\u001b[39;00m \u001b[38;5;167;01mException\u001b[39;00m(\u001b[33m\"\u001b[39m\u001b[33mInvalid query parameter(s): \u001b[39m\u001b[38;5;132;01m%s\u001b[39;00m\u001b[33m\"\u001b[39m % content)\n\u001b[32m    212\u001b[39m \u001b[38;5;66;03m# Raise if query was unsucessful:\u001b[39;00m\n\u001b[32m--> \u001b[39m\u001b[32m213\u001b[39m \u001b[43mresponse\u001b[49m\u001b[43m.\u001b[49m\u001b[43mraise_for_status\u001b[49m\u001b[43m(\u001b[49m\u001b[43m)\u001b[49m\n\u001b[32m    214\u001b[39m \u001b[38;5;28;01mreturn\u001b[39;00m response\n",
      "\u001b[36mFile \u001b[39m\u001b[32mc:\\Users\\thais\\.virtualenvs\\climate\\Lib\\site-packages\\requests\\models.py:1026\u001b[39m, in \u001b[36mResponse.raise_for_status\u001b[39m\u001b[34m(self)\u001b[39m\n\u001b[32m   1021\u001b[39m     http_error_msg = (\n\u001b[32m   1022\u001b[39m         \u001b[33mf\u001b[39m\u001b[33m\"\u001b[39m\u001b[38;5;132;01m{\u001b[39;00m\u001b[38;5;28mself\u001b[39m.status_code\u001b[38;5;132;01m}\u001b[39;00m\u001b[33m Server Error: \u001b[39m\u001b[38;5;132;01m{\u001b[39;00mreason\u001b[38;5;132;01m}\u001b[39;00m\u001b[33m for url: \u001b[39m\u001b[38;5;132;01m{\u001b[39;00m\u001b[38;5;28mself\u001b[39m.url\u001b[38;5;132;01m}\u001b[39;00m\u001b[33m\"\u001b[39m\n\u001b[32m   1023\u001b[39m     )\n\u001b[32m   1025\u001b[39m \u001b[38;5;28;01mif\u001b[39;00m http_error_msg:\n\u001b[32m-> \u001b[39m\u001b[32m1026\u001b[39m     \u001b[38;5;28;01mraise\u001b[39;00m HTTPError(http_error_msg, response=\u001b[38;5;28mself\u001b[39m)\n",
      "\u001b[31mHTTPError\u001b[39m: 422 Client Error: Unprocessable Content for url: https://esgf-node.ornl.gov/esgf-1-5-bridge?format=application%2Fsolr%2Bjson&limit=0&distrib=true&type=Dataset&project=CMIP6&source_id=EC-Earth3&experiment_id=historical&member_id=r5i1p1f1&table_id=Amon&variable_id=pr&grid_label=gr&version=20201001&facets=%2A"
     ]
    }
   ],
   "source": [
    "def parse_dataset_id(dataset_id):\n",
    "    # Exemplo: CMIP6.CMIP.EC-Earth-Consortium.EC-Earth3.historical.r5i1p1f1.Amon.pr.gr.v20201001\n",
    "    parts = dataset_id.split('.')\n",
    "    return {\n",
    "        \"project\": parts[0],\n",
    "        \"activity_id\": parts[1],          # CMIP\n",
    "        \"institution_id\": parts[2],       # EC-Earth-Consortium\n",
    "        \"source_id\": parts[3],            # EC-Earth3\n",
    "        \"experiment_id\": parts[4],        # historical\n",
    "        \"member_id\": parts[5],            # r5i1p1f1\n",
    "        \"table_id\": parts[6],             # Amon\n",
    "        \"variable_id\": parts[7],          # pr\n",
    "        \"grid_label\": parts[8],           # gr\n",
    "        \"version\": parts[9][1:]           # remove 'v' antes do número da versão\n",
    "    }\n",
    "\n",
    "\n",
    "dataset_id = \"CMIP6.CMIP.EC-Earth-Consortium.EC-Earth3.historical.r5i1p1f1.Amon.pr.gr.v20201001\"\n",
    "facets = parse_dataset_id(dataset_id)\n",
    "\n",
    "ctx_files = conn_files.new_context(\n",
    "    project=facets[\"project\"],\n",
    "    source_id=facets[\"source_id\"],\n",
    "    experiment_id=facets[\"experiment_id\"],\n",
    "    member_id=facets[\"member_id\"],\n",
    "    table_id=facets[\"table_id\"],\n",
    "    variable_id=facets[\"variable_id\"],\n",
    "    grid_label=facets[\"grid_label\"],\n",
    "    version=facets[\"version\"],\n",
    "    type=\"File\"\n",
    ")\n",
    "\n",
    "files = list(ctx_files.search())\n",
    "\n",
    "if not files:\n",
    "    print(\"Nenhum arquivo encontrado.\")\n",
    "else:\n",
    "    for f in files:\n",
    "        print(f.download_url(), f.json.get(\"data_node\", \"n/a\"))\n"
   ]
  },
  {
   "cell_type": "code",
   "execution_count": 62,
   "id": "2109d4c1",
   "metadata": {},
   "outputs": [
    {
     "ename": "HTTPError",
     "evalue": "422 Client Error: Unprocessable Content for url: https://esgf-node.ornl.gov/esgf-1-5-bridge?format=application%2Fsolr%2Bjson&limit=0&distrib=true&type=Dataset&project=CMIP6&source_id=EC-Earth3&experiment_id=historical&variable_id=pr&table_id=Amon&facets=%2A",
     "output_type": "error",
     "traceback": [
      "\u001b[31m---------------------------------------------------------------------------\u001b[39m",
      "\u001b[31mHTTPError\u001b[39m                                 Traceback (most recent call last)",
      "\u001b[36mCell\u001b[39m\u001b[36m \u001b[39m\u001b[32mIn[62]\u001b[39m\u001b[32m, line 11\u001b[39m\n\u001b[32m      1\u001b[39m ctx_files = conn_files.new_context(\n\u001b[32m      2\u001b[39m     project=\u001b[33m\"\u001b[39m\u001b[33mCMIP6\u001b[39m\u001b[33m\"\u001b[39m,\n\u001b[32m      3\u001b[39m     source_id=\u001b[33m\"\u001b[39m\u001b[33mEC-Earth3\u001b[39m\u001b[33m\"\u001b[39m,\n\u001b[32m   (...)\u001b[39m\u001b[32m      8\u001b[39m     distrib=\u001b[38;5;28;01mFalse\u001b[39;00m\n\u001b[32m      9\u001b[39m )\n\u001b[32m---> \u001b[39m\u001b[32m11\u001b[39m files = \u001b[38;5;28mlist\u001b[39m(\u001b[43mctx_files\u001b[49m\u001b[43m.\u001b[49m\u001b[43msearch\u001b[49m\u001b[43m(\u001b[49m\u001b[43m)\u001b[49m)\n\u001b[32m     13\u001b[39m \u001b[38;5;66;03m# Filtra pela versão e outros critérios se quiser\u001b[39;00m\n\u001b[32m     14\u001b[39m desired_version = \u001b[33m\"\u001b[39m\u001b[33m20201001\u001b[39m\u001b[33m\"\u001b[39m\n",
      "\u001b[36mFile \u001b[39m\u001b[32mc:\\Users\\thais\\.virtualenvs\\climate\\Lib\\site-packages\\pyesgf\\search\\context.py:139\u001b[39m, in \u001b[36mSearchContext.search\u001b[39m\u001b[34m(self, batch_size, ignore_facet_check, **constraints)\u001b[39m\n\u001b[32m    136\u001b[39m     sc = \u001b[38;5;28mself\u001b[39m\n\u001b[32m    138\u001b[39m \u001b[38;5;28;01mif\u001b[39;00m \u001b[38;5;129;01mnot\u001b[39;00m ignore_facet_check:\n\u001b[32m--> \u001b[39m\u001b[32m139\u001b[39m     \u001b[43msc\u001b[49m\u001b[43m.\u001b[49m\u001b[43m__update_counts\u001b[49m\u001b[43m(\u001b[49m\u001b[43m)\u001b[49m\n\u001b[32m    141\u001b[39m \u001b[38;5;28;01mreturn\u001b[39;00m ResultSet(sc, batch_size=batch_size)\n",
      "\u001b[36mFile \u001b[39m\u001b[32mc:\\Users\\thais\\.virtualenvs\\climate\\Lib\\site-packages\\pyesgf\\search\\context.py:220\u001b[39m, in \u001b[36mSearchContext.__update_counts\u001b[39m\u001b[34m(self)\u001b[39m\n\u001b[32m    217\u001b[39m     \u001b[38;5;28;01mif\u001b[39;00m \u001b[38;5;28mself\u001b[39m.connection.distrib:\n\u001b[32m    218\u001b[39m         \u001b[38;5;28mself\u001b[39m._do_facets_star_warning()\n\u001b[32m--> \u001b[39m\u001b[32m220\u001b[39m response = \u001b[38;5;28;43mself\u001b[39;49m\u001b[43m.\u001b[49m\u001b[43mconnection\u001b[49m\u001b[43m.\u001b[49m\u001b[43msend_search\u001b[49m\u001b[43m(\u001b[49m\u001b[43mquery_dict\u001b[49m\u001b[43m,\u001b[49m\u001b[43m \u001b[49m\u001b[43mlimit\u001b[49m\u001b[43m=\u001b[49m\u001b[32;43m0\u001b[39;49m\u001b[43m)\u001b[49m\n\u001b[32m    221\u001b[39m \u001b[38;5;28;01mfor\u001b[39;00m facet, counts \u001b[38;5;129;01min\u001b[39;00m (\u001b[38;5;28mlist\u001b[39m(response[\u001b[33m'\u001b[39m\u001b[33mfacet_counts\u001b[39m\u001b[33m'\u001b[39m][\u001b[33m'\u001b[39m\u001b[33mfacet_fields\u001b[39m\u001b[33m'\u001b[39m].items())):\n\u001b[32m    222\u001b[39m     d = \u001b[38;5;28mself\u001b[39m.__facet_counts[facet] = {}\n",
      "\u001b[36mFile \u001b[39m\u001b[32mc:\\Users\\thais\\.virtualenvs\\climate\\Lib\\site-packages\\pyesgf\\search\\connection.py:159\u001b[39m, in \u001b[36mSearchConnection.send_search\u001b[39m\u001b[34m(self, query_dict, limit, offset, shards)\u001b[39m\n\u001b[32m    157\u001b[39m \u001b[38;5;28;01mif\u001b[39;00m \u001b[38;5;129;01mnot\u001b[39;00m \u001b[38;5;28mself\u001b[39m._isopen:\n\u001b[32m    158\u001b[39m     \u001b[38;5;28mself\u001b[39m.open()\n\u001b[32m--> \u001b[39m\u001b[32m159\u001b[39m response = \u001b[38;5;28;43mself\u001b[39;49m\u001b[43m.\u001b[49m\u001b[43m_send_query\u001b[49m\u001b[43m(\u001b[49m\u001b[33;43m'\u001b[39;49m\u001b[33;43msearch\u001b[39;49m\u001b[33;43m'\u001b[39;49m\u001b[43m,\u001b[49m\u001b[43m \u001b[49m\u001b[43mfull_query\u001b[49m\u001b[43m)\u001b[49m\n\u001b[32m    160\u001b[39m ret = response.json()\n\u001b[32m    161\u001b[39m response.close()\n",
      "\u001b[36mFile \u001b[39m\u001b[32mc:\\Users\\thais\\.virtualenvs\\climate\\Lib\\site-packages\\pyesgf\\search\\connection.py:213\u001b[39m, in \u001b[36mSearchConnection._send_query\u001b[39m\u001b[34m(self, endpoint, full_query)\u001b[39m\n\u001b[32m    210\u001b[39m     \u001b[38;5;28;01mraise\u001b[39;00m \u001b[38;5;167;01mException\u001b[39;00m(\u001b[33m\"\u001b[39m\u001b[33mInvalid query parameter(s): \u001b[39m\u001b[38;5;132;01m%s\u001b[39;00m\u001b[33m\"\u001b[39m % content)\n\u001b[32m    212\u001b[39m \u001b[38;5;66;03m# Raise if query was unsucessful:\u001b[39;00m\n\u001b[32m--> \u001b[39m\u001b[32m213\u001b[39m \u001b[43mresponse\u001b[49m\u001b[43m.\u001b[49m\u001b[43mraise_for_status\u001b[49m\u001b[43m(\u001b[49m\u001b[43m)\u001b[49m\n\u001b[32m    214\u001b[39m \u001b[38;5;28;01mreturn\u001b[39;00m response\n",
      "\u001b[36mFile \u001b[39m\u001b[32mc:\\Users\\thais\\.virtualenvs\\climate\\Lib\\site-packages\\requests\\models.py:1026\u001b[39m, in \u001b[36mResponse.raise_for_status\u001b[39m\u001b[34m(self)\u001b[39m\n\u001b[32m   1021\u001b[39m     http_error_msg = (\n\u001b[32m   1022\u001b[39m         \u001b[33mf\u001b[39m\u001b[33m\"\u001b[39m\u001b[38;5;132;01m{\u001b[39;00m\u001b[38;5;28mself\u001b[39m.status_code\u001b[38;5;132;01m}\u001b[39;00m\u001b[33m Server Error: \u001b[39m\u001b[38;5;132;01m{\u001b[39;00mreason\u001b[38;5;132;01m}\u001b[39;00m\u001b[33m for url: \u001b[39m\u001b[38;5;132;01m{\u001b[39;00m\u001b[38;5;28mself\u001b[39m.url\u001b[38;5;132;01m}\u001b[39;00m\u001b[33m\"\u001b[39m\n\u001b[32m   1023\u001b[39m     )\n\u001b[32m   1025\u001b[39m \u001b[38;5;28;01mif\u001b[39;00m http_error_msg:\n\u001b[32m-> \u001b[39m\u001b[32m1026\u001b[39m     \u001b[38;5;28;01mraise\u001b[39;00m HTTPError(http_error_msg, response=\u001b[38;5;28mself\u001b[39m)\n",
      "\u001b[31mHTTPError\u001b[39m: 422 Client Error: Unprocessable Content for url: https://esgf-node.ornl.gov/esgf-1-5-bridge?format=application%2Fsolr%2Bjson&limit=0&distrib=true&type=Dataset&project=CMIP6&source_id=EC-Earth3&experiment_id=historical&variable_id=pr&table_id=Amon&facets=%2A"
     ]
    }
   ],
   "source": [
    "ctx_files = conn_files.new_context(\n",
    "    project=\"CMIP6\",\n",
    "    source_id=\"EC-Earth3\",\n",
    "    experiment_id=\"historical\",\n",
    "    variable_id=\"pr\",\n",
    "    table_id=\"Amon\",\n",
    "    type=\"File\",\n",
    "    distrib=False\n",
    ")\n",
    "\n",
    "files = list(ctx_files.search())\n",
    "\n",
    "# Filtra pela versão e outros critérios se quiser\n",
    "desired_version = \"20201001\"\n",
    "files_filtered = [f for f in files if f.json.get(\"version\") == desired_version]\n",
    "\n",
    "print(f\"Arquivos encontrados: {len(files_filtered)}\")\n",
    "for f in files_filtered:\n",
    "    print(f.download_url(), f.json.get(\"data_node\", \"n/a\"))\n"
   ]
  },
  {
   "cell_type": "code",
   "execution_count": 21,
   "id": "3fe20846",
   "metadata": {},
   "outputs": [
    {
     "data": {
      "text/plain": [
       "{'tas': <pyesgf.search.results.DatasetResult at 0x15bb28d6790>,\n",
       " 'tasmin': <pyesgf.search.results.DatasetResult at 0x15bb257a7d0>,\n",
       " 'tasmax': <pyesgf.search.results.DatasetResult at 0x15bb26ea850>,\n",
       " 'tos': <pyesgf.search.results.DatasetResult at 0x15bb2855f10>,\n",
       " 'ps': <pyesgf.search.results.DatasetResult at 0x15bb287db90>,\n",
       " 'pr': <pyesgf.search.results.DatasetResult at 0x15bb285b5d0>}"
      ]
     },
     "execution_count": 21,
     "metadata": {},
     "output_type": "execute_result"
    }
   ],
   "source": [
    "infos_datasets"
   ]
  },
  {
   "cell_type": "code",
   "execution_count": 17,
   "id": "8acbce46",
   "metadata": {},
   "outputs": [
    {
     "ename": "HTTPError",
     "evalue": "422 Client Error: Unprocessable Content for url: https://esgf-node.ornl.gov/esgf-1-5-bridge?format=application%2Fsolr%2Bjson&limit=0&distrib=true&type=Dataset&project=CMIP6&source_id=EC-Earth3&experiment_id=ssp585&variable_id=pr&frequency=mon&variant_label=r4i1p1f1&data_node=eagle.alcf.anl.gov&facets=%2A",
     "output_type": "error",
     "traceback": [
      "\u001b[31m---------------------------------------------------------------------------\u001b[39m",
      "\u001b[31mHTTPError\u001b[39m                                 Traceback (most recent call last)",
      "\u001b[36mCell\u001b[39m\u001b[36m \u001b[39m\u001b[32mIn[17]\u001b[39m\u001b[32m, line 13\u001b[39m\n\u001b[32m      2\u001b[39m conn_files = SearchConnection(\u001b[33m\"\u001b[39m\u001b[33mhttps://esgf-node.llnl.gov/esg-search\u001b[39m\u001b[33m\"\u001b[39m, distrib=\u001b[38;5;28;01mTrue\u001b[39;00m)\n\u001b[32m      4\u001b[39m ctx = conn_files.new_context(\n\u001b[32m      5\u001b[39m     project=\u001b[33m\"\u001b[39m\u001b[33mCMIP6\u001b[39m\u001b[33m\"\u001b[39m,\n\u001b[32m      6\u001b[39m     source_id=\u001b[33m\"\u001b[39m\u001b[33mEC-Earth3\u001b[39m\u001b[33m\"\u001b[39m,\n\u001b[32m   (...)\u001b[39m\u001b[32m     11\u001b[39m     data_node=node\n\u001b[32m     12\u001b[39m )\n\u001b[32m---> \u001b[39m\u001b[32m13\u001b[39m \u001b[43mctx\u001b[49m\u001b[43m.\u001b[49m\u001b[43mhit_count\u001b[49m\n",
      "\u001b[36mFile \u001b[39m\u001b[32mc:\\Users\\thais\\.virtualenvs\\climate\\Lib\\site-packages\\pyesgf\\search\\context.py:182\u001b[39m, in \u001b[36mSearchContext.hit_count\u001b[39m\u001b[34m(self)\u001b[39m\n\u001b[32m    180\u001b[39m \u001b[38;5;129m@property\u001b[39m\n\u001b[32m    181\u001b[39m \u001b[38;5;28;01mdef\u001b[39;00m\u001b[38;5;250m \u001b[39m\u001b[34mhit_count\u001b[39m(\u001b[38;5;28mself\u001b[39m):\n\u001b[32m--> \u001b[39m\u001b[32m182\u001b[39m     \u001b[38;5;28;43mself\u001b[39;49m\u001b[43m.\u001b[49m\u001b[43m__update_counts\u001b[49m\u001b[43m(\u001b[49m\u001b[43m)\u001b[49m\n\u001b[32m    183\u001b[39m     \u001b[38;5;28;01mreturn\u001b[39;00m \u001b[38;5;28mself\u001b[39m.__hit_count\n",
      "\u001b[36mFile \u001b[39m\u001b[32mc:\\Users\\thais\\.virtualenvs\\climate\\Lib\\site-packages\\pyesgf\\search\\context.py:220\u001b[39m, in \u001b[36mSearchContext.__update_counts\u001b[39m\u001b[34m(self)\u001b[39m\n\u001b[32m    217\u001b[39m     \u001b[38;5;28;01mif\u001b[39;00m \u001b[38;5;28mself\u001b[39m.connection.distrib:\n\u001b[32m    218\u001b[39m         \u001b[38;5;28mself\u001b[39m._do_facets_star_warning()\n\u001b[32m--> \u001b[39m\u001b[32m220\u001b[39m response = \u001b[38;5;28;43mself\u001b[39;49m\u001b[43m.\u001b[49m\u001b[43mconnection\u001b[49m\u001b[43m.\u001b[49m\u001b[43msend_search\u001b[49m\u001b[43m(\u001b[49m\u001b[43mquery_dict\u001b[49m\u001b[43m,\u001b[49m\u001b[43m \u001b[49m\u001b[43mlimit\u001b[49m\u001b[43m=\u001b[49m\u001b[32;43m0\u001b[39;49m\u001b[43m)\u001b[49m\n\u001b[32m    221\u001b[39m \u001b[38;5;28;01mfor\u001b[39;00m facet, counts \u001b[38;5;129;01min\u001b[39;00m (\u001b[38;5;28mlist\u001b[39m(response[\u001b[33m'\u001b[39m\u001b[33mfacet_counts\u001b[39m\u001b[33m'\u001b[39m][\u001b[33m'\u001b[39m\u001b[33mfacet_fields\u001b[39m\u001b[33m'\u001b[39m].items())):\n\u001b[32m    222\u001b[39m     d = \u001b[38;5;28mself\u001b[39m.__facet_counts[facet] = {}\n",
      "\u001b[36mFile \u001b[39m\u001b[32mc:\\Users\\thais\\.virtualenvs\\climate\\Lib\\site-packages\\pyesgf\\search\\connection.py:159\u001b[39m, in \u001b[36mSearchConnection.send_search\u001b[39m\u001b[34m(self, query_dict, limit, offset, shards)\u001b[39m\n\u001b[32m    157\u001b[39m \u001b[38;5;28;01mif\u001b[39;00m \u001b[38;5;129;01mnot\u001b[39;00m \u001b[38;5;28mself\u001b[39m._isopen:\n\u001b[32m    158\u001b[39m     \u001b[38;5;28mself\u001b[39m.open()\n\u001b[32m--> \u001b[39m\u001b[32m159\u001b[39m response = \u001b[38;5;28;43mself\u001b[39;49m\u001b[43m.\u001b[49m\u001b[43m_send_query\u001b[49m\u001b[43m(\u001b[49m\u001b[33;43m'\u001b[39;49m\u001b[33;43msearch\u001b[39;49m\u001b[33;43m'\u001b[39;49m\u001b[43m,\u001b[49m\u001b[43m \u001b[49m\u001b[43mfull_query\u001b[49m\u001b[43m)\u001b[49m\n\u001b[32m    160\u001b[39m ret = response.json()\n\u001b[32m    161\u001b[39m response.close()\n",
      "\u001b[36mFile \u001b[39m\u001b[32mc:\\Users\\thais\\.virtualenvs\\climate\\Lib\\site-packages\\pyesgf\\search\\connection.py:213\u001b[39m, in \u001b[36mSearchConnection._send_query\u001b[39m\u001b[34m(self, endpoint, full_query)\u001b[39m\n\u001b[32m    210\u001b[39m     \u001b[38;5;28;01mraise\u001b[39;00m \u001b[38;5;167;01mException\u001b[39;00m(\u001b[33m\"\u001b[39m\u001b[33mInvalid query parameter(s): \u001b[39m\u001b[38;5;132;01m%s\u001b[39;00m\u001b[33m\"\u001b[39m % content)\n\u001b[32m    212\u001b[39m \u001b[38;5;66;03m# Raise if query was unsucessful:\u001b[39;00m\n\u001b[32m--> \u001b[39m\u001b[32m213\u001b[39m \u001b[43mresponse\u001b[49m\u001b[43m.\u001b[49m\u001b[43mraise_for_status\u001b[49m\u001b[43m(\u001b[49m\u001b[43m)\u001b[49m\n\u001b[32m    214\u001b[39m \u001b[38;5;28;01mreturn\u001b[39;00m response\n",
      "\u001b[36mFile \u001b[39m\u001b[32mc:\\Users\\thais\\.virtualenvs\\climate\\Lib\\site-packages\\requests\\models.py:1026\u001b[39m, in \u001b[36mResponse.raise_for_status\u001b[39m\u001b[34m(self)\u001b[39m\n\u001b[32m   1021\u001b[39m     http_error_msg = (\n\u001b[32m   1022\u001b[39m         \u001b[33mf\u001b[39m\u001b[33m\"\u001b[39m\u001b[38;5;132;01m{\u001b[39;00m\u001b[38;5;28mself\u001b[39m.status_code\u001b[38;5;132;01m}\u001b[39;00m\u001b[33m Server Error: \u001b[39m\u001b[38;5;132;01m{\u001b[39;00mreason\u001b[38;5;132;01m}\u001b[39;00m\u001b[33m for url: \u001b[39m\u001b[38;5;132;01m{\u001b[39;00m\u001b[38;5;28mself\u001b[39m.url\u001b[38;5;132;01m}\u001b[39;00m\u001b[33m\"\u001b[39m\n\u001b[32m   1023\u001b[39m     )\n\u001b[32m   1025\u001b[39m \u001b[38;5;28;01mif\u001b[39;00m http_error_msg:\n\u001b[32m-> \u001b[39m\u001b[32m1026\u001b[39m     \u001b[38;5;28;01mraise\u001b[39;00m HTTPError(http_error_msg, response=\u001b[38;5;28mself\u001b[39m)\n",
      "\u001b[31mHTTPError\u001b[39m: 422 Client Error: Unprocessable Content for url: https://esgf-node.ornl.gov/esgf-1-5-bridge?format=application%2Fsolr%2Bjson&limit=0&distrib=true&type=Dataset&project=CMIP6&source_id=EC-Earth3&experiment_id=ssp585&variable_id=pr&frequency=mon&variant_label=r4i1p1f1&data_node=eagle.alcf.anl.gov&facets=%2A"
     ]
    }
   ],
   "source": [
    "node = \"eagle.alcf.anl.gov\"\n",
    "conn_files = SearchConnection(\"https://esgf-node.llnl.gov/esg-search\", distrib=True)\n",
    "\n",
    "ctx = conn_files.new_context(\n",
    "    project=\"CMIP6\",\n",
    "    source_id=\"EC-Earth3\",\n",
    "    experiment_id=\"ssp585\",\n",
    "    variable_id=\"pr\",\n",
    "    frequency=\"mon\",\n",
    "    variant_label=\"r4i1p1f1\",\n",
    "    data_node=node\n",
    ")\n",
    "ctx.hit_count"
   ]
  },
  {
   "cell_type": "code",
   "execution_count": null,
   "id": "f658c059",
   "metadata": {},
   "outputs": [
    {
     "name": "stdout",
     "output_type": "stream",
     "text": [
      "datasets encontrados: 1\n"
     ]
    }
   ],
   "source": [
    "# pr\n",
    "conn = SearchConnection(\"https://esgf-data.dkrz.de/esg-search\", distrib=False)\n",
    "\n",
    "ctx = conn.new_context(\n",
    "    project=\"CMIP6\",\n",
    "    source_id=\"EC-Earth3\",\n",
    "    #experiment_id=\"ssp585\",\n",
    "    experiment_id=\"ssp585\",\n",
    "    variable_id=\"pr\",\n",
    "    table_id=\"Amon\",\n",
    "    frequency=\"mon\",\n",
    "    variant_label=\"r4i1p1f1\"\n",
    ")\n",
    "\n",
    "print(f\"datasets encontrados: {ctx.hit_count}\")"
   ]
  },
  {
   "cell_type": "code",
   "execution_count": 15,
   "id": "e989bde3",
   "metadata": {},
   "outputs": [
    {
     "name": "stdout",
     "output_type": "stream",
     "text": [
      "datasets encontrados: 1\n"
     ]
    }
   ],
   "source": [
    "# tas\n",
    "conn = SearchConnection(\"https://esgf-data.dkrz.de/esg-search\", distrib=False)\n",
    "\n",
    "ctx = conn.new_context(\n",
    "    project=\"CMIP6\",\n",
    "    source_id=\"EC-Earth3\",\n",
    "    #experiment_id=\"ssp585\",\n",
    "    experiment_id=\"historical\",\n",
    "    variable_id=\"tas\",\n",
    "    table_id=\"Amon\",\n",
    "    frequency=\"mon\",\n",
    "    variant_label=\"r110i1p1f1\"\n",
    ")\n",
    "\n",
    "print(f\"datasets encontrados: {ctx.hit_count}\")"
   ]
  },
  {
   "cell_type": "code",
   "execution_count": 16,
   "id": "b866be68",
   "metadata": {},
   "outputs": [
    {
     "ename": "NameError",
     "evalue": "name 'infos_datasets' is not defined",
     "output_type": "error",
     "traceback": [
      "\u001b[31m---------------------------------------------------------------------------\u001b[39m",
      "\u001b[31mNameError\u001b[39m                                 Traceback (most recent call last)",
      "\u001b[36mCell\u001b[39m\u001b[36m \u001b[39m\u001b[32mIn[16]\u001b[39m\u001b[32m, line 1\u001b[39m\n\u001b[32m----> \u001b[39m\u001b[32m1\u001b[39m \u001b[43minfos_datasets\u001b[49m[\u001b[33m\"\u001b[39m\u001b[33mtas\u001b[39m\u001b[33m\"\u001b[39m][\u001b[32m0\u001b[39m].json\n",
      "\u001b[31mNameError\u001b[39m: name 'infos_datasets' is not defined"
     ]
    }
   ],
   "source": [
    "infos_datasets[\"tas\"][0].json"
   ]
  },
  {
   "cell_type": "code",
   "execution_count": 17,
   "id": "5d77b216",
   "metadata": {},
   "outputs": [
    {
     "name": "stdout",
     "output_type": "stream",
     "text": [
      "http://esgf3.dkrz.de/thredds/dodsC/cmip6/CMIP/EC-Earth-Consortium/EC-Earth3/historical/r110i1p1f1/Amon/tas/gr/v20200412/tas_Amon_EC-Earth3_historical_r110i1p1f1_gr_197001-197012.nc\n",
      "http://esgf3.dkrz.de/thredds/dodsC/cmip6/CMIP/EC-Earth-Consortium/EC-Earth3/historical/r110i1p1f1/Amon/tas/gr/v20200412/tas_Amon_EC-Earth3_historical_r110i1p1f1_gr_197101-197112.nc\n",
      "http://esgf3.dkrz.de/thredds/dodsC/cmip6/CMIP/EC-Earth-Consortium/EC-Earth3/historical/r110i1p1f1/Amon/tas/gr/v20200412/tas_Amon_EC-Earth3_historical_r110i1p1f1_gr_197201-197212.nc\n",
      "http://esgf3.dkrz.de/thredds/dodsC/cmip6/CMIP/EC-Earth-Consortium/EC-Earth3/historical/r110i1p1f1/Amon/tas/gr/v20200412/tas_Amon_EC-Earth3_historical_r110i1p1f1_gr_197301-197312.nc\n",
      "http://esgf3.dkrz.de/thredds/dodsC/cmip6/CMIP/EC-Earth-Consortium/EC-Earth3/historical/r110i1p1f1/Amon/tas/gr/v20200412/tas_Amon_EC-Earth3_historical_r110i1p1f1_gr_197401-197412.nc\n",
      "http://esgf3.dkrz.de/thredds/dodsC/cmip6/CMIP/EC-Earth-Consortium/EC-Earth3/historical/r110i1p1f1/Amon/tas/gr/v20200412/tas_Amon_EC-Earth3_historical_r110i1p1f1_gr_197501-197512.nc\n",
      "http://esgf3.dkrz.de/thredds/dodsC/cmip6/CMIP/EC-Earth-Consortium/EC-Earth3/historical/r110i1p1f1/Amon/tas/gr/v20200412/tas_Amon_EC-Earth3_historical_r110i1p1f1_gr_197601-197612.nc\n",
      "http://esgf3.dkrz.de/thredds/dodsC/cmip6/CMIP/EC-Earth-Consortium/EC-Earth3/historical/r110i1p1f1/Amon/tas/gr/v20200412/tas_Amon_EC-Earth3_historical_r110i1p1f1_gr_197701-197712.nc\n",
      "http://esgf3.dkrz.de/thredds/dodsC/cmip6/CMIP/EC-Earth-Consortium/EC-Earth3/historical/r110i1p1f1/Amon/tas/gr/v20200412/tas_Amon_EC-Earth3_historical_r110i1p1f1_gr_197801-197812.nc\n",
      "http://esgf3.dkrz.de/thredds/dodsC/cmip6/CMIP/EC-Earth-Consortium/EC-Earth3/historical/r110i1p1f1/Amon/tas/gr/v20200412/tas_Amon_EC-Earth3_historical_r110i1p1f1_gr_197901-197912.nc\n",
      "http://esgf3.dkrz.de/thredds/dodsC/cmip6/CMIP/EC-Earth-Consortium/EC-Earth3/historical/r110i1p1f1/Amon/tas/gr/v20200412/tas_Amon_EC-Earth3_historical_r110i1p1f1_gr_198001-198012.nc\n",
      "http://esgf3.dkrz.de/thredds/dodsC/cmip6/CMIP/EC-Earth-Consortium/EC-Earth3/historical/r110i1p1f1/Amon/tas/gr/v20200412/tas_Amon_EC-Earth3_historical_r110i1p1f1_gr_198101-198112.nc\n",
      "http://esgf3.dkrz.de/thredds/dodsC/cmip6/CMIP/EC-Earth-Consortium/EC-Earth3/historical/r110i1p1f1/Amon/tas/gr/v20200412/tas_Amon_EC-Earth3_historical_r110i1p1f1_gr_198201-198212.nc\n",
      "http://esgf3.dkrz.de/thredds/dodsC/cmip6/CMIP/EC-Earth-Consortium/EC-Earth3/historical/r110i1p1f1/Amon/tas/gr/v20200412/tas_Amon_EC-Earth3_historical_r110i1p1f1_gr_198301-198312.nc\n",
      "http://esgf3.dkrz.de/thredds/dodsC/cmip6/CMIP/EC-Earth-Consortium/EC-Earth3/historical/r110i1p1f1/Amon/tas/gr/v20200412/tas_Amon_EC-Earth3_historical_r110i1p1f1_gr_198401-198412.nc\n",
      "http://esgf3.dkrz.de/thredds/dodsC/cmip6/CMIP/EC-Earth-Consortium/EC-Earth3/historical/r110i1p1f1/Amon/tas/gr/v20200412/tas_Amon_EC-Earth3_historical_r110i1p1f1_gr_198501-198512.nc\n",
      "http://esgf3.dkrz.de/thredds/dodsC/cmip6/CMIP/EC-Earth-Consortium/EC-Earth3/historical/r110i1p1f1/Amon/tas/gr/v20200412/tas_Amon_EC-Earth3_historical_r110i1p1f1_gr_198601-198612.nc\n",
      "http://esgf3.dkrz.de/thredds/dodsC/cmip6/CMIP/EC-Earth-Consortium/EC-Earth3/historical/r110i1p1f1/Amon/tas/gr/v20200412/tas_Amon_EC-Earth3_historical_r110i1p1f1_gr_198701-198712.nc\n",
      "http://esgf3.dkrz.de/thredds/dodsC/cmip6/CMIP/EC-Earth-Consortium/EC-Earth3/historical/r110i1p1f1/Amon/tas/gr/v20200412/tas_Amon_EC-Earth3_historical_r110i1p1f1_gr_198801-198812.nc\n",
      "http://esgf3.dkrz.de/thredds/dodsC/cmip6/CMIP/EC-Earth-Consortium/EC-Earth3/historical/r110i1p1f1/Amon/tas/gr/v20200412/tas_Amon_EC-Earth3_historical_r110i1p1f1_gr_198901-198912.nc\n",
      "http://esgf3.dkrz.de/thredds/dodsC/cmip6/CMIP/EC-Earth-Consortium/EC-Earth3/historical/r110i1p1f1/Amon/tas/gr/v20200412/tas_Amon_EC-Earth3_historical_r110i1p1f1_gr_199001-199012.nc\n",
      "http://esgf3.dkrz.de/thredds/dodsC/cmip6/CMIP/EC-Earth-Consortium/EC-Earth3/historical/r110i1p1f1/Amon/tas/gr/v20200412/tas_Amon_EC-Earth3_historical_r110i1p1f1_gr_199101-199112.nc\n",
      "http://esgf3.dkrz.de/thredds/dodsC/cmip6/CMIP/EC-Earth-Consortium/EC-Earth3/historical/r110i1p1f1/Amon/tas/gr/v20200412/tas_Amon_EC-Earth3_historical_r110i1p1f1_gr_199201-199212.nc\n",
      "http://esgf3.dkrz.de/thredds/dodsC/cmip6/CMIP/EC-Earth-Consortium/EC-Earth3/historical/r110i1p1f1/Amon/tas/gr/v20200412/tas_Amon_EC-Earth3_historical_r110i1p1f1_gr_199301-199312.nc\n",
      "http://esgf3.dkrz.de/thredds/dodsC/cmip6/CMIP/EC-Earth-Consortium/EC-Earth3/historical/r110i1p1f1/Amon/tas/gr/v20200412/tas_Amon_EC-Earth3_historical_r110i1p1f1_gr_199401-199412.nc\n",
      "http://esgf3.dkrz.de/thredds/dodsC/cmip6/CMIP/EC-Earth-Consortium/EC-Earth3/historical/r110i1p1f1/Amon/tas/gr/v20200412/tas_Amon_EC-Earth3_historical_r110i1p1f1_gr_199501-199512.nc\n",
      "http://esgf3.dkrz.de/thredds/dodsC/cmip6/CMIP/EC-Earth-Consortium/EC-Earth3/historical/r110i1p1f1/Amon/tas/gr/v20200412/tas_Amon_EC-Earth3_historical_r110i1p1f1_gr_199601-199612.nc\n",
      "http://esgf3.dkrz.de/thredds/dodsC/cmip6/CMIP/EC-Earth-Consortium/EC-Earth3/historical/r110i1p1f1/Amon/tas/gr/v20200412/tas_Amon_EC-Earth3_historical_r110i1p1f1_gr_199701-199712.nc\n",
      "http://esgf3.dkrz.de/thredds/dodsC/cmip6/CMIP/EC-Earth-Consortium/EC-Earth3/historical/r110i1p1f1/Amon/tas/gr/v20200412/tas_Amon_EC-Earth3_historical_r110i1p1f1_gr_199801-199812.nc\n",
      "http://esgf3.dkrz.de/thredds/dodsC/cmip6/CMIP/EC-Earth-Consortium/EC-Earth3/historical/r110i1p1f1/Amon/tas/gr/v20200412/tas_Amon_EC-Earth3_historical_r110i1p1f1_gr_199901-199912.nc\n",
      "http://esgf3.dkrz.de/thredds/dodsC/cmip6/CMIP/EC-Earth-Consortium/EC-Earth3/historical/r110i1p1f1/Amon/tas/gr/v20200412/tas_Amon_EC-Earth3_historical_r110i1p1f1_gr_200001-200012.nc\n",
      "http://esgf3.dkrz.de/thredds/dodsC/cmip6/CMIP/EC-Earth-Consortium/EC-Earth3/historical/r110i1p1f1/Amon/tas/gr/v20200412/tas_Amon_EC-Earth3_historical_r110i1p1f1_gr_200101-200112.nc\n",
      "http://esgf3.dkrz.de/thredds/dodsC/cmip6/CMIP/EC-Earth-Consortium/EC-Earth3/historical/r110i1p1f1/Amon/tas/gr/v20200412/tas_Amon_EC-Earth3_historical_r110i1p1f1_gr_200201-200212.nc\n",
      "http://esgf3.dkrz.de/thredds/dodsC/cmip6/CMIP/EC-Earth-Consortium/EC-Earth3/historical/r110i1p1f1/Amon/tas/gr/v20200412/tas_Amon_EC-Earth3_historical_r110i1p1f1_gr_200301-200312.nc\n",
      "http://esgf3.dkrz.de/thredds/dodsC/cmip6/CMIP/EC-Earth-Consortium/EC-Earth3/historical/r110i1p1f1/Amon/tas/gr/v20200412/tas_Amon_EC-Earth3_historical_r110i1p1f1_gr_200401-200412.nc\n",
      "http://esgf3.dkrz.de/thredds/dodsC/cmip6/CMIP/EC-Earth-Consortium/EC-Earth3/historical/r110i1p1f1/Amon/tas/gr/v20200412/tas_Amon_EC-Earth3_historical_r110i1p1f1_gr_200501-200512.nc\n",
      "http://esgf3.dkrz.de/thredds/dodsC/cmip6/CMIP/EC-Earth-Consortium/EC-Earth3/historical/r110i1p1f1/Amon/tas/gr/v20200412/tas_Amon_EC-Earth3_historical_r110i1p1f1_gr_200601-200612.nc\n",
      "http://esgf3.dkrz.de/thredds/dodsC/cmip6/CMIP/EC-Earth-Consortium/EC-Earth3/historical/r110i1p1f1/Amon/tas/gr/v20200412/tas_Amon_EC-Earth3_historical_r110i1p1f1_gr_200701-200712.nc\n",
      "http://esgf3.dkrz.de/thredds/dodsC/cmip6/CMIP/EC-Earth-Consortium/EC-Earth3/historical/r110i1p1f1/Amon/tas/gr/v20200412/tas_Amon_EC-Earth3_historical_r110i1p1f1_gr_200801-200812.nc\n",
      "http://esgf3.dkrz.de/thredds/dodsC/cmip6/CMIP/EC-Earth-Consortium/EC-Earth3/historical/r110i1p1f1/Amon/tas/gr/v20200412/tas_Amon_EC-Earth3_historical_r110i1p1f1_gr_200901-200912.nc\n",
      "http://esgf3.dkrz.de/thredds/dodsC/cmip6/CMIP/EC-Earth-Consortium/EC-Earth3/historical/r110i1p1f1/Amon/tas/gr/v20200412/tas_Amon_EC-Earth3_historical_r110i1p1f1_gr_201001-201012.nc\n",
      "http://esgf3.dkrz.de/thredds/dodsC/cmip6/CMIP/EC-Earth-Consortium/EC-Earth3/historical/r110i1p1f1/Amon/tas/gr/v20200412/tas_Amon_EC-Earth3_historical_r110i1p1f1_gr_201101-201112.nc\n",
      "http://esgf3.dkrz.de/thredds/dodsC/cmip6/CMIP/EC-Earth-Consortium/EC-Earth3/historical/r110i1p1f1/Amon/tas/gr/v20200412/tas_Amon_EC-Earth3_historical_r110i1p1f1_gr_201201-201212.nc\n",
      "http://esgf3.dkrz.de/thredds/dodsC/cmip6/CMIP/EC-Earth-Consortium/EC-Earth3/historical/r110i1p1f1/Amon/tas/gr/v20200412/tas_Amon_EC-Earth3_historical_r110i1p1f1_gr_201301-201312.nc\n",
      "http://esgf3.dkrz.de/thredds/dodsC/cmip6/CMIP/EC-Earth-Consortium/EC-Earth3/historical/r110i1p1f1/Amon/tas/gr/v20200412/tas_Amon_EC-Earth3_historical_r110i1p1f1_gr_201401-201412.nc\n"
     ]
    }
   ],
   "source": [
    "result = ctx.search()[0]\n",
    "result.dataset_id\n",
    "\n",
    "files = result.file_context().search()\n",
    "for file in files:\n",
    "    print(file.opendap_url)"
   ]
  },
  {
   "cell_type": "code",
   "execution_count": 20,
   "id": "47aa29f1",
   "metadata": {},
   "outputs": [
    {
     "name": "stdout",
     "output_type": "stream",
     "text": [
      "Falha na conexão com esgf-data.dkrz.de:7512 → timed out\n",
      "Falha na conexão com esgf-node.llnl.gov:7512 → timed out\n"
     ]
    }
   ],
   "source": [
    "import socket\n",
    "\n",
    "def test_connection(host, port):\n",
    "    try:\n",
    "        with socket.create_connection((host, port), timeout=10):\n",
    "            print(f\"Conexão bem-sucedida com {host}:{port}\")\n",
    "    except Exception as e:\n",
    "        print(f\"Falha na conexão com {host}:{port} → {e}\")\n",
    "\n",
    "test_connection(\"esgf-data.dkrz.de\", 7512)\n",
    "test_connection(\"esgf-node.llnl.gov\", 7512)"
   ]
  },
  {
   "cell_type": "code",
   "execution_count": 23,
   "id": "6470a7fd",
   "metadata": {},
   "outputs": [
    {
     "name": "stdout",
     "output_type": "stream",
     "text": [
      "Download URL: http://esgf3.dkrz.de/thredds/fileServer/cmip6/CMIP/EC-Earth-Consortium/EC-Earth3/historical/r110i1p1f1/Amon/tas/gr/v20200412/tas_Amon_EC-Earth3_historical_r110i1p1f1_gr_197001-197012.nc\n"
     ]
    }
   ],
   "source": [
    "first_file = files[0]\n",
    "print(\"Download URL:\", first_file.download_url)"
   ]
  },
  {
   "cell_type": "code",
   "execution_count": 24,
   "id": "be32feca",
   "metadata": {},
   "outputs": [],
   "source": [
    "import requests\n",
    "\n",
    "url = first_file.download_url\n",
    "response = requests.get(url)\n",
    "\n",
    "with open('tas_example.nc', 'wb') as f:\n",
    "    f.write(response.content)"
   ]
  },
  {
   "cell_type": "code",
   "execution_count": null,
   "id": "078be06a",
   "metadata": {},
   "outputs": [
    {
     "ename": "OSError",
     "evalue": "[Errno -101] NetCDF: HDF error: '\\\\\\\\wsl.localhost\\\\Ubuntu\\\\home\\\\thais\\\\climate-ingestion\\\\climate_data_processing\\\\tas_example.nc'",
     "output_type": "error",
     "traceback": [
      "\u001b[31m---------------------------------------------------------------------------\u001b[39m",
      "\u001b[31mKeyError\u001b[39m                                  Traceback (most recent call last)",
      "\u001b[36mFile \u001b[39m\u001b[32mc:\\Users\\thais\\.virtualenvs\\climate\\Lib\\site-packages\\xarray\\backends\\file_manager.py:211\u001b[39m, in \u001b[36mCachingFileManager._acquire_with_cache_info\u001b[39m\u001b[34m(self, needs_lock)\u001b[39m\n\u001b[32m    210\u001b[39m \u001b[38;5;28;01mtry\u001b[39;00m:\n\u001b[32m--> \u001b[39m\u001b[32m211\u001b[39m     file = \u001b[38;5;28;43mself\u001b[39;49m\u001b[43m.\u001b[49m\u001b[43m_cache\u001b[49m\u001b[43m[\u001b[49m\u001b[38;5;28;43mself\u001b[39;49m\u001b[43m.\u001b[49m\u001b[43m_key\u001b[49m\u001b[43m]\u001b[49m\n\u001b[32m    212\u001b[39m \u001b[38;5;28;01mexcept\u001b[39;00m \u001b[38;5;167;01mKeyError\u001b[39;00m:\n",
      "\u001b[36mFile \u001b[39m\u001b[32mc:\\Users\\thais\\.virtualenvs\\climate\\Lib\\site-packages\\xarray\\backends\\lru_cache.py:56\u001b[39m, in \u001b[36mLRUCache.__getitem__\u001b[39m\u001b[34m(self, key)\u001b[39m\n\u001b[32m     55\u001b[39m \u001b[38;5;28;01mwith\u001b[39;00m \u001b[38;5;28mself\u001b[39m._lock:\n\u001b[32m---> \u001b[39m\u001b[32m56\u001b[39m     value = \u001b[38;5;28;43mself\u001b[39;49m\u001b[43m.\u001b[49m\u001b[43m_cache\u001b[49m\u001b[43m[\u001b[49m\u001b[43mkey\u001b[49m\u001b[43m]\u001b[49m\n\u001b[32m     57\u001b[39m     \u001b[38;5;28mself\u001b[39m._cache.move_to_end(key)\n",
      "\u001b[31mKeyError\u001b[39m: [<class 'netCDF4._netCDF4.Dataset'>, ('\\\\\\\\wsl.localhost\\\\Ubuntu\\\\home\\\\thais\\\\climate-ingestion\\\\climate_data_processing\\\\tas_example.nc',), 'r', (('clobber', True), ('diskless', False), ('format', 'NETCDF4'), ('persist', False)), 'e36630d7-79b3-4267-bcc3-2969b93eb10d']",
      "\nDuring handling of the above exception, another exception occurred:\n",
      "\u001b[31mOSError\u001b[39m                                   Traceback (most recent call last)",
      "\u001b[36mCell\u001b[39m\u001b[36m \u001b[39m\u001b[32mIn[26]\u001b[39m\u001b[32m, line 3\u001b[39m\n\u001b[32m      1\u001b[39m \u001b[38;5;28;01mimport\u001b[39;00m\u001b[38;5;250m \u001b[39m\u001b[34;01mxarray\u001b[39;00m\u001b[38;5;250m \u001b[39m\u001b[38;5;28;01mas\u001b[39;00m\u001b[38;5;250m \u001b[39m\u001b[34;01mxr\u001b[39;00m\n\u001b[32m----> \u001b[39m\u001b[32m3\u001b[39m ds = \u001b[43mxr\u001b[49m\u001b[43m.\u001b[49m\u001b[43mopen_dataset\u001b[49m\u001b[43m(\u001b[49m\u001b[33;43m\"\u001b[39;49m\u001b[33;43mtas_example.nc\u001b[39;49m\u001b[33;43m\"\u001b[39;49m\u001b[43m)\u001b[49m\n\u001b[32m      4\u001b[39m \u001b[38;5;28mprint\u001b[39m(ds)\n",
      "\u001b[36mFile \u001b[39m\u001b[32mc:\\Users\\thais\\.virtualenvs\\climate\\Lib\\site-packages\\xarray\\backends\\api.py:715\u001b[39m, in \u001b[36mopen_dataset\u001b[39m\u001b[34m(filename_or_obj, engine, chunks, cache, decode_cf, mask_and_scale, decode_times, decode_timedelta, use_cftime, concat_characters, decode_coords, drop_variables, create_default_indexes, inline_array, chunked_array_type, from_array_kwargs, backend_kwargs, **kwargs)\u001b[39m\n\u001b[32m    703\u001b[39m decoders = _resolve_decoders_kwargs(\n\u001b[32m    704\u001b[39m     decode_cf,\n\u001b[32m    705\u001b[39m     open_backend_dataset_parameters=backend.open_dataset_parameters,\n\u001b[32m   (...)\u001b[39m\u001b[32m    711\u001b[39m     decode_coords=decode_coords,\n\u001b[32m    712\u001b[39m )\n\u001b[32m    714\u001b[39m overwrite_encoded_chunks = kwargs.pop(\u001b[33m\"\u001b[39m\u001b[33moverwrite_encoded_chunks\u001b[39m\u001b[33m\"\u001b[39m, \u001b[38;5;28;01mNone\u001b[39;00m)\n\u001b[32m--> \u001b[39m\u001b[32m715\u001b[39m backend_ds = \u001b[43mbackend\u001b[49m\u001b[43m.\u001b[49m\u001b[43mopen_dataset\u001b[49m\u001b[43m(\u001b[49m\n\u001b[32m    716\u001b[39m \u001b[43m    \u001b[49m\u001b[43mfilename_or_obj\u001b[49m\u001b[43m,\u001b[49m\n\u001b[32m    717\u001b[39m \u001b[43m    \u001b[49m\u001b[43mdrop_variables\u001b[49m\u001b[43m=\u001b[49m\u001b[43mdrop_variables\u001b[49m\u001b[43m,\u001b[49m\n\u001b[32m    718\u001b[39m \u001b[43m    \u001b[49m\u001b[43m*\u001b[49m\u001b[43m*\u001b[49m\u001b[43mdecoders\u001b[49m\u001b[43m,\u001b[49m\n\u001b[32m    719\u001b[39m \u001b[43m    \u001b[49m\u001b[43m*\u001b[49m\u001b[43m*\u001b[49m\u001b[43mkwargs\u001b[49m\u001b[43m,\u001b[49m\n\u001b[32m    720\u001b[39m \u001b[43m\u001b[49m\u001b[43m)\u001b[49m\n\u001b[32m    721\u001b[39m ds = _dataset_from_backend_dataset(\n\u001b[32m    722\u001b[39m     backend_ds,\n\u001b[32m    723\u001b[39m     filename_or_obj,\n\u001b[32m   (...)\u001b[39m\u001b[32m    734\u001b[39m     **kwargs,\n\u001b[32m    735\u001b[39m )\n\u001b[32m    736\u001b[39m \u001b[38;5;28;01mreturn\u001b[39;00m ds\n",
      "\u001b[36mFile \u001b[39m\u001b[32mc:\\Users\\thais\\.virtualenvs\\climate\\Lib\\site-packages\\xarray\\backends\\netCDF4_.py:671\u001b[39m, in \u001b[36mNetCDF4BackendEntrypoint.open_dataset\u001b[39m\u001b[34m(self, filename_or_obj, mask_and_scale, decode_times, concat_characters, decode_coords, drop_variables, use_cftime, decode_timedelta, group, mode, format, clobber, diskless, persist, auto_complex, lock, autoclose)\u001b[39m\n\u001b[32m    649\u001b[39m \u001b[38;5;28;01mdef\u001b[39;00m\u001b[38;5;250m \u001b[39m\u001b[34mopen_dataset\u001b[39m(\n\u001b[32m    650\u001b[39m     \u001b[38;5;28mself\u001b[39m,\n\u001b[32m    651\u001b[39m     filename_or_obj: \u001b[38;5;28mstr\u001b[39m | os.PathLike[Any] | ReadBuffer | AbstractDataStore,\n\u001b[32m   (...)\u001b[39m\u001b[32m    668\u001b[39m     autoclose=\u001b[38;5;28;01mFalse\u001b[39;00m,\n\u001b[32m    669\u001b[39m ) -> Dataset:\n\u001b[32m    670\u001b[39m     filename_or_obj = _normalize_path(filename_or_obj)\n\u001b[32m--> \u001b[39m\u001b[32m671\u001b[39m     store = \u001b[43mNetCDF4DataStore\u001b[49m\u001b[43m.\u001b[49m\u001b[43mopen\u001b[49m\u001b[43m(\u001b[49m\n\u001b[32m    672\u001b[39m \u001b[43m        \u001b[49m\u001b[43mfilename_or_obj\u001b[49m\u001b[43m,\u001b[49m\n\u001b[32m    673\u001b[39m \u001b[43m        \u001b[49m\u001b[43mmode\u001b[49m\u001b[43m=\u001b[49m\u001b[43mmode\u001b[49m\u001b[43m,\u001b[49m\n\u001b[32m    674\u001b[39m \u001b[43m        \u001b[49m\u001b[38;5;28;43mformat\u001b[39;49m\u001b[43m=\u001b[49m\u001b[38;5;28;43mformat\u001b[39;49m\u001b[43m,\u001b[49m\n\u001b[32m    675\u001b[39m \u001b[43m        \u001b[49m\u001b[43mgroup\u001b[49m\u001b[43m=\u001b[49m\u001b[43mgroup\u001b[49m\u001b[43m,\u001b[49m\n\u001b[32m    676\u001b[39m \u001b[43m        \u001b[49m\u001b[43mclobber\u001b[49m\u001b[43m=\u001b[49m\u001b[43mclobber\u001b[49m\u001b[43m,\u001b[49m\n\u001b[32m    677\u001b[39m \u001b[43m        \u001b[49m\u001b[43mdiskless\u001b[49m\u001b[43m=\u001b[49m\u001b[43mdiskless\u001b[49m\u001b[43m,\u001b[49m\n\u001b[32m    678\u001b[39m \u001b[43m        \u001b[49m\u001b[43mpersist\u001b[49m\u001b[43m=\u001b[49m\u001b[43mpersist\u001b[49m\u001b[43m,\u001b[49m\n\u001b[32m    679\u001b[39m \u001b[43m        \u001b[49m\u001b[43mauto_complex\u001b[49m\u001b[43m=\u001b[49m\u001b[43mauto_complex\u001b[49m\u001b[43m,\u001b[49m\n\u001b[32m    680\u001b[39m \u001b[43m        \u001b[49m\u001b[43mlock\u001b[49m\u001b[43m=\u001b[49m\u001b[43mlock\u001b[49m\u001b[43m,\u001b[49m\n\u001b[32m    681\u001b[39m \u001b[43m        \u001b[49m\u001b[43mautoclose\u001b[49m\u001b[43m=\u001b[49m\u001b[43mautoclose\u001b[49m\u001b[43m,\u001b[49m\n\u001b[32m    682\u001b[39m \u001b[43m    \u001b[49m\u001b[43m)\u001b[49m\n\u001b[32m    684\u001b[39m     store_entrypoint = StoreBackendEntrypoint()\n\u001b[32m    685\u001b[39m     \u001b[38;5;28;01mwith\u001b[39;00m close_on_error(store):\n",
      "\u001b[36mFile \u001b[39m\u001b[32mc:\\Users\\thais\\.virtualenvs\\climate\\Lib\\site-packages\\xarray\\backends\\netCDF4_.py:457\u001b[39m, in \u001b[36mNetCDF4DataStore.open\u001b[39m\u001b[34m(cls, filename, mode, format, group, clobber, diskless, persist, auto_complex, lock, lock_maker, autoclose)\u001b[39m\n\u001b[32m    453\u001b[39m     kwargs[\u001b[33m\"\u001b[39m\u001b[33mauto_complex\u001b[39m\u001b[33m\"\u001b[39m] = auto_complex\n\u001b[32m    454\u001b[39m manager = CachingFileManager(\n\u001b[32m    455\u001b[39m     netCDF4.Dataset, filename, mode=mode, kwargs=kwargs\n\u001b[32m    456\u001b[39m )\n\u001b[32m--> \u001b[39m\u001b[32m457\u001b[39m \u001b[38;5;28;01mreturn\u001b[39;00m \u001b[38;5;28;43mcls\u001b[39;49m\u001b[43m(\u001b[49m\u001b[43mmanager\u001b[49m\u001b[43m,\u001b[49m\u001b[43m \u001b[49m\u001b[43mgroup\u001b[49m\u001b[43m=\u001b[49m\u001b[43mgroup\u001b[49m\u001b[43m,\u001b[49m\u001b[43m \u001b[49m\u001b[43mmode\u001b[49m\u001b[43m=\u001b[49m\u001b[43mmode\u001b[49m\u001b[43m,\u001b[49m\u001b[43m \u001b[49m\u001b[43mlock\u001b[49m\u001b[43m=\u001b[49m\u001b[43mlock\u001b[49m\u001b[43m,\u001b[49m\u001b[43m \u001b[49m\u001b[43mautoclose\u001b[49m\u001b[43m=\u001b[49m\u001b[43mautoclose\u001b[49m\u001b[43m)\u001b[49m\n",
      "\u001b[36mFile \u001b[39m\u001b[32mc:\\Users\\thais\\.virtualenvs\\climate\\Lib\\site-packages\\xarray\\backends\\netCDF4_.py:398\u001b[39m, in \u001b[36mNetCDF4DataStore.__init__\u001b[39m\u001b[34m(self, manager, group, mode, lock, autoclose)\u001b[39m\n\u001b[32m    396\u001b[39m \u001b[38;5;28mself\u001b[39m._group = group\n\u001b[32m    397\u001b[39m \u001b[38;5;28mself\u001b[39m._mode = mode\n\u001b[32m--> \u001b[39m\u001b[32m398\u001b[39m \u001b[38;5;28mself\u001b[39m.format = \u001b[38;5;28;43mself\u001b[39;49m\u001b[43m.\u001b[49m\u001b[43mds\u001b[49m.data_model\n\u001b[32m    399\u001b[39m \u001b[38;5;28mself\u001b[39m._filename = \u001b[38;5;28mself\u001b[39m.ds.filepath()\n\u001b[32m    400\u001b[39m \u001b[38;5;28mself\u001b[39m.is_remote = is_remote_uri(\u001b[38;5;28mself\u001b[39m._filename)\n",
      "\u001b[36mFile \u001b[39m\u001b[32mc:\\Users\\thais\\.virtualenvs\\climate\\Lib\\site-packages\\xarray\\backends\\netCDF4_.py:466\u001b[39m, in \u001b[36mNetCDF4DataStore.ds\u001b[39m\u001b[34m(self)\u001b[39m\n\u001b[32m    464\u001b[39m \u001b[38;5;129m@property\u001b[39m\n\u001b[32m    465\u001b[39m \u001b[38;5;28;01mdef\u001b[39;00m\u001b[38;5;250m \u001b[39m\u001b[34mds\u001b[39m(\u001b[38;5;28mself\u001b[39m):\n\u001b[32m--> \u001b[39m\u001b[32m466\u001b[39m     \u001b[38;5;28;01mreturn\u001b[39;00m \u001b[38;5;28;43mself\u001b[39;49m\u001b[43m.\u001b[49m\u001b[43m_acquire\u001b[49m\u001b[43m(\u001b[49m\u001b[43m)\u001b[49m\n",
      "\u001b[36mFile \u001b[39m\u001b[32mc:\\Users\\thais\\.virtualenvs\\climate\\Lib\\site-packages\\xarray\\backends\\netCDF4_.py:460\u001b[39m, in \u001b[36mNetCDF4DataStore._acquire\u001b[39m\u001b[34m(self, needs_lock)\u001b[39m\n\u001b[32m    459\u001b[39m \u001b[38;5;28;01mdef\u001b[39;00m\u001b[38;5;250m \u001b[39m\u001b[34m_acquire\u001b[39m(\u001b[38;5;28mself\u001b[39m, needs_lock=\u001b[38;5;28;01mTrue\u001b[39;00m):\n\u001b[32m--> \u001b[39m\u001b[32m460\u001b[39m \u001b[43m    \u001b[49m\u001b[38;5;28;43;01mwith\u001b[39;49;00m\u001b[43m \u001b[49m\u001b[38;5;28;43mself\u001b[39;49m\u001b[43m.\u001b[49m\u001b[43m_manager\u001b[49m\u001b[43m.\u001b[49m\u001b[43macquire_context\u001b[49m\u001b[43m(\u001b[49m\u001b[43mneeds_lock\u001b[49m\u001b[43m)\u001b[49m\u001b[43m \u001b[49m\u001b[38;5;28;43;01mas\u001b[39;49;00m\u001b[43m \u001b[49m\u001b[43mroot\u001b[49m\u001b[43m:\u001b[49m\n\u001b[32m    461\u001b[39m \u001b[43m        \u001b[49m\u001b[43mds\u001b[49m\u001b[43m \u001b[49m\u001b[43m=\u001b[49m\u001b[43m \u001b[49m\u001b[43m_nc4_require_group\u001b[49m\u001b[43m(\u001b[49m\u001b[43mroot\u001b[49m\u001b[43m,\u001b[49m\u001b[43m \u001b[49m\u001b[38;5;28;43mself\u001b[39;49m\u001b[43m.\u001b[49m\u001b[43m_group\u001b[49m\u001b[43m,\u001b[49m\u001b[43m \u001b[49m\u001b[38;5;28;43mself\u001b[39;49m\u001b[43m.\u001b[49m\u001b[43m_mode\u001b[49m\u001b[43m)\u001b[49m\n\u001b[32m    462\u001b[39m     \u001b[38;5;28;01mreturn\u001b[39;00m ds\n",
      "\u001b[36mFile \u001b[39m\u001b[32m~\\AppData\\Local\\Programs\\Python\\Python311\\Lib\\contextlib.py:137\u001b[39m, in \u001b[36m_GeneratorContextManager.__enter__\u001b[39m\u001b[34m(self)\u001b[39m\n\u001b[32m    135\u001b[39m \u001b[38;5;28;01mdel\u001b[39;00m \u001b[38;5;28mself\u001b[39m.args, \u001b[38;5;28mself\u001b[39m.kwds, \u001b[38;5;28mself\u001b[39m.func\n\u001b[32m    136\u001b[39m \u001b[38;5;28;01mtry\u001b[39;00m:\n\u001b[32m--> \u001b[39m\u001b[32m137\u001b[39m     \u001b[38;5;28;01mreturn\u001b[39;00m \u001b[38;5;28mnext\u001b[39m(\u001b[38;5;28mself\u001b[39m.gen)\n\u001b[32m    138\u001b[39m \u001b[38;5;28;01mexcept\u001b[39;00m \u001b[38;5;167;01mStopIteration\u001b[39;00m:\n\u001b[32m    139\u001b[39m     \u001b[38;5;28;01mraise\u001b[39;00m \u001b[38;5;167;01mRuntimeError\u001b[39;00m(\u001b[33m\"\u001b[39m\u001b[33mgenerator didn\u001b[39m\u001b[33m'\u001b[39m\u001b[33mt yield\u001b[39m\u001b[33m\"\u001b[39m) \u001b[38;5;28;01mfrom\u001b[39;00m\u001b[38;5;250m \u001b[39m\u001b[38;5;28;01mNone\u001b[39;00m\n",
      "\u001b[36mFile \u001b[39m\u001b[32mc:\\Users\\thais\\.virtualenvs\\climate\\Lib\\site-packages\\xarray\\backends\\file_manager.py:199\u001b[39m, in \u001b[36mCachingFileManager.acquire_context\u001b[39m\u001b[34m(self, needs_lock)\u001b[39m\n\u001b[32m    196\u001b[39m \u001b[38;5;129m@contextlib\u001b[39m.contextmanager\n\u001b[32m    197\u001b[39m \u001b[38;5;28;01mdef\u001b[39;00m\u001b[38;5;250m \u001b[39m\u001b[34macquire_context\u001b[39m(\u001b[38;5;28mself\u001b[39m, needs_lock=\u001b[38;5;28;01mTrue\u001b[39;00m):\n\u001b[32m    198\u001b[39m \u001b[38;5;250m    \u001b[39m\u001b[33;03m\"\"\"Context manager for acquiring a file.\"\"\"\u001b[39;00m\n\u001b[32m--> \u001b[39m\u001b[32m199\u001b[39m     file, cached = \u001b[38;5;28;43mself\u001b[39;49m\u001b[43m.\u001b[49m\u001b[43m_acquire_with_cache_info\u001b[49m\u001b[43m(\u001b[49m\u001b[43mneeds_lock\u001b[49m\u001b[43m)\u001b[49m\n\u001b[32m    200\u001b[39m     \u001b[38;5;28;01mtry\u001b[39;00m:\n\u001b[32m    201\u001b[39m         \u001b[38;5;28;01myield\u001b[39;00m file\n",
      "\u001b[36mFile \u001b[39m\u001b[32mc:\\Users\\thais\\.virtualenvs\\climate\\Lib\\site-packages\\xarray\\backends\\file_manager.py:217\u001b[39m, in \u001b[36mCachingFileManager._acquire_with_cache_info\u001b[39m\u001b[34m(self, needs_lock)\u001b[39m\n\u001b[32m    215\u001b[39m     kwargs = kwargs.copy()\n\u001b[32m    216\u001b[39m     kwargs[\u001b[33m\"\u001b[39m\u001b[33mmode\u001b[39m\u001b[33m\"\u001b[39m] = \u001b[38;5;28mself\u001b[39m._mode\n\u001b[32m--> \u001b[39m\u001b[32m217\u001b[39m file = \u001b[38;5;28;43mself\u001b[39;49m\u001b[43m.\u001b[49m\u001b[43m_opener\u001b[49m\u001b[43m(\u001b[49m\u001b[43m*\u001b[49m\u001b[38;5;28;43mself\u001b[39;49m\u001b[43m.\u001b[49m\u001b[43m_args\u001b[49m\u001b[43m,\u001b[49m\u001b[43m \u001b[49m\u001b[43m*\u001b[49m\u001b[43m*\u001b[49m\u001b[43mkwargs\u001b[49m\u001b[43m)\u001b[49m\n\u001b[32m    218\u001b[39m \u001b[38;5;28;01mif\u001b[39;00m \u001b[38;5;28mself\u001b[39m._mode == \u001b[33m\"\u001b[39m\u001b[33mw\u001b[39m\u001b[33m\"\u001b[39m:\n\u001b[32m    219\u001b[39m     \u001b[38;5;66;03m# ensure file doesn't get overridden when opened again\u001b[39;00m\n\u001b[32m    220\u001b[39m     \u001b[38;5;28mself\u001b[39m._mode = \u001b[33m\"\u001b[39m\u001b[33ma\u001b[39m\u001b[33m\"\u001b[39m\n",
      "\u001b[36mFile \u001b[39m\u001b[32msrc\\\\netCDF4\\\\_netCDF4.pyx:2521\u001b[39m, in \u001b[36mnetCDF4._netCDF4.Dataset.__init__\u001b[39m\u001b[34m()\u001b[39m\n",
      "\u001b[36mFile \u001b[39m\u001b[32msrc\\\\netCDF4\\\\_netCDF4.pyx:2158\u001b[39m, in \u001b[36mnetCDF4._netCDF4._ensure_nc_success\u001b[39m\u001b[34m()\u001b[39m\n",
      "\u001b[31mOSError\u001b[39m: [Errno -101] NetCDF: HDF error: '\\\\\\\\wsl.localhost\\\\Ubuntu\\\\home\\\\thais\\\\climate-ingestion\\\\climate_data_processing\\\\tas_example.nc'"
     ]
    }
   ],
   "source": [
    "import xarray as xr\n",
    "\n",
    "ds = xr.open_dataset(\"tas_example.nc\")\n",
    "print(ds)"
   ]
  },
  {
   "cell_type": "code",
   "execution_count": 25,
   "id": "d30078bb",
   "metadata": {},
   "outputs": [
    {
     "ename": "OSError",
     "evalue": "[Errno -90] NetCDF: file not found: 'http://esgf3.dkrz.de/thredds/dodsC/cmip6/CMIP/EC-Earth-Consortium/EC-Earth3/historical/r110i1p1f1/Amon/tas/gr/v20200412/tas_Amon_EC-Earth3_historical_r110i1p1f1_gr_197001-197012.nc'",
     "output_type": "error",
     "traceback": [
      "\u001b[31m---------------------------------------------------------------------------\u001b[39m",
      "\u001b[31mKeyError\u001b[39m                                  Traceback (most recent call last)",
      "\u001b[36mFile \u001b[39m\u001b[32mc:\\Users\\thais\\.virtualenvs\\climate\\Lib\\site-packages\\xarray\\backends\\file_manager.py:211\u001b[39m, in \u001b[36mCachingFileManager._acquire_with_cache_info\u001b[39m\u001b[34m(self, needs_lock)\u001b[39m\n\u001b[32m    210\u001b[39m \u001b[38;5;28;01mtry\u001b[39;00m:\n\u001b[32m--> \u001b[39m\u001b[32m211\u001b[39m     file = \u001b[38;5;28;43mself\u001b[39;49m\u001b[43m.\u001b[49m\u001b[43m_cache\u001b[49m\u001b[43m[\u001b[49m\u001b[38;5;28;43mself\u001b[39;49m\u001b[43m.\u001b[49m\u001b[43m_key\u001b[49m\u001b[43m]\u001b[49m\n\u001b[32m    212\u001b[39m \u001b[38;5;28;01mexcept\u001b[39;00m \u001b[38;5;167;01mKeyError\u001b[39;00m:\n",
      "\u001b[36mFile \u001b[39m\u001b[32mc:\\Users\\thais\\.virtualenvs\\climate\\Lib\\site-packages\\xarray\\backends\\lru_cache.py:56\u001b[39m, in \u001b[36mLRUCache.__getitem__\u001b[39m\u001b[34m(self, key)\u001b[39m\n\u001b[32m     55\u001b[39m \u001b[38;5;28;01mwith\u001b[39;00m \u001b[38;5;28mself\u001b[39m._lock:\n\u001b[32m---> \u001b[39m\u001b[32m56\u001b[39m     value = \u001b[38;5;28;43mself\u001b[39;49m\u001b[43m.\u001b[49m\u001b[43m_cache\u001b[49m\u001b[43m[\u001b[49m\u001b[43mkey\u001b[49m\u001b[43m]\u001b[49m\n\u001b[32m     57\u001b[39m     \u001b[38;5;28mself\u001b[39m._cache.move_to_end(key)\n",
      "\u001b[31mKeyError\u001b[39m: [<class 'netCDF4._netCDF4.Dataset'>, ('http://esgf3.dkrz.de/thredds/dodsC/cmip6/CMIP/EC-Earth-Consortium/EC-Earth3/historical/r110i1p1f1/Amon/tas/gr/v20200412/tas_Amon_EC-Earth3_historical_r110i1p1f1_gr_197001-197012.nc',), 'r', (('clobber', True), ('diskless', False), ('format', 'NETCDF4'), ('persist', False)), '63c246a5-84bb-4e60-bcb3-5c1ce218a333']",
      "\nDuring handling of the above exception, another exception occurred:\n",
      "\u001b[31mOSError\u001b[39m                                   Traceback (most recent call last)",
      "\u001b[36mCell\u001b[39m\u001b[36m \u001b[39m\u001b[32mIn[25]\u001b[39m\u001b[32m, line 3\u001b[39m\n\u001b[32m      1\u001b[39m \u001b[38;5;28;01mimport\u001b[39;00m\u001b[38;5;250m \u001b[39m\u001b[34;01mxarray\u001b[39;00m\u001b[38;5;250m \u001b[39m\u001b[38;5;28;01mas\u001b[39;00m\u001b[38;5;250m \u001b[39m\u001b[34;01mxr\u001b[39;00m\n\u001b[32m----> \u001b[39m\u001b[32m3\u001b[39m ds = \u001b[43mxr\u001b[49m\u001b[43m.\u001b[49m\u001b[43mopen_dataset\u001b[49m\u001b[43m(\u001b[49m\u001b[43mfirst_file\u001b[49m\u001b[43m.\u001b[49m\u001b[43mopendap_url\u001b[49m\u001b[43m)\u001b[49m\n\u001b[32m      4\u001b[39m \u001b[38;5;28mprint\u001b[39m(ds)\n",
      "\u001b[36mFile \u001b[39m\u001b[32mc:\\Users\\thais\\.virtualenvs\\climate\\Lib\\site-packages\\xarray\\backends\\api.py:715\u001b[39m, in \u001b[36mopen_dataset\u001b[39m\u001b[34m(filename_or_obj, engine, chunks, cache, decode_cf, mask_and_scale, decode_times, decode_timedelta, use_cftime, concat_characters, decode_coords, drop_variables, create_default_indexes, inline_array, chunked_array_type, from_array_kwargs, backend_kwargs, **kwargs)\u001b[39m\n\u001b[32m    703\u001b[39m decoders = _resolve_decoders_kwargs(\n\u001b[32m    704\u001b[39m     decode_cf,\n\u001b[32m    705\u001b[39m     open_backend_dataset_parameters=backend.open_dataset_parameters,\n\u001b[32m   (...)\u001b[39m\u001b[32m    711\u001b[39m     decode_coords=decode_coords,\n\u001b[32m    712\u001b[39m )\n\u001b[32m    714\u001b[39m overwrite_encoded_chunks = kwargs.pop(\u001b[33m\"\u001b[39m\u001b[33moverwrite_encoded_chunks\u001b[39m\u001b[33m\"\u001b[39m, \u001b[38;5;28;01mNone\u001b[39;00m)\n\u001b[32m--> \u001b[39m\u001b[32m715\u001b[39m backend_ds = \u001b[43mbackend\u001b[49m\u001b[43m.\u001b[49m\u001b[43mopen_dataset\u001b[49m\u001b[43m(\u001b[49m\n\u001b[32m    716\u001b[39m \u001b[43m    \u001b[49m\u001b[43mfilename_or_obj\u001b[49m\u001b[43m,\u001b[49m\n\u001b[32m    717\u001b[39m \u001b[43m    \u001b[49m\u001b[43mdrop_variables\u001b[49m\u001b[43m=\u001b[49m\u001b[43mdrop_variables\u001b[49m\u001b[43m,\u001b[49m\n\u001b[32m    718\u001b[39m \u001b[43m    \u001b[49m\u001b[43m*\u001b[49m\u001b[43m*\u001b[49m\u001b[43mdecoders\u001b[49m\u001b[43m,\u001b[49m\n\u001b[32m    719\u001b[39m \u001b[43m    \u001b[49m\u001b[43m*\u001b[49m\u001b[43m*\u001b[49m\u001b[43mkwargs\u001b[49m\u001b[43m,\u001b[49m\n\u001b[32m    720\u001b[39m \u001b[43m\u001b[49m\u001b[43m)\u001b[49m\n\u001b[32m    721\u001b[39m ds = _dataset_from_backend_dataset(\n\u001b[32m    722\u001b[39m     backend_ds,\n\u001b[32m    723\u001b[39m     filename_or_obj,\n\u001b[32m   (...)\u001b[39m\u001b[32m    734\u001b[39m     **kwargs,\n\u001b[32m    735\u001b[39m )\n\u001b[32m    736\u001b[39m \u001b[38;5;28;01mreturn\u001b[39;00m ds\n",
      "\u001b[36mFile \u001b[39m\u001b[32mc:\\Users\\thais\\.virtualenvs\\climate\\Lib\\site-packages\\xarray\\backends\\netCDF4_.py:671\u001b[39m, in \u001b[36mNetCDF4BackendEntrypoint.open_dataset\u001b[39m\u001b[34m(self, filename_or_obj, mask_and_scale, decode_times, concat_characters, decode_coords, drop_variables, use_cftime, decode_timedelta, group, mode, format, clobber, diskless, persist, auto_complex, lock, autoclose)\u001b[39m\n\u001b[32m    649\u001b[39m \u001b[38;5;28;01mdef\u001b[39;00m\u001b[38;5;250m \u001b[39m\u001b[34mopen_dataset\u001b[39m(\n\u001b[32m    650\u001b[39m     \u001b[38;5;28mself\u001b[39m,\n\u001b[32m    651\u001b[39m     filename_or_obj: \u001b[38;5;28mstr\u001b[39m | os.PathLike[Any] | ReadBuffer | AbstractDataStore,\n\u001b[32m   (...)\u001b[39m\u001b[32m    668\u001b[39m     autoclose=\u001b[38;5;28;01mFalse\u001b[39;00m,\n\u001b[32m    669\u001b[39m ) -> Dataset:\n\u001b[32m    670\u001b[39m     filename_or_obj = _normalize_path(filename_or_obj)\n\u001b[32m--> \u001b[39m\u001b[32m671\u001b[39m     store = \u001b[43mNetCDF4DataStore\u001b[49m\u001b[43m.\u001b[49m\u001b[43mopen\u001b[49m\u001b[43m(\u001b[49m\n\u001b[32m    672\u001b[39m \u001b[43m        \u001b[49m\u001b[43mfilename_or_obj\u001b[49m\u001b[43m,\u001b[49m\n\u001b[32m    673\u001b[39m \u001b[43m        \u001b[49m\u001b[43mmode\u001b[49m\u001b[43m=\u001b[49m\u001b[43mmode\u001b[49m\u001b[43m,\u001b[49m\n\u001b[32m    674\u001b[39m \u001b[43m        \u001b[49m\u001b[38;5;28;43mformat\u001b[39;49m\u001b[43m=\u001b[49m\u001b[38;5;28;43mformat\u001b[39;49m\u001b[43m,\u001b[49m\n\u001b[32m    675\u001b[39m \u001b[43m        \u001b[49m\u001b[43mgroup\u001b[49m\u001b[43m=\u001b[49m\u001b[43mgroup\u001b[49m\u001b[43m,\u001b[49m\n\u001b[32m    676\u001b[39m \u001b[43m        \u001b[49m\u001b[43mclobber\u001b[49m\u001b[43m=\u001b[49m\u001b[43mclobber\u001b[49m\u001b[43m,\u001b[49m\n\u001b[32m    677\u001b[39m \u001b[43m        \u001b[49m\u001b[43mdiskless\u001b[49m\u001b[43m=\u001b[49m\u001b[43mdiskless\u001b[49m\u001b[43m,\u001b[49m\n\u001b[32m    678\u001b[39m \u001b[43m        \u001b[49m\u001b[43mpersist\u001b[49m\u001b[43m=\u001b[49m\u001b[43mpersist\u001b[49m\u001b[43m,\u001b[49m\n\u001b[32m    679\u001b[39m \u001b[43m        \u001b[49m\u001b[43mauto_complex\u001b[49m\u001b[43m=\u001b[49m\u001b[43mauto_complex\u001b[49m\u001b[43m,\u001b[49m\n\u001b[32m    680\u001b[39m \u001b[43m        \u001b[49m\u001b[43mlock\u001b[49m\u001b[43m=\u001b[49m\u001b[43mlock\u001b[49m\u001b[43m,\u001b[49m\n\u001b[32m    681\u001b[39m \u001b[43m        \u001b[49m\u001b[43mautoclose\u001b[49m\u001b[43m=\u001b[49m\u001b[43mautoclose\u001b[49m\u001b[43m,\u001b[49m\n\u001b[32m    682\u001b[39m \u001b[43m    \u001b[49m\u001b[43m)\u001b[49m\n\u001b[32m    684\u001b[39m     store_entrypoint = StoreBackendEntrypoint()\n\u001b[32m    685\u001b[39m     \u001b[38;5;28;01mwith\u001b[39;00m close_on_error(store):\n",
      "\u001b[36mFile \u001b[39m\u001b[32mc:\\Users\\thais\\.virtualenvs\\climate\\Lib\\site-packages\\xarray\\backends\\netCDF4_.py:457\u001b[39m, in \u001b[36mNetCDF4DataStore.open\u001b[39m\u001b[34m(cls, filename, mode, format, group, clobber, diskless, persist, auto_complex, lock, lock_maker, autoclose)\u001b[39m\n\u001b[32m    453\u001b[39m     kwargs[\u001b[33m\"\u001b[39m\u001b[33mauto_complex\u001b[39m\u001b[33m\"\u001b[39m] = auto_complex\n\u001b[32m    454\u001b[39m manager = CachingFileManager(\n\u001b[32m    455\u001b[39m     netCDF4.Dataset, filename, mode=mode, kwargs=kwargs\n\u001b[32m    456\u001b[39m )\n\u001b[32m--> \u001b[39m\u001b[32m457\u001b[39m \u001b[38;5;28;01mreturn\u001b[39;00m \u001b[38;5;28;43mcls\u001b[39;49m\u001b[43m(\u001b[49m\u001b[43mmanager\u001b[49m\u001b[43m,\u001b[49m\u001b[43m \u001b[49m\u001b[43mgroup\u001b[49m\u001b[43m=\u001b[49m\u001b[43mgroup\u001b[49m\u001b[43m,\u001b[49m\u001b[43m \u001b[49m\u001b[43mmode\u001b[49m\u001b[43m=\u001b[49m\u001b[43mmode\u001b[49m\u001b[43m,\u001b[49m\u001b[43m \u001b[49m\u001b[43mlock\u001b[49m\u001b[43m=\u001b[49m\u001b[43mlock\u001b[49m\u001b[43m,\u001b[49m\u001b[43m \u001b[49m\u001b[43mautoclose\u001b[49m\u001b[43m=\u001b[49m\u001b[43mautoclose\u001b[49m\u001b[43m)\u001b[49m\n",
      "\u001b[36mFile \u001b[39m\u001b[32mc:\\Users\\thais\\.virtualenvs\\climate\\Lib\\site-packages\\xarray\\backends\\netCDF4_.py:398\u001b[39m, in \u001b[36mNetCDF4DataStore.__init__\u001b[39m\u001b[34m(self, manager, group, mode, lock, autoclose)\u001b[39m\n\u001b[32m    396\u001b[39m \u001b[38;5;28mself\u001b[39m._group = group\n\u001b[32m    397\u001b[39m \u001b[38;5;28mself\u001b[39m._mode = mode\n\u001b[32m--> \u001b[39m\u001b[32m398\u001b[39m \u001b[38;5;28mself\u001b[39m.format = \u001b[38;5;28;43mself\u001b[39;49m\u001b[43m.\u001b[49m\u001b[43mds\u001b[49m.data_model\n\u001b[32m    399\u001b[39m \u001b[38;5;28mself\u001b[39m._filename = \u001b[38;5;28mself\u001b[39m.ds.filepath()\n\u001b[32m    400\u001b[39m \u001b[38;5;28mself\u001b[39m.is_remote = is_remote_uri(\u001b[38;5;28mself\u001b[39m._filename)\n",
      "\u001b[36mFile \u001b[39m\u001b[32mc:\\Users\\thais\\.virtualenvs\\climate\\Lib\\site-packages\\xarray\\backends\\netCDF4_.py:466\u001b[39m, in \u001b[36mNetCDF4DataStore.ds\u001b[39m\u001b[34m(self)\u001b[39m\n\u001b[32m    464\u001b[39m \u001b[38;5;129m@property\u001b[39m\n\u001b[32m    465\u001b[39m \u001b[38;5;28;01mdef\u001b[39;00m\u001b[38;5;250m \u001b[39m\u001b[34mds\u001b[39m(\u001b[38;5;28mself\u001b[39m):\n\u001b[32m--> \u001b[39m\u001b[32m466\u001b[39m     \u001b[38;5;28;01mreturn\u001b[39;00m \u001b[38;5;28;43mself\u001b[39;49m\u001b[43m.\u001b[49m\u001b[43m_acquire\u001b[49m\u001b[43m(\u001b[49m\u001b[43m)\u001b[49m\n",
      "\u001b[36mFile \u001b[39m\u001b[32mc:\\Users\\thais\\.virtualenvs\\climate\\Lib\\site-packages\\xarray\\backends\\netCDF4_.py:460\u001b[39m, in \u001b[36mNetCDF4DataStore._acquire\u001b[39m\u001b[34m(self, needs_lock)\u001b[39m\n\u001b[32m    459\u001b[39m \u001b[38;5;28;01mdef\u001b[39;00m\u001b[38;5;250m \u001b[39m\u001b[34m_acquire\u001b[39m(\u001b[38;5;28mself\u001b[39m, needs_lock=\u001b[38;5;28;01mTrue\u001b[39;00m):\n\u001b[32m--> \u001b[39m\u001b[32m460\u001b[39m \u001b[43m    \u001b[49m\u001b[38;5;28;43;01mwith\u001b[39;49;00m\u001b[43m \u001b[49m\u001b[38;5;28;43mself\u001b[39;49m\u001b[43m.\u001b[49m\u001b[43m_manager\u001b[49m\u001b[43m.\u001b[49m\u001b[43macquire_context\u001b[49m\u001b[43m(\u001b[49m\u001b[43mneeds_lock\u001b[49m\u001b[43m)\u001b[49m\u001b[43m \u001b[49m\u001b[38;5;28;43;01mas\u001b[39;49;00m\u001b[43m \u001b[49m\u001b[43mroot\u001b[49m\u001b[43m:\u001b[49m\n\u001b[32m    461\u001b[39m \u001b[43m        \u001b[49m\u001b[43mds\u001b[49m\u001b[43m \u001b[49m\u001b[43m=\u001b[49m\u001b[43m \u001b[49m\u001b[43m_nc4_require_group\u001b[49m\u001b[43m(\u001b[49m\u001b[43mroot\u001b[49m\u001b[43m,\u001b[49m\u001b[43m \u001b[49m\u001b[38;5;28;43mself\u001b[39;49m\u001b[43m.\u001b[49m\u001b[43m_group\u001b[49m\u001b[43m,\u001b[49m\u001b[43m \u001b[49m\u001b[38;5;28;43mself\u001b[39;49m\u001b[43m.\u001b[49m\u001b[43m_mode\u001b[49m\u001b[43m)\u001b[49m\n\u001b[32m    462\u001b[39m     \u001b[38;5;28;01mreturn\u001b[39;00m ds\n",
      "\u001b[36mFile \u001b[39m\u001b[32m~\\AppData\\Local\\Programs\\Python\\Python311\\Lib\\contextlib.py:137\u001b[39m, in \u001b[36m_GeneratorContextManager.__enter__\u001b[39m\u001b[34m(self)\u001b[39m\n\u001b[32m    135\u001b[39m \u001b[38;5;28;01mdel\u001b[39;00m \u001b[38;5;28mself\u001b[39m.args, \u001b[38;5;28mself\u001b[39m.kwds, \u001b[38;5;28mself\u001b[39m.func\n\u001b[32m    136\u001b[39m \u001b[38;5;28;01mtry\u001b[39;00m:\n\u001b[32m--> \u001b[39m\u001b[32m137\u001b[39m     \u001b[38;5;28;01mreturn\u001b[39;00m \u001b[38;5;28mnext\u001b[39m(\u001b[38;5;28mself\u001b[39m.gen)\n\u001b[32m    138\u001b[39m \u001b[38;5;28;01mexcept\u001b[39;00m \u001b[38;5;167;01mStopIteration\u001b[39;00m:\n\u001b[32m    139\u001b[39m     \u001b[38;5;28;01mraise\u001b[39;00m \u001b[38;5;167;01mRuntimeError\u001b[39;00m(\u001b[33m\"\u001b[39m\u001b[33mgenerator didn\u001b[39m\u001b[33m'\u001b[39m\u001b[33mt yield\u001b[39m\u001b[33m\"\u001b[39m) \u001b[38;5;28;01mfrom\u001b[39;00m\u001b[38;5;250m \u001b[39m\u001b[38;5;28;01mNone\u001b[39;00m\n",
      "\u001b[36mFile \u001b[39m\u001b[32mc:\\Users\\thais\\.virtualenvs\\climate\\Lib\\site-packages\\xarray\\backends\\file_manager.py:199\u001b[39m, in \u001b[36mCachingFileManager.acquire_context\u001b[39m\u001b[34m(self, needs_lock)\u001b[39m\n\u001b[32m    196\u001b[39m \u001b[38;5;129m@contextlib\u001b[39m.contextmanager\n\u001b[32m    197\u001b[39m \u001b[38;5;28;01mdef\u001b[39;00m\u001b[38;5;250m \u001b[39m\u001b[34macquire_context\u001b[39m(\u001b[38;5;28mself\u001b[39m, needs_lock=\u001b[38;5;28;01mTrue\u001b[39;00m):\n\u001b[32m    198\u001b[39m \u001b[38;5;250m    \u001b[39m\u001b[33;03m\"\"\"Context manager for acquiring a file.\"\"\"\u001b[39;00m\n\u001b[32m--> \u001b[39m\u001b[32m199\u001b[39m     file, cached = \u001b[38;5;28;43mself\u001b[39;49m\u001b[43m.\u001b[49m\u001b[43m_acquire_with_cache_info\u001b[49m\u001b[43m(\u001b[49m\u001b[43mneeds_lock\u001b[49m\u001b[43m)\u001b[49m\n\u001b[32m    200\u001b[39m     \u001b[38;5;28;01mtry\u001b[39;00m:\n\u001b[32m    201\u001b[39m         \u001b[38;5;28;01myield\u001b[39;00m file\n",
      "\u001b[36mFile \u001b[39m\u001b[32mc:\\Users\\thais\\.virtualenvs\\climate\\Lib\\site-packages\\xarray\\backends\\file_manager.py:217\u001b[39m, in \u001b[36mCachingFileManager._acquire_with_cache_info\u001b[39m\u001b[34m(self, needs_lock)\u001b[39m\n\u001b[32m    215\u001b[39m     kwargs = kwargs.copy()\n\u001b[32m    216\u001b[39m     kwargs[\u001b[33m\"\u001b[39m\u001b[33mmode\u001b[39m\u001b[33m\"\u001b[39m] = \u001b[38;5;28mself\u001b[39m._mode\n\u001b[32m--> \u001b[39m\u001b[32m217\u001b[39m file = \u001b[38;5;28;43mself\u001b[39;49m\u001b[43m.\u001b[49m\u001b[43m_opener\u001b[49m\u001b[43m(\u001b[49m\u001b[43m*\u001b[49m\u001b[38;5;28;43mself\u001b[39;49m\u001b[43m.\u001b[49m\u001b[43m_args\u001b[49m\u001b[43m,\u001b[49m\u001b[43m \u001b[49m\u001b[43m*\u001b[49m\u001b[43m*\u001b[49m\u001b[43mkwargs\u001b[49m\u001b[43m)\u001b[49m\n\u001b[32m    218\u001b[39m \u001b[38;5;28;01mif\u001b[39;00m \u001b[38;5;28mself\u001b[39m._mode == \u001b[33m\"\u001b[39m\u001b[33mw\u001b[39m\u001b[33m\"\u001b[39m:\n\u001b[32m    219\u001b[39m     \u001b[38;5;66;03m# ensure file doesn't get overridden when opened again\u001b[39;00m\n\u001b[32m    220\u001b[39m     \u001b[38;5;28mself\u001b[39m._mode = \u001b[33m\"\u001b[39m\u001b[33ma\u001b[39m\u001b[33m\"\u001b[39m\n",
      "\u001b[36mFile \u001b[39m\u001b[32msrc\\\\netCDF4\\\\_netCDF4.pyx:2521\u001b[39m, in \u001b[36mnetCDF4._netCDF4.Dataset.__init__\u001b[39m\u001b[34m()\u001b[39m\n",
      "\u001b[36mFile \u001b[39m\u001b[32msrc\\\\netCDF4\\\\_netCDF4.pyx:2158\u001b[39m, in \u001b[36mnetCDF4._netCDF4._ensure_nc_success\u001b[39m\u001b[34m()\u001b[39m\n",
      "\u001b[31mOSError\u001b[39m: [Errno -90] NetCDF: file not found: 'http://esgf3.dkrz.de/thredds/dodsC/cmip6/CMIP/EC-Earth-Consortium/EC-Earth3/historical/r110i1p1f1/Amon/tas/gr/v20200412/tas_Amon_EC-Earth3_historical_r110i1p1f1_gr_197001-197012.nc'"
     ]
    }
   ],
   "source": [
    "import xarray as xr\n",
    "\n",
    "ds = xr.open_dataset(first_file.opendap_url)\n",
    "print(ds)"
   ]
  },
  {
   "cell_type": "code",
   "execution_count": 22,
   "id": "1e46c46a",
   "metadata": {},
   "outputs": [
    {
     "data": {
      "text/plain": [
       "{'id': 'CMIP6.CMIP.EC-Earth-Consortium.EC-Earth3.historical.r110i1p1f1.Amon.tas.gr.v20200412|esgf3.dkrz.de',\n",
       " 'version': '20200412',\n",
       " 'access': ['HTTPServer', 'GridFTP', 'OPENDAP', 'Globus'],\n",
       " 'activity_drs': ['CMIP'],\n",
       " 'activity_id': ['CMIP'],\n",
       " 'cf_standard_name': ['air_temperature'],\n",
       " 'citation_url': ['http://cera-www.dkrz.de/WDCC/meta/CMIP6/CMIP6.CMIP.EC-Earth-Consortium.EC-Earth3.historical.r110i1p1f1.Amon.tas.gr.v20200412.json'],\n",
       " 'data_node': 'esgf3.dkrz.de',\n",
       " 'data_specs_version': ['01.00.30'],\n",
       " 'dataset_id_template_': ['%(mip_era)s.%(activity_drs)s.%(institution_id)s.%(source_id)s.%(experiment_id)s.%(member_id)s.%(table_id)s.%(variable_id)s.%(grid_label)s'],\n",
       " 'datetime_start': '1970-01-16T12:00:00Z',\n",
       " 'datetime_stop': '2014-12-16T12:00:00Z',\n",
       " 'directory_format_template_': ['%(root)s/%(mip_era)s/%(activity_drs)s/%(institution_id)s/%(source_id)s/%(experiment_id)s/%(member_id)s/%(table_id)s/%(variable_id)s/%(grid_label)s/%(version)s'],\n",
       " 'east_degrees': 359.29688,\n",
       " 'experiment_id': ['historical'],\n",
       " 'experiment_title': ['all-forcing simulation of the recent past'],\n",
       " 'frequency': ['mon'],\n",
       " 'further_info_url': ['https://furtherinfo.es-doc.org/CMIP6.EC-Earth-Consortium.EC-Earth3.historical.none.r110i1p1f1'],\n",
       " 'geo': ['ENVELOPE(-180.0, -0.703125, 89.46282, -89.46282)',\n",
       "  'ENVELOPE(0.0, 180.0, 89.46282, -89.46282)'],\n",
       " 'geo_units': ['degrees_east'],\n",
       " 'grid': ['T255L91-ORCA1L75'],\n",
       " 'grid_label': ['gr'],\n",
       " 'index_node': 'esgf-data.dkrz.de',\n",
       " 'instance_id': 'CMIP6.CMIP.EC-Earth-Consortium.EC-Earth3.historical.r110i1p1f1.Amon.tas.gr.v20200412',\n",
       " 'institution_id': ['EC-Earth-Consortium'],\n",
       " 'latest': True,\n",
       " 'master_id': 'CMIP6.CMIP.EC-Earth-Consortium.EC-Earth3.historical.r110i1p1f1.Amon.tas.gr',\n",
       " 'member_id': ['r110i1p1f1'],\n",
       " 'mip_era': ['CMIP6'],\n",
       " 'model_cohort': ['Registered'],\n",
       " 'nominal_resolution': ['100 km'],\n",
       " 'north_degrees': 89.46282,\n",
       " 'number_of_aggregations': 1,\n",
       " 'number_of_files': 45,\n",
       " 'pid': ['hdl:21.14100/659ed85f-6ba9-378d-9eed-8b5b9e84a220'],\n",
       " 'product': ['model-output'],\n",
       " 'project': ['CMIP6'],\n",
       " 'realm': ['atmos'],\n",
       " 'replica': True,\n",
       " 'size': 212815410,\n",
       " 'source_id': ['EC-Earth3'],\n",
       " 'source_type': ['AOGCM'],\n",
       " 'south_degrees': -89.46282,\n",
       " 'sub_experiment_id': ['none'],\n",
       " 'table_id': ['Amon'],\n",
       " 'title': 'CMIP6.CMIP.EC-Earth-Consortium.EC-Earth3.historical.r110i1p1f1.Amon.tas.gr',\n",
       " 'type': 'Dataset',\n",
       " 'url': ['http://esgf3.dkrz.de/thredds/catalog/esgcet/1856/CMIP6.CMIP.EC-Earth-Consortium.EC-Earth3.historical.r110i1p1f1.Amon.tas.gr.v20200412.xml#CMIP6.CMIP.EC-Earth-Consortium.EC-Earth3.historical.r110i1p1f1.Amon.tas.gr.v20200412|application/xml+thredds|THREDDS'],\n",
       " 'variable': ['tas'],\n",
       " 'variable_id': ['tas'],\n",
       " 'variable_long_name': ['Near-Surface Air Temperature'],\n",
       " 'variable_units': ['K'],\n",
       " 'variant_label': ['r110i1p1f1'],\n",
       " 'west_degrees': 0.0,\n",
       " 'xlink': ['http://cera-www.dkrz.de/WDCC/meta/CMIP6/CMIP6.CMIP.EC-Earth-Consortium.EC-Earth3.historical.r110i1p1f1.Amon.tas.gr.v20200412.json|Citation|citation',\n",
       "  'http://hdl.handle.net/hdl:21.14100/659ed85f-6ba9-378d-9eed-8b5b9e84a220|PID|pid'],\n",
       " '_version_': 1715520022605987840,\n",
       " 'retracted': False,\n",
       " '_timestamp': '2021-11-04T17:36:24.840Z',\n",
       " 'score': 1.0}"
      ]
     },
     "execution_count": 22,
     "metadata": {},
     "output_type": "execute_result"
    }
   ],
   "source": [
    "result.json"
   ]
  },
  {
   "cell_type": "code",
   "execution_count": 17,
   "id": "8f3c9105",
   "metadata": {},
   "outputs": [
    {
     "ename": "OSError",
     "evalue": "[Errno -90] NetCDF: file not found: 'http://esgf3.dkrz.de/thredds/dodsC/cmip6/CMIP/EC-Earth-Consortium/EC-Earth3/historical/r110i1p1f1/Amon/tas/gr/v20200412/tas_Amon_EC-Earth3_historical_r110i1p1f1_gr_198001-198012.nc'",
     "output_type": "error",
     "traceback": [
      "\u001b[31m---------------------------------------------------------------------------\u001b[39m",
      "\u001b[31mKeyError\u001b[39m                                  Traceback (most recent call last)",
      "\u001b[36mFile \u001b[39m\u001b[32mc:\\Users\\thais\\.virtualenvs\\climate\\Lib\\site-packages\\xarray\\backends\\file_manager.py:211\u001b[39m, in \u001b[36mCachingFileManager._acquire_with_cache_info\u001b[39m\u001b[34m(self, needs_lock)\u001b[39m\n\u001b[32m    210\u001b[39m \u001b[38;5;28;01mtry\u001b[39;00m:\n\u001b[32m--> \u001b[39m\u001b[32m211\u001b[39m     file = \u001b[38;5;28;43mself\u001b[39;49m\u001b[43m.\u001b[49m\u001b[43m_cache\u001b[49m\u001b[43m[\u001b[49m\u001b[38;5;28;43mself\u001b[39;49m\u001b[43m.\u001b[49m\u001b[43m_key\u001b[49m\u001b[43m]\u001b[49m\n\u001b[32m    212\u001b[39m \u001b[38;5;28;01mexcept\u001b[39;00m \u001b[38;5;167;01mKeyError\u001b[39;00m:\n",
      "\u001b[36mFile \u001b[39m\u001b[32mc:\\Users\\thais\\.virtualenvs\\climate\\Lib\\site-packages\\xarray\\backends\\lru_cache.py:56\u001b[39m, in \u001b[36mLRUCache.__getitem__\u001b[39m\u001b[34m(self, key)\u001b[39m\n\u001b[32m     55\u001b[39m \u001b[38;5;28;01mwith\u001b[39;00m \u001b[38;5;28mself\u001b[39m._lock:\n\u001b[32m---> \u001b[39m\u001b[32m56\u001b[39m     value = \u001b[38;5;28;43mself\u001b[39;49m\u001b[43m.\u001b[49m\u001b[43m_cache\u001b[49m\u001b[43m[\u001b[49m\u001b[43mkey\u001b[49m\u001b[43m]\u001b[49m\n\u001b[32m     57\u001b[39m     \u001b[38;5;28mself\u001b[39m._cache.move_to_end(key)\n",
      "\u001b[31mKeyError\u001b[39m: [<class 'netCDF4._netCDF4.Dataset'>, ('http://esgf3.dkrz.de/thredds/dodsC/cmip6/CMIP/EC-Earth-Consortium/EC-Earth3/historical/r110i1p1f1/Amon/tas/gr/v20200412/tas_Amon_EC-Earth3_historical_r110i1p1f1_gr_198001-198012.nc',), 'r', (('clobber', True), ('diskless', False), ('format', 'NETCDF4'), ('persist', False)), '4125ab5b-292d-491a-899b-bd17496a9eb9']",
      "\nDuring handling of the above exception, another exception occurred:\n",
      "\u001b[31mOSError\u001b[39m                                   Traceback (most recent call last)",
      "\u001b[36mCell\u001b[39m\u001b[36m \u001b[39m\u001b[32mIn[17]\u001b[39m\u001b[32m, line 1\u001b[39m\n\u001b[32m----> \u001b[39m\u001b[32m1\u001b[39m ds = \u001b[43mxr\u001b[49m\u001b[43m.\u001b[49m\u001b[43mopen_dataset\u001b[49m\u001b[43m(\u001b[49m\u001b[43mfiles\u001b[49m\u001b[43m[\u001b[49m\u001b[32;43m10\u001b[39;49m\u001b[43m]\u001b[49m\u001b[43m.\u001b[49m\u001b[43mopendap_url\u001b[49m\u001b[43m,\u001b[49m\u001b[43m \u001b[49m\u001b[43mchunks\u001b[49m\u001b[43m=\u001b[49m\u001b[43m{\u001b[49m\u001b[33;43m\"\u001b[39;49m\u001b[33;43mtime\u001b[39;49m\u001b[33;43m\"\u001b[39;49m\u001b[43m:\u001b[49m\u001b[43m \u001b[49m\u001b[32;43m120\u001b[39;49m\u001b[43m}\u001b[49m\u001b[43m)\u001b[49m\n\u001b[32m      2\u001b[39m \u001b[38;5;28mprint\u001b[39m(ds)\n",
      "\u001b[36mFile \u001b[39m\u001b[32mc:\\Users\\thais\\.virtualenvs\\climate\\Lib\\site-packages\\xarray\\backends\\api.py:715\u001b[39m, in \u001b[36mopen_dataset\u001b[39m\u001b[34m(filename_or_obj, engine, chunks, cache, decode_cf, mask_and_scale, decode_times, decode_timedelta, use_cftime, concat_characters, decode_coords, drop_variables, create_default_indexes, inline_array, chunked_array_type, from_array_kwargs, backend_kwargs, **kwargs)\u001b[39m\n\u001b[32m    703\u001b[39m decoders = _resolve_decoders_kwargs(\n\u001b[32m    704\u001b[39m     decode_cf,\n\u001b[32m    705\u001b[39m     open_backend_dataset_parameters=backend.open_dataset_parameters,\n\u001b[32m   (...)\u001b[39m\u001b[32m    711\u001b[39m     decode_coords=decode_coords,\n\u001b[32m    712\u001b[39m )\n\u001b[32m    714\u001b[39m overwrite_encoded_chunks = kwargs.pop(\u001b[33m\"\u001b[39m\u001b[33moverwrite_encoded_chunks\u001b[39m\u001b[33m\"\u001b[39m, \u001b[38;5;28;01mNone\u001b[39;00m)\n\u001b[32m--> \u001b[39m\u001b[32m715\u001b[39m backend_ds = \u001b[43mbackend\u001b[49m\u001b[43m.\u001b[49m\u001b[43mopen_dataset\u001b[49m\u001b[43m(\u001b[49m\n\u001b[32m    716\u001b[39m \u001b[43m    \u001b[49m\u001b[43mfilename_or_obj\u001b[49m\u001b[43m,\u001b[49m\n\u001b[32m    717\u001b[39m \u001b[43m    \u001b[49m\u001b[43mdrop_variables\u001b[49m\u001b[43m=\u001b[49m\u001b[43mdrop_variables\u001b[49m\u001b[43m,\u001b[49m\n\u001b[32m    718\u001b[39m \u001b[43m    \u001b[49m\u001b[43m*\u001b[49m\u001b[43m*\u001b[49m\u001b[43mdecoders\u001b[49m\u001b[43m,\u001b[49m\n\u001b[32m    719\u001b[39m \u001b[43m    \u001b[49m\u001b[43m*\u001b[49m\u001b[43m*\u001b[49m\u001b[43mkwargs\u001b[49m\u001b[43m,\u001b[49m\n\u001b[32m    720\u001b[39m \u001b[43m\u001b[49m\u001b[43m)\u001b[49m\n\u001b[32m    721\u001b[39m ds = _dataset_from_backend_dataset(\n\u001b[32m    722\u001b[39m     backend_ds,\n\u001b[32m    723\u001b[39m     filename_or_obj,\n\u001b[32m   (...)\u001b[39m\u001b[32m    734\u001b[39m     **kwargs,\n\u001b[32m    735\u001b[39m )\n\u001b[32m    736\u001b[39m \u001b[38;5;28;01mreturn\u001b[39;00m ds\n",
      "\u001b[36mFile \u001b[39m\u001b[32mc:\\Users\\thais\\.virtualenvs\\climate\\Lib\\site-packages\\xarray\\backends\\netCDF4_.py:671\u001b[39m, in \u001b[36mNetCDF4BackendEntrypoint.open_dataset\u001b[39m\u001b[34m(self, filename_or_obj, mask_and_scale, decode_times, concat_characters, decode_coords, drop_variables, use_cftime, decode_timedelta, group, mode, format, clobber, diskless, persist, auto_complex, lock, autoclose)\u001b[39m\n\u001b[32m    649\u001b[39m \u001b[38;5;28;01mdef\u001b[39;00m\u001b[38;5;250m \u001b[39m\u001b[34mopen_dataset\u001b[39m(\n\u001b[32m    650\u001b[39m     \u001b[38;5;28mself\u001b[39m,\n\u001b[32m    651\u001b[39m     filename_or_obj: \u001b[38;5;28mstr\u001b[39m | os.PathLike[Any] | ReadBuffer | AbstractDataStore,\n\u001b[32m   (...)\u001b[39m\u001b[32m    668\u001b[39m     autoclose=\u001b[38;5;28;01mFalse\u001b[39;00m,\n\u001b[32m    669\u001b[39m ) -> Dataset:\n\u001b[32m    670\u001b[39m     filename_or_obj = _normalize_path(filename_or_obj)\n\u001b[32m--> \u001b[39m\u001b[32m671\u001b[39m     store = \u001b[43mNetCDF4DataStore\u001b[49m\u001b[43m.\u001b[49m\u001b[43mopen\u001b[49m\u001b[43m(\u001b[49m\n\u001b[32m    672\u001b[39m \u001b[43m        \u001b[49m\u001b[43mfilename_or_obj\u001b[49m\u001b[43m,\u001b[49m\n\u001b[32m    673\u001b[39m \u001b[43m        \u001b[49m\u001b[43mmode\u001b[49m\u001b[43m=\u001b[49m\u001b[43mmode\u001b[49m\u001b[43m,\u001b[49m\n\u001b[32m    674\u001b[39m \u001b[43m        \u001b[49m\u001b[38;5;28;43mformat\u001b[39;49m\u001b[43m=\u001b[49m\u001b[38;5;28;43mformat\u001b[39;49m\u001b[43m,\u001b[49m\n\u001b[32m    675\u001b[39m \u001b[43m        \u001b[49m\u001b[43mgroup\u001b[49m\u001b[43m=\u001b[49m\u001b[43mgroup\u001b[49m\u001b[43m,\u001b[49m\n\u001b[32m    676\u001b[39m \u001b[43m        \u001b[49m\u001b[43mclobber\u001b[49m\u001b[43m=\u001b[49m\u001b[43mclobber\u001b[49m\u001b[43m,\u001b[49m\n\u001b[32m    677\u001b[39m \u001b[43m        \u001b[49m\u001b[43mdiskless\u001b[49m\u001b[43m=\u001b[49m\u001b[43mdiskless\u001b[49m\u001b[43m,\u001b[49m\n\u001b[32m    678\u001b[39m \u001b[43m        \u001b[49m\u001b[43mpersist\u001b[49m\u001b[43m=\u001b[49m\u001b[43mpersist\u001b[49m\u001b[43m,\u001b[49m\n\u001b[32m    679\u001b[39m \u001b[43m        \u001b[49m\u001b[43mauto_complex\u001b[49m\u001b[43m=\u001b[49m\u001b[43mauto_complex\u001b[49m\u001b[43m,\u001b[49m\n\u001b[32m    680\u001b[39m \u001b[43m        \u001b[49m\u001b[43mlock\u001b[49m\u001b[43m=\u001b[49m\u001b[43mlock\u001b[49m\u001b[43m,\u001b[49m\n\u001b[32m    681\u001b[39m \u001b[43m        \u001b[49m\u001b[43mautoclose\u001b[49m\u001b[43m=\u001b[49m\u001b[43mautoclose\u001b[49m\u001b[43m,\u001b[49m\n\u001b[32m    682\u001b[39m \u001b[43m    \u001b[49m\u001b[43m)\u001b[49m\n\u001b[32m    684\u001b[39m     store_entrypoint = StoreBackendEntrypoint()\n\u001b[32m    685\u001b[39m     \u001b[38;5;28;01mwith\u001b[39;00m close_on_error(store):\n",
      "\u001b[36mFile \u001b[39m\u001b[32mc:\\Users\\thais\\.virtualenvs\\climate\\Lib\\site-packages\\xarray\\backends\\netCDF4_.py:457\u001b[39m, in \u001b[36mNetCDF4DataStore.open\u001b[39m\u001b[34m(cls, filename, mode, format, group, clobber, diskless, persist, auto_complex, lock, lock_maker, autoclose)\u001b[39m\n\u001b[32m    453\u001b[39m     kwargs[\u001b[33m\"\u001b[39m\u001b[33mauto_complex\u001b[39m\u001b[33m\"\u001b[39m] = auto_complex\n\u001b[32m    454\u001b[39m manager = CachingFileManager(\n\u001b[32m    455\u001b[39m     netCDF4.Dataset, filename, mode=mode, kwargs=kwargs\n\u001b[32m    456\u001b[39m )\n\u001b[32m--> \u001b[39m\u001b[32m457\u001b[39m \u001b[38;5;28;01mreturn\u001b[39;00m \u001b[38;5;28;43mcls\u001b[39;49m\u001b[43m(\u001b[49m\u001b[43mmanager\u001b[49m\u001b[43m,\u001b[49m\u001b[43m \u001b[49m\u001b[43mgroup\u001b[49m\u001b[43m=\u001b[49m\u001b[43mgroup\u001b[49m\u001b[43m,\u001b[49m\u001b[43m \u001b[49m\u001b[43mmode\u001b[49m\u001b[43m=\u001b[49m\u001b[43mmode\u001b[49m\u001b[43m,\u001b[49m\u001b[43m \u001b[49m\u001b[43mlock\u001b[49m\u001b[43m=\u001b[49m\u001b[43mlock\u001b[49m\u001b[43m,\u001b[49m\u001b[43m \u001b[49m\u001b[43mautoclose\u001b[49m\u001b[43m=\u001b[49m\u001b[43mautoclose\u001b[49m\u001b[43m)\u001b[49m\n",
      "\u001b[36mFile \u001b[39m\u001b[32mc:\\Users\\thais\\.virtualenvs\\climate\\Lib\\site-packages\\xarray\\backends\\netCDF4_.py:398\u001b[39m, in \u001b[36mNetCDF4DataStore.__init__\u001b[39m\u001b[34m(self, manager, group, mode, lock, autoclose)\u001b[39m\n\u001b[32m    396\u001b[39m \u001b[38;5;28mself\u001b[39m._group = group\n\u001b[32m    397\u001b[39m \u001b[38;5;28mself\u001b[39m._mode = mode\n\u001b[32m--> \u001b[39m\u001b[32m398\u001b[39m \u001b[38;5;28mself\u001b[39m.format = \u001b[38;5;28;43mself\u001b[39;49m\u001b[43m.\u001b[49m\u001b[43mds\u001b[49m.data_model\n\u001b[32m    399\u001b[39m \u001b[38;5;28mself\u001b[39m._filename = \u001b[38;5;28mself\u001b[39m.ds.filepath()\n\u001b[32m    400\u001b[39m \u001b[38;5;28mself\u001b[39m.is_remote = is_remote_uri(\u001b[38;5;28mself\u001b[39m._filename)\n",
      "\u001b[36mFile \u001b[39m\u001b[32mc:\\Users\\thais\\.virtualenvs\\climate\\Lib\\site-packages\\xarray\\backends\\netCDF4_.py:466\u001b[39m, in \u001b[36mNetCDF4DataStore.ds\u001b[39m\u001b[34m(self)\u001b[39m\n\u001b[32m    464\u001b[39m \u001b[38;5;129m@property\u001b[39m\n\u001b[32m    465\u001b[39m \u001b[38;5;28;01mdef\u001b[39;00m\u001b[38;5;250m \u001b[39m\u001b[34mds\u001b[39m(\u001b[38;5;28mself\u001b[39m):\n\u001b[32m--> \u001b[39m\u001b[32m466\u001b[39m     \u001b[38;5;28;01mreturn\u001b[39;00m \u001b[38;5;28;43mself\u001b[39;49m\u001b[43m.\u001b[49m\u001b[43m_acquire\u001b[49m\u001b[43m(\u001b[49m\u001b[43m)\u001b[49m\n",
      "\u001b[36mFile \u001b[39m\u001b[32mc:\\Users\\thais\\.virtualenvs\\climate\\Lib\\site-packages\\xarray\\backends\\netCDF4_.py:460\u001b[39m, in \u001b[36mNetCDF4DataStore._acquire\u001b[39m\u001b[34m(self, needs_lock)\u001b[39m\n\u001b[32m    459\u001b[39m \u001b[38;5;28;01mdef\u001b[39;00m\u001b[38;5;250m \u001b[39m\u001b[34m_acquire\u001b[39m(\u001b[38;5;28mself\u001b[39m, needs_lock=\u001b[38;5;28;01mTrue\u001b[39;00m):\n\u001b[32m--> \u001b[39m\u001b[32m460\u001b[39m \u001b[43m    \u001b[49m\u001b[38;5;28;43;01mwith\u001b[39;49;00m\u001b[43m \u001b[49m\u001b[38;5;28;43mself\u001b[39;49m\u001b[43m.\u001b[49m\u001b[43m_manager\u001b[49m\u001b[43m.\u001b[49m\u001b[43macquire_context\u001b[49m\u001b[43m(\u001b[49m\u001b[43mneeds_lock\u001b[49m\u001b[43m)\u001b[49m\u001b[43m \u001b[49m\u001b[38;5;28;43;01mas\u001b[39;49;00m\u001b[43m \u001b[49m\u001b[43mroot\u001b[49m\u001b[43m:\u001b[49m\n\u001b[32m    461\u001b[39m \u001b[43m        \u001b[49m\u001b[43mds\u001b[49m\u001b[43m \u001b[49m\u001b[43m=\u001b[49m\u001b[43m \u001b[49m\u001b[43m_nc4_require_group\u001b[49m\u001b[43m(\u001b[49m\u001b[43mroot\u001b[49m\u001b[43m,\u001b[49m\u001b[43m \u001b[49m\u001b[38;5;28;43mself\u001b[39;49m\u001b[43m.\u001b[49m\u001b[43m_group\u001b[49m\u001b[43m,\u001b[49m\u001b[43m \u001b[49m\u001b[38;5;28;43mself\u001b[39;49m\u001b[43m.\u001b[49m\u001b[43m_mode\u001b[49m\u001b[43m)\u001b[49m\n\u001b[32m    462\u001b[39m     \u001b[38;5;28;01mreturn\u001b[39;00m ds\n",
      "\u001b[36mFile \u001b[39m\u001b[32m~\\AppData\\Local\\Programs\\Python\\Python311\\Lib\\contextlib.py:137\u001b[39m, in \u001b[36m_GeneratorContextManager.__enter__\u001b[39m\u001b[34m(self)\u001b[39m\n\u001b[32m    135\u001b[39m \u001b[38;5;28;01mdel\u001b[39;00m \u001b[38;5;28mself\u001b[39m.args, \u001b[38;5;28mself\u001b[39m.kwds, \u001b[38;5;28mself\u001b[39m.func\n\u001b[32m    136\u001b[39m \u001b[38;5;28;01mtry\u001b[39;00m:\n\u001b[32m--> \u001b[39m\u001b[32m137\u001b[39m     \u001b[38;5;28;01mreturn\u001b[39;00m \u001b[38;5;28mnext\u001b[39m(\u001b[38;5;28mself\u001b[39m.gen)\n\u001b[32m    138\u001b[39m \u001b[38;5;28;01mexcept\u001b[39;00m \u001b[38;5;167;01mStopIteration\u001b[39;00m:\n\u001b[32m    139\u001b[39m     \u001b[38;5;28;01mraise\u001b[39;00m \u001b[38;5;167;01mRuntimeError\u001b[39;00m(\u001b[33m\"\u001b[39m\u001b[33mgenerator didn\u001b[39m\u001b[33m'\u001b[39m\u001b[33mt yield\u001b[39m\u001b[33m\"\u001b[39m) \u001b[38;5;28;01mfrom\u001b[39;00m\u001b[38;5;250m \u001b[39m\u001b[38;5;28;01mNone\u001b[39;00m\n",
      "\u001b[36mFile \u001b[39m\u001b[32mc:\\Users\\thais\\.virtualenvs\\climate\\Lib\\site-packages\\xarray\\backends\\file_manager.py:199\u001b[39m, in \u001b[36mCachingFileManager.acquire_context\u001b[39m\u001b[34m(self, needs_lock)\u001b[39m\n\u001b[32m    196\u001b[39m \u001b[38;5;129m@contextlib\u001b[39m.contextmanager\n\u001b[32m    197\u001b[39m \u001b[38;5;28;01mdef\u001b[39;00m\u001b[38;5;250m \u001b[39m\u001b[34macquire_context\u001b[39m(\u001b[38;5;28mself\u001b[39m, needs_lock=\u001b[38;5;28;01mTrue\u001b[39;00m):\n\u001b[32m    198\u001b[39m \u001b[38;5;250m    \u001b[39m\u001b[33;03m\"\"\"Context manager for acquiring a file.\"\"\"\u001b[39;00m\n\u001b[32m--> \u001b[39m\u001b[32m199\u001b[39m     file, cached = \u001b[38;5;28;43mself\u001b[39;49m\u001b[43m.\u001b[49m\u001b[43m_acquire_with_cache_info\u001b[49m\u001b[43m(\u001b[49m\u001b[43mneeds_lock\u001b[49m\u001b[43m)\u001b[49m\n\u001b[32m    200\u001b[39m     \u001b[38;5;28;01mtry\u001b[39;00m:\n\u001b[32m    201\u001b[39m         \u001b[38;5;28;01myield\u001b[39;00m file\n",
      "\u001b[36mFile \u001b[39m\u001b[32mc:\\Users\\thais\\.virtualenvs\\climate\\Lib\\site-packages\\xarray\\backends\\file_manager.py:217\u001b[39m, in \u001b[36mCachingFileManager._acquire_with_cache_info\u001b[39m\u001b[34m(self, needs_lock)\u001b[39m\n\u001b[32m    215\u001b[39m     kwargs = kwargs.copy()\n\u001b[32m    216\u001b[39m     kwargs[\u001b[33m\"\u001b[39m\u001b[33mmode\u001b[39m\u001b[33m\"\u001b[39m] = \u001b[38;5;28mself\u001b[39m._mode\n\u001b[32m--> \u001b[39m\u001b[32m217\u001b[39m file = \u001b[38;5;28;43mself\u001b[39;49m\u001b[43m.\u001b[49m\u001b[43m_opener\u001b[49m\u001b[43m(\u001b[49m\u001b[43m*\u001b[49m\u001b[38;5;28;43mself\u001b[39;49m\u001b[43m.\u001b[49m\u001b[43m_args\u001b[49m\u001b[43m,\u001b[49m\u001b[43m \u001b[49m\u001b[43m*\u001b[49m\u001b[43m*\u001b[49m\u001b[43mkwargs\u001b[49m\u001b[43m)\u001b[49m\n\u001b[32m    218\u001b[39m \u001b[38;5;28;01mif\u001b[39;00m \u001b[38;5;28mself\u001b[39m._mode == \u001b[33m\"\u001b[39m\u001b[33mw\u001b[39m\u001b[33m\"\u001b[39m:\n\u001b[32m    219\u001b[39m     \u001b[38;5;66;03m# ensure file doesn't get overridden when opened again\u001b[39;00m\n\u001b[32m    220\u001b[39m     \u001b[38;5;28mself\u001b[39m._mode = \u001b[33m\"\u001b[39m\u001b[33ma\u001b[39m\u001b[33m\"\u001b[39m\n",
      "\u001b[36mFile \u001b[39m\u001b[32msrc\\\\netCDF4\\\\_netCDF4.pyx:2521\u001b[39m, in \u001b[36mnetCDF4._netCDF4.Dataset.__init__\u001b[39m\u001b[34m()\u001b[39m\n",
      "\u001b[36mFile \u001b[39m\u001b[32msrc\\\\netCDF4\\\\_netCDF4.pyx:2158\u001b[39m, in \u001b[36mnetCDF4._netCDF4._ensure_nc_success\u001b[39m\u001b[34m()\u001b[39m\n",
      "\u001b[31mOSError\u001b[39m: [Errno -90] NetCDF: file not found: 'http://esgf3.dkrz.de/thredds/dodsC/cmip6/CMIP/EC-Earth-Consortium/EC-Earth3/historical/r110i1p1f1/Amon/tas/gr/v20200412/tas_Amon_EC-Earth3_historical_r110i1p1f1_gr_198001-198012.nc'"
     ]
    }
   ],
   "source": [
    "ds = xr.open_dataset(files[10].opendap_url, chunks={\"time\": 120})\n",
    "print(ds)"
   ]
  },
  {
   "cell_type": "code",
   "execution_count": null,
   "id": "fe27f396",
   "metadata": {},
   "outputs": [
    {
     "name": "stdout",
     "output_type": "stream",
     "text": [
      "\n",
      "Modelo: EC-Earth3\n",
      "  Experimento: ssp585 → Variáveis: ['pr', 'ps', 'tas', 'tasmax', 'tasmin', 'tos']\n",
      "\n",
      "Modelo: CanESM5\n",
      "  Experimento: ssp585 → Variáveis: ['pr', 'ps', 'tas', 'tasmax', 'tasmin', 'tos']\n",
      "\n",
      "Modelo: MPI-ESM1-2-LR\n",
      "  Experimento: ssp585 → Variáveis: ['pr', 'ps', 'tas', 'tasmax', 'tasmin', 'tos']\n"
     ]
    }
   ],
   "source": [
    "# Conexão ao ESGF LLNL\n",
    "conn = SearchConnection(\"https://esgf-node.llnl.gov/esg-search\", distrib=False)\n",
    "\n",
    "# Modelos e variáveis de interesse\n",
    "modelos = [\"EC-Earth3\", \"CanESM5\", \"MPI-ESM1-2-LR\"]\n",
    "variaveis = [\"tas\", \"tasmin\", \"tasmax\", \"tos\", \"ps\", \"pr\"]\n",
    "experimentos = [\"historical\", \"ssp245\", \"ssp585\"]\n",
    "\n",
    "# Dicionário para armazenar os resultados\n",
    "resultados = defaultdict(lambda: defaultdict(set))\n",
    "\n",
    "# Loop por variável e modelo\n",
    "for var in variaveis:\n",
    "    for modelo in modelos:\n",
    "        ctx = conn.new_context(\n",
    "            project=\"CMIP6\",\n",
    "            experiment_id=experimentos,\n",
    "            variable_id=var,\n",
    "            source_id=modelo,\n",
    "            frequency=\"mon\",\n",
    "            replica=False,\n",
    "            latest=True\n",
    "        )\n",
    "        results = list(ctx.search(ignore_facet_check=True))\n",
    "        for d in results:\n",
    "            experimento = d.json.get(\"experiment_id\", [None])[0]\n",
    "            if experimento:\n",
    "                resultados[modelo][experimento].add(var)\n",
    "\n",
    "# Exibição dos resultados\n",
    "for modelo, exps in resultados.items():\n",
    "    print(f\"\\nModelo: {modelo}\")\n",
    "    for exp, vars in exps.items():\n",
    "        print(f\"  Experimento: {exp} → Variáveis: {sorted(vars)}\")"
   ]
  }
 ],
 "metadata": {
  "kernelspec": {
   "display_name": "climate",
   "language": "python",
   "name": "python3"
  },
  "language_info": {
   "codemirror_mode": {
    "name": "ipython",
    "version": 3
   },
   "file_extension": ".py",
   "mimetype": "text/x-python",
   "name": "python",
   "nbconvert_exporter": "python",
   "pygments_lexer": "ipython3",
   "version": "3.11.2"
  }
 },
 "nbformat": 4,
 "nbformat_minor": 5
}
