{
 "cells": [
  {
   "cell_type": "code",
   "execution_count": 13,
   "id": "417447f3",
   "metadata": {},
   "outputs": [
    {
     "name": "stdout",
     "output_type": "stream",
     "text": [
      "Collecting esgf-pyclient==0.3.1\n",
      "  Downloading esgf-pyclient-0.3.1.tar.gz (23 kB)\n",
      "  Preparing metadata (setup.py): started\n",
      "  Preparing metadata (setup.py): finished with status 'done'\n",
      "Collecting defusedxml\n",
      "  Using cached defusedxml-0.7.1-py2.py3-none-any.whl (25 kB)\n",
      "Collecting jinja2\n",
      "  Downloading jinja2-3.1.6-py3-none-any.whl (134 kB)\n",
      "     -------------------------------------- 134.9/134.9 kB 4.0 MB/s eta 0:00:00\n",
      "Collecting requests\n",
      "  Downloading requests-2.32.4-py3-none-any.whl (64 kB)\n",
      "     ---------------------------------------- 64.8/64.8 kB 3.4 MB/s eta 0:00:00\n",
      "Collecting requests_cache\n",
      "  Downloading requests_cache-1.2.1-py3-none-any.whl (61 kB)\n",
      "     ---------------------------------------- 61.4/61.4 kB 3.2 MB/s eta 0:00:00\n",
      "Collecting webob\n",
      "  Downloading WebOb-1.8.9-py2.py3-none-any.whl (115 kB)\n",
      "     -------------------------------------- 115.4/115.4 kB 6.6 MB/s eta 0:00:00\n",
      "Collecting myproxyclient\n",
      "  Downloading MyProxyClient-2.1.1-py3-none-any.whl (45 kB)\n",
      "     ---------------------------------------- 45.4/45.4 kB ? eta 0:00:00\n",
      "Collecting MarkupSafe>=2.0\n",
      "  Downloading MarkupSafe-3.0.2-cp311-cp311-win_amd64.whl (15 kB)\n",
      "Collecting pyOpenSSL\n",
      "  Downloading pyopenssl-25.1.0-py3-none-any.whl (56 kB)\n",
      "     ---------------------------------------- 56.8/56.8 kB 2.9 MB/s eta 0:00:00\n",
      "Requirement already satisfied: six in c:\\users\\thais\\.virtualenvs\\climate\\lib\\site-packages (from myproxyclient->esgf-pyclient==0.3.1) (1.17.0)\n",
      "Collecting charset_normalizer<4,>=2\n",
      "  Downloading charset_normalizer-3.4.2-cp311-cp311-win_amd64.whl (105 kB)\n",
      "     ---------------------------------------- 105.4/105.4 kB ? eta 0:00:00\n",
      "Collecting idna<4,>=2.5\n",
      "  Using cached idna-3.10-py3-none-any.whl (70 kB)\n",
      "Collecting urllib3<3,>=1.21.1\n",
      "  Downloading urllib3-2.5.0-py3-none-any.whl (129 kB)\n",
      "     -------------------------------------- 129.8/129.8 kB 8.0 MB/s eta 0:00:00\n",
      "Collecting certifi>=2017.4.17\n",
      "  Downloading certifi-2025.7.14-py3-none-any.whl (162 kB)\n",
      "     ------------------------------------- 162.7/162.7 kB 10.2 MB/s eta 0:00:00\n",
      "Collecting attrs>=21.2\n",
      "  Using cached attrs-25.3.0-py3-none-any.whl (63 kB)\n",
      "Collecting cattrs>=22.2\n",
      "  Downloading cattrs-25.1.1-py3-none-any.whl (69 kB)\n",
      "     ---------------------------------------- 69.4/69.4 kB 3.7 MB/s eta 0:00:00\n",
      "Requirement already satisfied: platformdirs>=2.5 in c:\\users\\thais\\.virtualenvs\\climate\\lib\\site-packages (from requests_cache->esgf-pyclient==0.3.1) (4.3.8)\n",
      "Collecting url-normalize>=1.4\n",
      "  Downloading url_normalize-2.2.1-py3-none-any.whl (14 kB)\n",
      "Requirement already satisfied: typing-extensions>=4.12.2 in c:\\users\\thais\\.virtualenvs\\climate\\lib\\site-packages (from cattrs>=22.2->requests_cache->esgf-pyclient==0.3.1) (4.14.1)\n",
      "Collecting cryptography<46,>=41.0.5\n",
      "  Downloading cryptography-45.0.5-cp311-abi3-win_amd64.whl (3.4 MB)\n",
      "     ---------------------------------------- 3.4/3.4 MB 14.4 MB/s eta 0:00:00\n",
      "Collecting cffi>=1.14\n",
      "  Downloading cffi-1.17.1-cp311-cp311-win_amd64.whl (181 kB)\n",
      "     ------------------------------------- 181.4/181.4 kB 11.4 MB/s eta 0:00:00\n",
      "Collecting pycparser\n",
      "  Downloading pycparser-2.22-py3-none-any.whl (117 kB)\n",
      "     -------------------------------------- 117.6/117.6 kB 6.7 MB/s eta 0:00:00\n",
      "Installing collected packages: webob, urllib3, pycparser, MarkupSafe, idna, defusedxml, charset_normalizer, certifi, attrs, url-normalize, requests, jinja2, cffi, cattrs, requests_cache, cryptography, pyOpenSSL, myproxyclient, esgf-pyclient\n",
      "  Running setup.py install for esgf-pyclient: started\n",
      "  Running setup.py install for esgf-pyclient: finished with status 'done'\n",
      "Successfully installed MarkupSafe-3.0.2 attrs-25.3.0 cattrs-25.1.1 certifi-2025.7.14 cffi-1.17.1 charset_normalizer-3.4.2 cryptography-45.0.5 defusedxml-0.7.1 esgf-pyclient-0.3.1 idna-3.10 jinja2-3.1.6 myproxyclient-2.1.1 pyOpenSSL-25.1.0 pycparser-2.22 requests-2.32.4 requests_cache-1.2.1 url-normalize-2.2.1 urllib3-2.5.0 webob-1.8.9\n",
      "Note: you may need to restart the kernel to use updated packages.\n"
     ]
    },
    {
     "name": "stderr",
     "output_type": "stream",
     "text": [
      "  DEPRECATION: esgf-pyclient is being installed using the legacy 'setup.py install' method, because it does not have a 'pyproject.toml' and the 'wheel' package is not installed. pip 23.1 will enforce this behaviour change. A possible replacement is to enable the '--use-pep517' option. Discussion can be found at https://github.com/pypa/pip/issues/8559\n",
      "\n",
      "[notice] A new release of pip available: 22.3.1 -> 25.1.1\n",
      "[notice] To update, run: python.exe -m pip install --upgrade pip\n"
     ]
    }
   ],
   "source": [
    "%pip install esgf-pyclient==0.3.1"
   ]
  },
  {
   "cell_type": "markdown",
   "id": "14b8e4d6",
   "metadata": {},
   "source": [
    "### listagem de variáveis do CMPI6"
   ]
  },
  {
   "cell_type": "code",
   "execution_count": 1,
   "id": "72d61b66",
   "metadata": {},
   "outputs": [],
   "source": [
    "import sys\n",
    "\n",
    "# apontar para a versão local da lib\n",
    "sys.path.insert(0, './dreqPy')"
   ]
  },
  {
   "cell_type": "code",
   "execution_count": 2,
   "id": "d8765649",
   "metadata": {},
   "outputs": [],
   "source": [
    "from dreqPy import dreq"
   ]
  },
  {
   "cell_type": "code",
   "execution_count": 3,
   "id": "e470d134",
   "metadata": {},
   "outputs": [],
   "source": [
    "# inicializando a biblioteca\n",
    "dq = dreq.loadDreq()"
   ]
  },
  {
   "cell_type": "code",
   "execution_count": 4,
   "id": "9b8f1a26",
   "metadata": {},
   "outputs": [
    {
     "name": "stdout",
     "output_type": "stream",
     "text": [
      "bigthetao - Sea Water Conservative Temperature - sea_water_conservative_temperature\n",
      "bigthetaoga - Global Average Sea Water Conservative Temperature - sea_water_conservative_temperature\n",
      "edt - Eddy Diffusivity Coefficient for Temperature - atmosphere_heat_diffusivity\n",
      "hfevapds - Temperature Flux Due to Evaporation Expressed as Heat Flux out of Sea Water - temperature_flux_due_to_evaporation_expressed_as_heat_flux_out_of_sea_water\n",
      "hfrainds - Temperature Flux Due to Rainfall Expressed as Heat Flux into Sea Water - temperature_flux_due_to_rainfall_expressed_as_heat_flux_into_sea_water\n",
      "hfrunoffds - Temperature Flux Due to Runoff Expressed as Heat Flux into Sea Water - temperature_flux_due_to_runoff_expressed_as_heat_flux_into_sea_water\n",
      "litempbotfl - Basal Temperature of Floating Ice Shelf - land_ice_basal_temperature\n",
      "litempbotgr - Basal Temperature of Grounded Ice Sheet - land_ice_basal_temperature\n",
      "litemptop - Temperature at Top of Ice Sheet Model - temperature_at_top_of_ice_sheet_model\n",
      "litemptopIs - Ice Sheet Temperature at Top of Ice Sheet Model - temperature_at_top_of_ice_sheet_model\n",
      "ocontempdiff - Tendency of Sea Water Conservative Temperature Expressed as Heat Content Due to Parameterized Dianeutral Mixing - tendency_of_sea_water_conservative_temperature_expressed_as_heat_content_due_to_parameterized_dianeutral_mixing\n",
      "ocontempmint - Depth Integral of Product of Sea Water Density and Conservative Temperature - integral_wrt_depth_of_product_of_conservative_temperature_and_sea_water_density\n",
      "ocontemppadvect - Tendency of Sea Water Conservative Temperature Expressed as Heat Content Due to Parameterized Eddy Advection - tendency_of_sea_water_conservative_temperature_expressed_as_heat_content_due_to_parameterized_eddy_advection\n",
      "ocontemppmdiff - Tendency of Sea Water Conservative Temperature Expressed as Heat Content Due to Parameterized Mesoscale Diffusion - tendency_of_sea_water_conservative_temperature_expressed_as_heat_content_due_to_parameterized_mesoscale_eddy_diffusion\n",
      "ocontemppsmadvect - Tendency of Sea Water Conservative Temperature Expressed as Heat Content Due to Parameterized Submesoscale Advection - tendency_of_sea_water_conservative_temperature_expressed_as_heat_content_due_to_parameterized_submesoscale_eddy_advection\n",
      "ocontemprmadvect - Tendency of Sea Water Conservative Temperature Expressed as Heat Content Due to Residual Mean Advection - tendency_of_sea_water_conservative_temperature_expressed_as_heat_content_due_to_residual_mean_advection\n",
      "ocontemptend - Tendency of Sea Water Conservative Temperature Expressed as Heat Content - tendency_of_sea_water_conservative_temperature_expressed_as_heat_content\n",
      "opottempdiff - Tendency of Sea Water Potential Temperature Expressed as Heat Content Due to Parameterized Dianeutral Mixing - tendency_of_sea_water_potential_temperature_expressed_as_heat_content_due_to_parameterized_dianeutral_mixing\n",
      "opottempmint - Integral with Respect to Depth of Product of Sea Water Density and Potential Temperature - integral_wrt_depth_of_product_of_potential_temperature_and_sea_water_density\n",
      "opottemppadvect - Tendency of Sea Water Potential Temperature Expressed as Heat Content Due to Parameterized Eddy Advection - tendency_of_sea_water_potential_temperature_expressed_as_heat_content_due_to_parameterized_eddy_advection\n",
      "opottemppmdiff - Tendency of Sea Water Potential Temperature Expressed as Heat Content Due to Parameterized Mesoscale Diffusion - tendency_of_sea_water_potential_temperature_expressed_as_heat_content_due_to_parameterized_mesoscale_eddy_diffusion\n",
      "opottemppsmadvect - Tendency of Sea Water Potential Temperature Expressed as Heat Content Due to Parameterized Submesoscale Advection - tendency_of_sea_water_potential_temperature_expressed_as_heat_content_due_to_parameterized_submesoscale_eddy_advection\n",
      "opottemprmadvect - Tendency of Sea Water Potential Temperature Expressed as Heat Content Due to Residual Mean Advection - tendency_of_sea_water_potential_temperature_expressed_as_heat_content_due_to_residual_mean_advection\n",
      "opottemptend - Tendency of Sea Water Potential Temperature Expressed as Heat Content - tendency_of_sea_water_potential_temperature_expressed_as_heat_content\n",
      "pabigthetao - Sea Water Added Conservative Temperature - sea_water_added_conservative_temperature\n",
      "pathetao - Sea Water Additional Potential Temperature - sea_water_added_potential_temperature\n",
      "prbigthetao - Sea Water Redistributed Conservative Temperature - sea_water_redistributed_conservative_temperature\n",
      "prthetao - Sea Water Redistributed Potential Temperature - sea_water_redistributed_potential_temperature\n",
      "sitempbot - Temperature at Ice-Ocean Interface - sea_ice_basal_temperature\n",
      "sitempsnic - Temperature at Snow-Ice Interface - sea_ice_surface_temperature\n",
      "sitemptop - Surface Temperature of Sea Ice - sea_ice_surface_temperature\n",
      "t2 - Mean-Squared Air Temperature - square_of_air_temperature\n",
      "ta - Air Temperature - air_temperature\n",
      "ta500 - Air Temperature - air_temperature\n",
      "ta700 - Air Temperature - air_temperature\n",
      "ta850 - Air Temperature - air_temperature\n",
      "tas - Near-Surface Air Temperature - air_temperature\n",
      "tasIs - Ice Sheet Near-Surface Air Temperature - air_temperature\n",
      "tasLut - Near-Surface Air Temperature on Land Use Tile - air_temperature\n",
      "tasmax - Daily Maximum Near-Surface Air Temperature - air_temperature\n",
      "tasmaxCrop - Daily Maximum Near-Surface Air Temperature over Crop Tile - air_temperature\n",
      "tasmin - Daily Minimum Near-Surface Air Temperature - air_temperature\n",
      "tasminCrop - Daily Minimum Near-Surface Air Temperature over Crop Tile - air_temperature\n",
      "tatp - Tropopause Air Temperature - tropopause_air_temperature\n",
      "tcs - Vegetation Canopy Temperature - canopy_temperature\n",
      "tdps - 2m Dewpoint Temperature - dew_point_temperature\n",
      "tgs - Temperature of Bare Soil - surface_temperature\n",
      "thetao - Sea Water Potential Temperature - sea_water_potential_temperature\n",
      "thetaoga - Global Average Sea Water Potential Temperature - sea_water_potential_temperature\n",
      "thetaot - Vertically Averaged Sea Water Potential Temperature - sea_water_potential_temperature\n",
      "thetaot2000 - Depth Average Potential Temperature of Upper 2000m - sea_water_potential_temperature\n",
      "thetaot300 - Depth Average Potential Temperature of Upper 300m - sea_water_potential_temperature\n",
      "thetaot700 - Depth Average Potential Temperature of Upper 700m - sea_water_potential_temperature\n",
      "tnt - Tendency of Air Temperature - tendency_of_air_temperature\n",
      "tnta - Tendency of Air Temperature Due to Advection - tendency_of_air_temperature_due_to_advection\n",
      "tntc - Tendency of Air Temperature Due to Convection - tendency_of_air_temperature_due_to_convection\n",
      "tntd - Tendency of Air Temperature Due to Numerical Diffusion - tendency_of_air_temperature_due_to_diffusion\n",
      "tntmp - Tendency of Air Temperature Due to Model Physics - tendency_of_air_temperature_due_to_model_physics\n",
      "tntnogw - Temperature Tendency Due to Non-Orographic Gravity Wave Dissipation - tendency_of_air_temperature_due_to_dissipation_of_nonorographic_gravity_waves\n",
      "tntogw - Temperature Tendency Due to Orographic Gravity Wave Dissipation - tendency_of_air_temperature_due_to_dissipation_of_orographic_gravity_waves\n",
      "tntpbl - Tendency of Air Temperature Due to Boundary Layer Mixing - tendency_of_air_temperature_due_to_boundary_layer_mixing\n",
      "tntr - Tendency of Air Temperature Due to Radiative Heating - tendency_of_air_temperature_due_to_radiative_heating\n",
      "tntrl - Tendency of Air Temperature Due to Longwave Radiative Heating - tendency_of_air_temperature_due_to_longwave_heating\n",
      "tntrlcs - Tendency of Air Temperature Due to Clear Sky Longwave Radiative Heating - tendency_of_air_temperature_due_to_longwave_heating_assuming_clear_sky\n",
      "tntrs - Tendency of Air Temperature Due to Shortwave Radiative Heating - tendency_of_air_temperature_due_to_shortwave_heating\n",
      "tntrscs - Tendency of Air Temperature Due to Clear Sky Shortwave Radiative Heating - tendency_of_air_temperature_due_to_shortwave_heating_assuming_clear_sky\n",
      "tntscp - Tendency of Air Temperature Due to Stratiform Clouds and Precipitation - tendency_of_air_temperature_due_to_stratiform_cloud_and_precipitation\n",
      "tntscpbl - Tendency of Air Temperature Due to Stratiform Cloud and Precipitation and Boundary Layer Mixing - tendency_of_air_temperature_due_to_stratiform_cloud_and_precipitation_and_boundary_layer_mixing\n",
      "tob - Sea Water Potential Temperature at Sea Floor - sea_water_potential_temperature_at_sea_floor\n",
      "tos - Sea Surface Temperature - sea_surface_temperature\n",
      "tosga - Global Average Sea Surface Temperature - sea_surface_temperature\n",
      "tossq - Square of Sea Surface Temperature - square_of_sea_surface_temperature\n",
      "tr - Surface Radiative Temperature - surface_temperature\n",
      "ts - Surface Temperature - surface_temperature\n",
      "tsIs - Ice Sheet Surface Temperature - surface_temperature\n",
      "tsl - Temperature of Soil - soil_temperature\n",
      "tsland - Land Surface Temperature - surface_temperature\n",
      "tslsi - Surface Temperature Where Land or Sea Ice - surface_temperature\n",
      "tslsiLut - Surface Temperature on Landuse Tile - surface_temperature\n",
      "tsn - Snow Internal Temperature - temperature_in_surface_snow\n",
      "tsnIs - Ice Sheet Snow Internal Temperature - temperature_in_surface_snow\n",
      "tsnl - Temperature Profile in the Snow - temperature_in_surface_snow\n",
      "tsns - Snow Surface Temperature - surface_temperature\n",
      "ttop - Air Temperature at Cloud Top - air_temperature_at_cloud_top\n",
      "twap - Product of Air Temperature and Omega - product_of_lagrangian_tendency_of_air_pressure_and_air_temperature\n",
      "ut - Product of Air Temperature and Eastward Wind - product_of_eastward_wind_and_air_temperature\n",
      "vt - Product of Air Temperature and Northward Wind - product_of_northward_wind_and_air_temperature\n",
      "vt100 - Northward Eddy Temperature Flux - covariance_over_longitude_of_northward_wind_and_air_temperature\n",
      "wbptemp - Wet Bulb Potential Temperature - wet_bulb_potential_temperature\n"
     ]
    }
   ],
   "source": [
    "# listando variáveis relacionadas à temperatura\n",
    "temperature_vars = [var for var in dq.coll[\"var\"].items if \"temperature\" in var.title.lower()]\n",
    "\n",
    "for v in temperature_vars:\n",
    "    print(v.label, \"-\", v.title, \"-\", v.sn)"
   ]
  },
  {
   "cell_type": "markdown",
   "id": "af37f7ee",
   "metadata": {},
   "source": [
    "### acesso ao ESGF"
   ]
  },
  {
   "cell_type": "code",
   "execution_count": 56,
   "id": "aa902bde",
   "metadata": {},
   "outputs": [],
   "source": [
    "from collections import Counter, defaultdict\n",
    "import logging\n",
    "from pyesgf.search import SearchConnection"
   ]
  },
  {
   "cell_type": "code",
   "execution_count": 6,
   "id": "909dce00",
   "metadata": {},
   "outputs": [],
   "source": [
    "logging.getLogger('pyesgf.search').setLevel(logging.ERROR)"
   ]
  },
  {
   "cell_type": "code",
   "execution_count": 40,
   "id": "871952c9",
   "metadata": {},
   "outputs": [],
   "source": [
    "# variáveis relevantes de acordo com GCOS\n",
    "variaveis = [\"tas\", \"tasmax\", \"tasmin\", \"ps\", \"pr\", \"hur\", \"rsds\", \"rlut\", \"uas\", \"vas\", \"tos\", \"sos\", \"sic\"]"
   ]
  },
  {
   "cell_type": "code",
   "execution_count": 55,
   "id": "71fe164b",
   "metadata": {},
   "outputs": [
    {
     "name": "stdout",
     "output_type": "stream",
     "text": [
      "Counter()\n"
     ]
    },
    {
     "data": {
      "text/plain": [
       "'\\nmapping = {}\\n\\nfor d in ctx.search(ignore_facet_check=True):\\n    models = [d.json.get(\"source_id\", [None])[0] for d in ctx.search(ignore_facet_check=True)]\\n    print(Counter(models))\\n\\n    model = d.json.get(\"source_id\", [None])[0]\\n    experiment = d.json.get(\"experiment_id\", [None])[0]\\n    variable = d.json.get(\"variable_id\", [None])[0]\\n\\n    if model and experiment and variable:\\n        mapping.setdefault(model, {}).setdefault(experiment, set()).add(variable)\\n\\n# Exibir resultados\\nfor model, exps in mapping.items():\\n    print(f\"\\nModelo: {model}\")\\n    for exp, vars in exps.items():\\n        print(f\"  Experimento: {exp} → Variáveis: {sorted(vars)}\")'"
      ]
     },
     "execution_count": 55,
     "metadata": {},
     "output_type": "execute_result"
    }
   ],
   "source": [
    "conn = SearchConnection(\"https://esgf-node.llnl.gov/esg-search\", distrib=False)   # distrib = False —> força a busca apenas no LLNL, que costuma estar mais estável\n",
    "\n",
    "ctx = conn.new_context(\n",
    "    project=\"CMIP6\",\n",
    "    experiment_id=[\"historical\", \"ssp245\", \"ssp585\"],\n",
    "    variable_id=variaveis,\n",
    "    frequency=[\"mon\"],\n",
    "    #member_id=\"r1i1p1f1\",\n",
    "    #grid_label=\"gn\",\n",
    "    replica=False,\n",
    "    latest=True\n",
    ")\n",
    "\n",
    "# armazenando os resultados\n",
    "results = list(ctx.search(ignore_facet_check=True))\n",
    "\n",
    "# extraindo os modelos (source_id)\n",
    "models = [d.json.get(\"source_id\", [None])[0] for d in results if \"source_id\" in d.json]\n",
    "\n",
    "# frequência de cada modelo\n",
    "print(Counter(models))\n",
    "\n",
    "\"\"\"\n",
    "mapping = {}\n",
    "\n",
    "for d in ctx.search(ignore_facet_check=True):\n",
    "    models = [d.json.get(\"source_id\", [None])[0] for d in ctx.search(ignore_facet_check=True)]\n",
    "    print(Counter(models))\n",
    "\n",
    "    model = d.json.get(\"source_id\", [None])[0]\n",
    "    experiment = d.json.get(\"experiment_id\", [None])[0]\n",
    "    variable = d.json.get(\"variable_id\", [None])[0]\n",
    "    \n",
    "    if model and experiment and variable:\n",
    "        mapping.setdefault(model, {}).setdefault(experiment, set()).add(variable)\n",
    "\n",
    "# Exibir resultados\n",
    "for model, exps in mapping.items():\n",
    "    print(f\"\\nModelo: {model}\")\n",
    "    for exp, vars in exps.items():\n",
    "        print(f\"  Experimento: {exp} → Variáveis: {sorted(vars)}\")\"\"\""
   ]
  },
  {
   "cell_type": "code",
   "execution_count": 57,
   "id": "b6d59ca3",
   "metadata": {},
   "outputs": [
    {
     "ename": "KeyboardInterrupt",
     "evalue": "",
     "output_type": "error",
     "traceback": [
      "\u001b[31m---------------------------------------------------------------------------\u001b[39m",
      "\u001b[31mKeyboardInterrupt\u001b[39m                         Traceback (most recent call last)",
      "\u001b[36mCell\u001b[39m\u001b[36m \u001b[39m\u001b[32mIn[57]\u001b[39m\u001b[32m, line 16\u001b[39m\n\u001b[32m      6\u001b[39m \u001b[38;5;28;01mfor\u001b[39;00m var \u001b[38;5;129;01min\u001b[39;00m variaveis:\n\u001b[32m      7\u001b[39m     ctx = conn.new_context(\n\u001b[32m      8\u001b[39m         project=\u001b[33m\"\u001b[39m\u001b[33mCMIP6\u001b[39m\u001b[33m\"\u001b[39m,\n\u001b[32m      9\u001b[39m         experiment_id=[\u001b[33m\"\u001b[39m\u001b[33mhistorical\u001b[39m\u001b[33m\"\u001b[39m, \u001b[33m\"\u001b[39m\u001b[33mssp245\u001b[39m\u001b[33m\"\u001b[39m, \u001b[33m\"\u001b[39m\u001b[33mssp585\u001b[39m\u001b[33m\"\u001b[39m],\n\u001b[32m   (...)\u001b[39m\u001b[32m     13\u001b[39m         latest=\u001b[38;5;28;01mTrue\u001b[39;00m\n\u001b[32m     14\u001b[39m     )\n\u001b[32m---> \u001b[39m\u001b[32m16\u001b[39m     results = \u001b[38;5;28mlist\u001b[39m(ctx.search(ignore_facet_check=\u001b[38;5;28;01mTrue\u001b[39;00m))\n\u001b[32m     17\u001b[39m     \u001b[38;5;28;01mfor\u001b[39;00m d \u001b[38;5;129;01min\u001b[39;00m results:\n\u001b[32m     18\u001b[39m         modelo = d.json.get(\u001b[33m\"\u001b[39m\u001b[33msource_id\u001b[39m\u001b[33m\"\u001b[39m, [\u001b[38;5;28;01mNone\u001b[39;00m])[\u001b[32m0\u001b[39m]\n",
      "\u001b[36mFile \u001b[39m\u001b[32m<frozen _collections_abc>:993\u001b[39m, in \u001b[36m__iter__\u001b[39m\u001b[34m(self)\u001b[39m\n",
      "\u001b[36mFile \u001b[39m\u001b[32mc:\\Users\\thais\\.virtualenvs\\climate\\Lib\\site-packages\\pyesgf\\search\\results.py:47\u001b[39m, in \u001b[36mResultSet.__getitem__\u001b[39m\u001b[34m(self, index)\u001b[39m\n\u001b[32m     45\u001b[39m batch_i = index // \u001b[38;5;28mself\u001b[39m.batch_size\n\u001b[32m     46\u001b[39m offset = index % \u001b[38;5;28mself\u001b[39m.batch_size\n\u001b[32m---> \u001b[39m\u001b[32m47\u001b[39m batch = \u001b[38;5;28;43mself\u001b[39;49m\u001b[43m.\u001b[49m\u001b[43m__get_batch\u001b[49m\u001b[43m(\u001b[49m\u001b[43mbatch_i\u001b[49m\u001b[43m)\u001b[49m\n\u001b[32m     49\u001b[39m search_type = \u001b[38;5;28mself\u001b[39m.context.search_type\n\u001b[32m     50\u001b[39m ResultClass = _result_classes[search_type]\n",
      "\u001b[36mFile \u001b[39m\u001b[32mc:\\Users\\thais\\.virtualenvs\\climate\\Lib\\site-packages\\pyesgf\\search\\results.py:83\u001b[39m, in \u001b[36mResultSet.__get_batch\u001b[39m\u001b[34m(self, batch_i)\u001b[39m\n\u001b[32m     79\u001b[39m limit = \u001b[38;5;28mself\u001b[39m.batch_size\n\u001b[32m     81\u001b[39m query_dict = \u001b[38;5;28mself\u001b[39m.context._build_query()\n\u001b[32m     82\u001b[39m response = (\u001b[38;5;28;43mself\u001b[39;49m\u001b[43m.\u001b[49m\u001b[43mcontext\u001b[49m\u001b[43m.\u001b[49m\u001b[43mconnection\u001b[49m\n\u001b[32m---> \u001b[39m\u001b[32m83\u001b[39m \u001b[43m            \u001b[49m\u001b[43m.\u001b[49m\u001b[43msend_search\u001b[49m\u001b[43m(\u001b[49m\u001b[43mquery_dict\u001b[49m\u001b[43m,\u001b[49m\u001b[43m \u001b[49m\u001b[43mlimit\u001b[49m\u001b[43m=\u001b[49m\u001b[43mlimit\u001b[49m\u001b[43m,\u001b[49m\u001b[43m \u001b[49m\u001b[43moffset\u001b[49m\u001b[43m=\u001b[49m\u001b[43moffset\u001b[49m\u001b[43m,\u001b[49m\n\u001b[32m     84\u001b[39m \u001b[43m                         \u001b[49m\u001b[43mshards\u001b[49m\u001b[43m=\u001b[49m\u001b[38;5;28;43mself\u001b[39;49m\u001b[43m.\u001b[49m\u001b[43mcontext\u001b[49m\u001b[43m.\u001b[49m\u001b[43mshards\u001b[49m\u001b[43m)\u001b[49m)\n\u001b[32m     86\u001b[39m \u001b[38;5;28;01mif\u001b[39;00m \u001b[38;5;28mself\u001b[39m.__len_cache \u001b[38;5;129;01mis\u001b[39;00m \u001b[38;5;28;01mNone\u001b[39;00m:\n\u001b[32m     87\u001b[39m     \u001b[38;5;28mself\u001b[39m.__len_cache = response[\u001b[33m'\u001b[39m\u001b[33mresponse\u001b[39m\u001b[33m'\u001b[39m][\u001b[33m'\u001b[39m\u001b[33mnumFound\u001b[39m\u001b[33m'\u001b[39m]\n",
      "\u001b[36mFile \u001b[39m\u001b[32mc:\\Users\\thais\\.virtualenvs\\climate\\Lib\\site-packages\\pyesgf\\search\\connection.py:159\u001b[39m, in \u001b[36mSearchConnection.send_search\u001b[39m\u001b[34m(self, query_dict, limit, offset, shards)\u001b[39m\n\u001b[32m    157\u001b[39m \u001b[38;5;28;01mif\u001b[39;00m \u001b[38;5;129;01mnot\u001b[39;00m \u001b[38;5;28mself\u001b[39m._isopen:\n\u001b[32m    158\u001b[39m     \u001b[38;5;28mself\u001b[39m.open()\n\u001b[32m--> \u001b[39m\u001b[32m159\u001b[39m response = \u001b[38;5;28;43mself\u001b[39;49m\u001b[43m.\u001b[49m\u001b[43m_send_query\u001b[49m\u001b[43m(\u001b[49m\u001b[33;43m'\u001b[39;49m\u001b[33;43msearch\u001b[39;49m\u001b[33;43m'\u001b[39;49m\u001b[43m,\u001b[49m\u001b[43m \u001b[49m\u001b[43mfull_query\u001b[49m\u001b[43m)\u001b[49m\n\u001b[32m    160\u001b[39m ret = response.json()\n\u001b[32m    161\u001b[39m response.close()\n",
      "\u001b[36mFile \u001b[39m\u001b[32mc:\\Users\\thais\\.virtualenvs\\climate\\Lib\\site-packages\\pyesgf\\search\\connection.py:203\u001b[39m, in \u001b[36mSearchConnection._send_query\u001b[39m\u001b[34m(self, endpoint, full_query)\u001b[39m\n\u001b[32m    200\u001b[39m query_url = \u001b[33m'\u001b[39m\u001b[38;5;132;01m%s\u001b[39;00m\u001b[33m/\u001b[39m\u001b[38;5;132;01m%s\u001b[39;00m\u001b[33m?\u001b[39m\u001b[38;5;132;01m%s\u001b[39;00m\u001b[33m'\u001b[39m % (\u001b[38;5;28mself\u001b[39m.url, endpoint, urlencode(full_query))\n\u001b[32m    201\u001b[39m log.debug(\u001b[33m'\u001b[39m\u001b[33mQuery request is \u001b[39m\u001b[38;5;132;01m%s\u001b[39;00m\u001b[33m'\u001b[39m % query_url)\n\u001b[32m--> \u001b[39m\u001b[32m203\u001b[39m response = \u001b[38;5;28;43mself\u001b[39;49m\u001b[43m.\u001b[49m\u001b[43msession\u001b[49m\u001b[43m.\u001b[49m\u001b[43mget\u001b[49m\u001b[43m(\u001b[49m\u001b[43mquery_url\u001b[49m\u001b[43m,\u001b[49m\u001b[43m \u001b[49m\u001b[43mverify\u001b[49m\u001b[43m=\u001b[49m\u001b[38;5;28;43mself\u001b[39;49m\u001b[43m.\u001b[49m\u001b[43mverify\u001b[49m\u001b[43m,\u001b[49m\n\u001b[32m    204\u001b[39m \u001b[43m                            \u001b[49m\u001b[43mtimeout\u001b[49m\u001b[43m=\u001b[49m\u001b[38;5;28;43mself\u001b[39;49m\u001b[43m.\u001b[49m\u001b[43mtimeout\u001b[49m\u001b[43m)\u001b[49m\n\u001b[32m    205\u001b[39m \u001b[38;5;28;01mif\u001b[39;00m response.status_code == \u001b[32m400\u001b[39m:\n\u001b[32m    206\u001b[39m     \u001b[38;5;66;03m# If error code 400, use urllib to find the errors:\u001b[39;00m\n\u001b[32m    207\u001b[39m     errors = \u001b[38;5;28mset\u001b[39m(re.findall(\u001b[33mr\u001b[39m\u001b[33m\"\u001b[39m\u001b[33mInvalid HTTP query parameter=(\u001b[39m\u001b[33m\\\u001b[39m\u001b[33mw+)\u001b[39m\u001b[33m\"\u001b[39m,\n\u001b[32m    208\u001b[39m                  response.text))\n",
      "\u001b[36mFile \u001b[39m\u001b[32mc:\\Users\\thais\\.virtualenvs\\climate\\Lib\\site-packages\\requests\\sessions.py:602\u001b[39m, in \u001b[36mSession.get\u001b[39m\u001b[34m(self, url, **kwargs)\u001b[39m\n\u001b[32m    594\u001b[39m \u001b[38;5;250m\u001b[39m\u001b[33mr\u001b[39m\u001b[33;03m\"\"\"Sends a GET request. Returns :class:`Response` object.\u001b[39;00m\n\u001b[32m    595\u001b[39m \n\u001b[32m    596\u001b[39m \u001b[33;03m:param url: URL for the new :class:`Request` object.\u001b[39;00m\n\u001b[32m    597\u001b[39m \u001b[33;03m:param \\*\\*kwargs: Optional arguments that ``request`` takes.\u001b[39;00m\n\u001b[32m    598\u001b[39m \u001b[33;03m:rtype: requests.Response\u001b[39;00m\n\u001b[32m    599\u001b[39m \u001b[33;03m\"\"\"\u001b[39;00m\n\u001b[32m    601\u001b[39m kwargs.setdefault(\u001b[33m\"\u001b[39m\u001b[33mallow_redirects\u001b[39m\u001b[33m\"\u001b[39m, \u001b[38;5;28;01mTrue\u001b[39;00m)\n\u001b[32m--> \u001b[39m\u001b[32m602\u001b[39m \u001b[38;5;28;01mreturn\u001b[39;00m \u001b[38;5;28;43mself\u001b[39;49m\u001b[43m.\u001b[49m\u001b[43mrequest\u001b[49m\u001b[43m(\u001b[49m\u001b[33;43m\"\u001b[39;49m\u001b[33;43mGET\u001b[39;49m\u001b[33;43m\"\u001b[39;49m\u001b[43m,\u001b[49m\u001b[43m \u001b[49m\u001b[43murl\u001b[49m\u001b[43m,\u001b[49m\u001b[43m \u001b[49m\u001b[43m*\u001b[49m\u001b[43m*\u001b[49m\u001b[43mkwargs\u001b[49m\u001b[43m)\u001b[49m\n",
      "\u001b[36mFile \u001b[39m\u001b[32mc:\\Users\\thais\\.virtualenvs\\climate\\Lib\\site-packages\\requests\\sessions.py:589\u001b[39m, in \u001b[36mSession.request\u001b[39m\u001b[34m(self, method, url, params, data, headers, cookies, files, auth, timeout, allow_redirects, proxies, hooks, stream, verify, cert, json)\u001b[39m\n\u001b[32m    584\u001b[39m send_kwargs = {\n\u001b[32m    585\u001b[39m     \u001b[33m\"\u001b[39m\u001b[33mtimeout\u001b[39m\u001b[33m\"\u001b[39m: timeout,\n\u001b[32m    586\u001b[39m     \u001b[33m\"\u001b[39m\u001b[33mallow_redirects\u001b[39m\u001b[33m\"\u001b[39m: allow_redirects,\n\u001b[32m    587\u001b[39m }\n\u001b[32m    588\u001b[39m send_kwargs.update(settings)\n\u001b[32m--> \u001b[39m\u001b[32m589\u001b[39m resp = \u001b[38;5;28;43mself\u001b[39;49m\u001b[43m.\u001b[49m\u001b[43msend\u001b[49m\u001b[43m(\u001b[49m\u001b[43mprep\u001b[49m\u001b[43m,\u001b[49m\u001b[43m \u001b[49m\u001b[43m*\u001b[49m\u001b[43m*\u001b[49m\u001b[43msend_kwargs\u001b[49m\u001b[43m)\u001b[49m\n\u001b[32m    591\u001b[39m \u001b[38;5;28;01mreturn\u001b[39;00m resp\n",
      "\u001b[36mFile \u001b[39m\u001b[32mc:\\Users\\thais\\.virtualenvs\\climate\\Lib\\site-packages\\requests\\sessions.py:703\u001b[39m, in \u001b[36mSession.send\u001b[39m\u001b[34m(self, request, **kwargs)\u001b[39m\n\u001b[32m    700\u001b[39m start = preferred_clock()\n\u001b[32m    702\u001b[39m \u001b[38;5;66;03m# Send the request\u001b[39;00m\n\u001b[32m--> \u001b[39m\u001b[32m703\u001b[39m r = \u001b[43madapter\u001b[49m\u001b[43m.\u001b[49m\u001b[43msend\u001b[49m\u001b[43m(\u001b[49m\u001b[43mrequest\u001b[49m\u001b[43m,\u001b[49m\u001b[43m \u001b[49m\u001b[43m*\u001b[49m\u001b[43m*\u001b[49m\u001b[43mkwargs\u001b[49m\u001b[43m)\u001b[49m\n\u001b[32m    705\u001b[39m \u001b[38;5;66;03m# Total elapsed time of the request (approximately)\u001b[39;00m\n\u001b[32m    706\u001b[39m elapsed = preferred_clock() - start\n",
      "\u001b[36mFile \u001b[39m\u001b[32mc:\\Users\\thais\\.virtualenvs\\climate\\Lib\\site-packages\\requests\\adapters.py:667\u001b[39m, in \u001b[36mHTTPAdapter.send\u001b[39m\u001b[34m(self, request, stream, timeout, verify, cert, proxies)\u001b[39m\n\u001b[32m    664\u001b[39m     timeout = TimeoutSauce(connect=timeout, read=timeout)\n\u001b[32m    666\u001b[39m \u001b[38;5;28;01mtry\u001b[39;00m:\n\u001b[32m--> \u001b[39m\u001b[32m667\u001b[39m     resp = \u001b[43mconn\u001b[49m\u001b[43m.\u001b[49m\u001b[43murlopen\u001b[49m\u001b[43m(\u001b[49m\n\u001b[32m    668\u001b[39m \u001b[43m        \u001b[49m\u001b[43mmethod\u001b[49m\u001b[43m=\u001b[49m\u001b[43mrequest\u001b[49m\u001b[43m.\u001b[49m\u001b[43mmethod\u001b[49m\u001b[43m,\u001b[49m\n\u001b[32m    669\u001b[39m \u001b[43m        \u001b[49m\u001b[43murl\u001b[49m\u001b[43m=\u001b[49m\u001b[43murl\u001b[49m\u001b[43m,\u001b[49m\n\u001b[32m    670\u001b[39m \u001b[43m        \u001b[49m\u001b[43mbody\u001b[49m\u001b[43m=\u001b[49m\u001b[43mrequest\u001b[49m\u001b[43m.\u001b[49m\u001b[43mbody\u001b[49m\u001b[43m,\u001b[49m\n\u001b[32m    671\u001b[39m \u001b[43m        \u001b[49m\u001b[43mheaders\u001b[49m\u001b[43m=\u001b[49m\u001b[43mrequest\u001b[49m\u001b[43m.\u001b[49m\u001b[43mheaders\u001b[49m\u001b[43m,\u001b[49m\n\u001b[32m    672\u001b[39m \u001b[43m        \u001b[49m\u001b[43mredirect\u001b[49m\u001b[43m=\u001b[49m\u001b[38;5;28;43;01mFalse\u001b[39;49;00m\u001b[43m,\u001b[49m\n\u001b[32m    673\u001b[39m \u001b[43m        \u001b[49m\u001b[43massert_same_host\u001b[49m\u001b[43m=\u001b[49m\u001b[38;5;28;43;01mFalse\u001b[39;49;00m\u001b[43m,\u001b[49m\n\u001b[32m    674\u001b[39m \u001b[43m        \u001b[49m\u001b[43mpreload_content\u001b[49m\u001b[43m=\u001b[49m\u001b[38;5;28;43;01mFalse\u001b[39;49;00m\u001b[43m,\u001b[49m\n\u001b[32m    675\u001b[39m \u001b[43m        \u001b[49m\u001b[43mdecode_content\u001b[49m\u001b[43m=\u001b[49m\u001b[38;5;28;43;01mFalse\u001b[39;49;00m\u001b[43m,\u001b[49m\n\u001b[32m    676\u001b[39m \u001b[43m        \u001b[49m\u001b[43mretries\u001b[49m\u001b[43m=\u001b[49m\u001b[38;5;28;43mself\u001b[39;49m\u001b[43m.\u001b[49m\u001b[43mmax_retries\u001b[49m\u001b[43m,\u001b[49m\n\u001b[32m    677\u001b[39m \u001b[43m        \u001b[49m\u001b[43mtimeout\u001b[49m\u001b[43m=\u001b[49m\u001b[43mtimeout\u001b[49m\u001b[43m,\u001b[49m\n\u001b[32m    678\u001b[39m \u001b[43m        \u001b[49m\u001b[43mchunked\u001b[49m\u001b[43m=\u001b[49m\u001b[43mchunked\u001b[49m\u001b[43m,\u001b[49m\n\u001b[32m    679\u001b[39m \u001b[43m    \u001b[49m\u001b[43m)\u001b[49m\n\u001b[32m    681\u001b[39m \u001b[38;5;28;01mexcept\u001b[39;00m (ProtocolError, \u001b[38;5;167;01mOSError\u001b[39;00m) \u001b[38;5;28;01mas\u001b[39;00m err:\n\u001b[32m    682\u001b[39m     \u001b[38;5;28;01mraise\u001b[39;00m \u001b[38;5;167;01mConnectionError\u001b[39;00m(err, request=request)\n",
      "\u001b[36mFile \u001b[39m\u001b[32mc:\\Users\\thais\\.virtualenvs\\climate\\Lib\\site-packages\\urllib3\\connectionpool.py:787\u001b[39m, in \u001b[36mHTTPConnectionPool.urlopen\u001b[39m\u001b[34m(self, method, url, body, headers, retries, redirect, assert_same_host, timeout, pool_timeout, release_conn, chunked, body_pos, preload_content, decode_content, **response_kw)\u001b[39m\n\u001b[32m    784\u001b[39m response_conn = conn \u001b[38;5;28;01mif\u001b[39;00m \u001b[38;5;129;01mnot\u001b[39;00m release_conn \u001b[38;5;28;01melse\u001b[39;00m \u001b[38;5;28;01mNone\u001b[39;00m\n\u001b[32m    786\u001b[39m \u001b[38;5;66;03m# Make the request on the HTTPConnection object\u001b[39;00m\n\u001b[32m--> \u001b[39m\u001b[32m787\u001b[39m response = \u001b[38;5;28;43mself\u001b[39;49m\u001b[43m.\u001b[49m\u001b[43m_make_request\u001b[49m\u001b[43m(\u001b[49m\n\u001b[32m    788\u001b[39m \u001b[43m    \u001b[49m\u001b[43mconn\u001b[49m\u001b[43m,\u001b[49m\n\u001b[32m    789\u001b[39m \u001b[43m    \u001b[49m\u001b[43mmethod\u001b[49m\u001b[43m,\u001b[49m\n\u001b[32m    790\u001b[39m \u001b[43m    \u001b[49m\u001b[43murl\u001b[49m\u001b[43m,\u001b[49m\n\u001b[32m    791\u001b[39m \u001b[43m    \u001b[49m\u001b[43mtimeout\u001b[49m\u001b[43m=\u001b[49m\u001b[43mtimeout_obj\u001b[49m\u001b[43m,\u001b[49m\n\u001b[32m    792\u001b[39m \u001b[43m    \u001b[49m\u001b[43mbody\u001b[49m\u001b[43m=\u001b[49m\u001b[43mbody\u001b[49m\u001b[43m,\u001b[49m\n\u001b[32m    793\u001b[39m \u001b[43m    \u001b[49m\u001b[43mheaders\u001b[49m\u001b[43m=\u001b[49m\u001b[43mheaders\u001b[49m\u001b[43m,\u001b[49m\n\u001b[32m    794\u001b[39m \u001b[43m    \u001b[49m\u001b[43mchunked\u001b[49m\u001b[43m=\u001b[49m\u001b[43mchunked\u001b[49m\u001b[43m,\u001b[49m\n\u001b[32m    795\u001b[39m \u001b[43m    \u001b[49m\u001b[43mretries\u001b[49m\u001b[43m=\u001b[49m\u001b[43mretries\u001b[49m\u001b[43m,\u001b[49m\n\u001b[32m    796\u001b[39m \u001b[43m    \u001b[49m\u001b[43mresponse_conn\u001b[49m\u001b[43m=\u001b[49m\u001b[43mresponse_conn\u001b[49m\u001b[43m,\u001b[49m\n\u001b[32m    797\u001b[39m \u001b[43m    \u001b[49m\u001b[43mpreload_content\u001b[49m\u001b[43m=\u001b[49m\u001b[43mpreload_content\u001b[49m\u001b[43m,\u001b[49m\n\u001b[32m    798\u001b[39m \u001b[43m    \u001b[49m\u001b[43mdecode_content\u001b[49m\u001b[43m=\u001b[49m\u001b[43mdecode_content\u001b[49m\u001b[43m,\u001b[49m\n\u001b[32m    799\u001b[39m \u001b[43m    \u001b[49m\u001b[43m*\u001b[49m\u001b[43m*\u001b[49m\u001b[43mresponse_kw\u001b[49m\u001b[43m,\u001b[49m\n\u001b[32m    800\u001b[39m \u001b[43m\u001b[49m\u001b[43m)\u001b[49m\n\u001b[32m    802\u001b[39m \u001b[38;5;66;03m# Everything went great!\u001b[39;00m\n\u001b[32m    803\u001b[39m clean_exit = \u001b[38;5;28;01mTrue\u001b[39;00m\n",
      "\u001b[36mFile \u001b[39m\u001b[32mc:\\Users\\thais\\.virtualenvs\\climate\\Lib\\site-packages\\urllib3\\connectionpool.py:464\u001b[39m, in \u001b[36mHTTPConnectionPool._make_request\u001b[39m\u001b[34m(self, conn, method, url, body, headers, retries, timeout, chunked, response_conn, preload_content, decode_content, enforce_content_length)\u001b[39m\n\u001b[32m    461\u001b[39m \u001b[38;5;28;01mtry\u001b[39;00m:\n\u001b[32m    462\u001b[39m     \u001b[38;5;66;03m# Trigger any extra validation we need to do.\u001b[39;00m\n\u001b[32m    463\u001b[39m     \u001b[38;5;28;01mtry\u001b[39;00m:\n\u001b[32m--> \u001b[39m\u001b[32m464\u001b[39m         \u001b[38;5;28;43mself\u001b[39;49m\u001b[43m.\u001b[49m\u001b[43m_validate_conn\u001b[49m\u001b[43m(\u001b[49m\u001b[43mconn\u001b[49m\u001b[43m)\u001b[49m\n\u001b[32m    465\u001b[39m     \u001b[38;5;28;01mexcept\u001b[39;00m (SocketTimeout, BaseSSLError) \u001b[38;5;28;01mas\u001b[39;00m e:\n\u001b[32m    466\u001b[39m         \u001b[38;5;28mself\u001b[39m._raise_timeout(err=e, url=url, timeout_value=conn.timeout)\n",
      "\u001b[36mFile \u001b[39m\u001b[32mc:\\Users\\thais\\.virtualenvs\\climate\\Lib\\site-packages\\urllib3\\connectionpool.py:1093\u001b[39m, in \u001b[36mHTTPSConnectionPool._validate_conn\u001b[39m\u001b[34m(self, conn)\u001b[39m\n\u001b[32m   1091\u001b[39m \u001b[38;5;66;03m# Force connect early to allow us to validate the connection.\u001b[39;00m\n\u001b[32m   1092\u001b[39m \u001b[38;5;28;01mif\u001b[39;00m conn.is_closed:\n\u001b[32m-> \u001b[39m\u001b[32m1093\u001b[39m     \u001b[43mconn\u001b[49m\u001b[43m.\u001b[49m\u001b[43mconnect\u001b[49m\u001b[43m(\u001b[49m\u001b[43m)\u001b[49m\n\u001b[32m   1095\u001b[39m \u001b[38;5;66;03m# TODO revise this, see https://github.com/urllib3/urllib3/issues/2791\u001b[39;00m\n\u001b[32m   1096\u001b[39m \u001b[38;5;28;01mif\u001b[39;00m \u001b[38;5;129;01mnot\u001b[39;00m conn.is_verified \u001b[38;5;129;01mand\u001b[39;00m \u001b[38;5;129;01mnot\u001b[39;00m conn.proxy_is_verified:\n",
      "\u001b[36mFile \u001b[39m\u001b[32mc:\\Users\\thais\\.virtualenvs\\climate\\Lib\\site-packages\\urllib3\\connection.py:790\u001b[39m, in \u001b[36mHTTPSConnection.connect\u001b[39m\u001b[34m(self)\u001b[39m\n\u001b[32m    787\u001b[39m     \u001b[38;5;66;03m# Remove trailing '.' from fqdn hostnames to allow certificate validation\u001b[39;00m\n\u001b[32m    788\u001b[39m     server_hostname_rm_dot = server_hostname.rstrip(\u001b[33m\"\u001b[39m\u001b[33m.\u001b[39m\u001b[33m\"\u001b[39m)\n\u001b[32m--> \u001b[39m\u001b[32m790\u001b[39m     sock_and_verified = \u001b[43m_ssl_wrap_socket_and_match_hostname\u001b[49m\u001b[43m(\u001b[49m\n\u001b[32m    791\u001b[39m \u001b[43m        \u001b[49m\u001b[43msock\u001b[49m\u001b[43m=\u001b[49m\u001b[43msock\u001b[49m\u001b[43m,\u001b[49m\n\u001b[32m    792\u001b[39m \u001b[43m        \u001b[49m\u001b[43mcert_reqs\u001b[49m\u001b[43m=\u001b[49m\u001b[38;5;28;43mself\u001b[39;49m\u001b[43m.\u001b[49m\u001b[43mcert_reqs\u001b[49m\u001b[43m,\u001b[49m\n\u001b[32m    793\u001b[39m \u001b[43m        \u001b[49m\u001b[43mssl_version\u001b[49m\u001b[43m=\u001b[49m\u001b[38;5;28;43mself\u001b[39;49m\u001b[43m.\u001b[49m\u001b[43mssl_version\u001b[49m\u001b[43m,\u001b[49m\n\u001b[32m    794\u001b[39m \u001b[43m        \u001b[49m\u001b[43mssl_minimum_version\u001b[49m\u001b[43m=\u001b[49m\u001b[38;5;28;43mself\u001b[39;49m\u001b[43m.\u001b[49m\u001b[43mssl_minimum_version\u001b[49m\u001b[43m,\u001b[49m\n\u001b[32m    795\u001b[39m \u001b[43m        \u001b[49m\u001b[43mssl_maximum_version\u001b[49m\u001b[43m=\u001b[49m\u001b[38;5;28;43mself\u001b[39;49m\u001b[43m.\u001b[49m\u001b[43mssl_maximum_version\u001b[49m\u001b[43m,\u001b[49m\n\u001b[32m    796\u001b[39m \u001b[43m        \u001b[49m\u001b[43mca_certs\u001b[49m\u001b[43m=\u001b[49m\u001b[38;5;28;43mself\u001b[39;49m\u001b[43m.\u001b[49m\u001b[43mca_certs\u001b[49m\u001b[43m,\u001b[49m\n\u001b[32m    797\u001b[39m \u001b[43m        \u001b[49m\u001b[43mca_cert_dir\u001b[49m\u001b[43m=\u001b[49m\u001b[38;5;28;43mself\u001b[39;49m\u001b[43m.\u001b[49m\u001b[43mca_cert_dir\u001b[49m\u001b[43m,\u001b[49m\n\u001b[32m    798\u001b[39m \u001b[43m        \u001b[49m\u001b[43mca_cert_data\u001b[49m\u001b[43m=\u001b[49m\u001b[38;5;28;43mself\u001b[39;49m\u001b[43m.\u001b[49m\u001b[43mca_cert_data\u001b[49m\u001b[43m,\u001b[49m\n\u001b[32m    799\u001b[39m \u001b[43m        \u001b[49m\u001b[43mcert_file\u001b[49m\u001b[43m=\u001b[49m\u001b[38;5;28;43mself\u001b[39;49m\u001b[43m.\u001b[49m\u001b[43mcert_file\u001b[49m\u001b[43m,\u001b[49m\n\u001b[32m    800\u001b[39m \u001b[43m        \u001b[49m\u001b[43mkey_file\u001b[49m\u001b[43m=\u001b[49m\u001b[38;5;28;43mself\u001b[39;49m\u001b[43m.\u001b[49m\u001b[43mkey_file\u001b[49m\u001b[43m,\u001b[49m\n\u001b[32m    801\u001b[39m \u001b[43m        \u001b[49m\u001b[43mkey_password\u001b[49m\u001b[43m=\u001b[49m\u001b[38;5;28;43mself\u001b[39;49m\u001b[43m.\u001b[49m\u001b[43mkey_password\u001b[49m\u001b[43m,\u001b[49m\n\u001b[32m    802\u001b[39m \u001b[43m        \u001b[49m\u001b[43mserver_hostname\u001b[49m\u001b[43m=\u001b[49m\u001b[43mserver_hostname_rm_dot\u001b[49m\u001b[43m,\u001b[49m\n\u001b[32m    803\u001b[39m \u001b[43m        \u001b[49m\u001b[43mssl_context\u001b[49m\u001b[43m=\u001b[49m\u001b[38;5;28;43mself\u001b[39;49m\u001b[43m.\u001b[49m\u001b[43mssl_context\u001b[49m\u001b[43m,\u001b[49m\n\u001b[32m    804\u001b[39m \u001b[43m        \u001b[49m\u001b[43mtls_in_tls\u001b[49m\u001b[43m=\u001b[49m\u001b[43mtls_in_tls\u001b[49m\u001b[43m,\u001b[49m\n\u001b[32m    805\u001b[39m \u001b[43m        \u001b[49m\u001b[43massert_hostname\u001b[49m\u001b[43m=\u001b[49m\u001b[38;5;28;43mself\u001b[39;49m\u001b[43m.\u001b[49m\u001b[43massert_hostname\u001b[49m\u001b[43m,\u001b[49m\n\u001b[32m    806\u001b[39m \u001b[43m        \u001b[49m\u001b[43massert_fingerprint\u001b[49m\u001b[43m=\u001b[49m\u001b[38;5;28;43mself\u001b[39;49m\u001b[43m.\u001b[49m\u001b[43massert_fingerprint\u001b[49m\u001b[43m,\u001b[49m\n\u001b[32m    807\u001b[39m \u001b[43m    \u001b[49m\u001b[43m)\u001b[49m\n\u001b[32m    808\u001b[39m     \u001b[38;5;28mself\u001b[39m.sock = sock_and_verified.socket\n\u001b[32m    810\u001b[39m \u001b[38;5;66;03m# If an error occurs during connection/handshake we may need to release\u001b[39;00m\n\u001b[32m    811\u001b[39m \u001b[38;5;66;03m# our lock so another connection can probe the origin.\u001b[39;00m\n",
      "\u001b[36mFile \u001b[39m\u001b[32mc:\\Users\\thais\\.virtualenvs\\climate\\Lib\\site-packages\\urllib3\\connection.py:969\u001b[39m, in \u001b[36m_ssl_wrap_socket_and_match_hostname\u001b[39m\u001b[34m(sock, cert_reqs, ssl_version, ssl_minimum_version, ssl_maximum_version, cert_file, key_file, key_password, ca_certs, ca_cert_dir, ca_cert_data, assert_hostname, assert_fingerprint, server_hostname, ssl_context, tls_in_tls)\u001b[39m\n\u001b[32m    966\u001b[39m     \u001b[38;5;28;01mif\u001b[39;00m is_ipaddress(normalized):\n\u001b[32m    967\u001b[39m         server_hostname = normalized\n\u001b[32m--> \u001b[39m\u001b[32m969\u001b[39m ssl_sock = \u001b[43mssl_wrap_socket\u001b[49m\u001b[43m(\u001b[49m\n\u001b[32m    970\u001b[39m \u001b[43m    \u001b[49m\u001b[43msock\u001b[49m\u001b[43m=\u001b[49m\u001b[43msock\u001b[49m\u001b[43m,\u001b[49m\n\u001b[32m    971\u001b[39m \u001b[43m    \u001b[49m\u001b[43mkeyfile\u001b[49m\u001b[43m=\u001b[49m\u001b[43mkey_file\u001b[49m\u001b[43m,\u001b[49m\n\u001b[32m    972\u001b[39m \u001b[43m    \u001b[49m\u001b[43mcertfile\u001b[49m\u001b[43m=\u001b[49m\u001b[43mcert_file\u001b[49m\u001b[43m,\u001b[49m\n\u001b[32m    973\u001b[39m \u001b[43m    \u001b[49m\u001b[43mkey_password\u001b[49m\u001b[43m=\u001b[49m\u001b[43mkey_password\u001b[49m\u001b[43m,\u001b[49m\n\u001b[32m    974\u001b[39m \u001b[43m    \u001b[49m\u001b[43mca_certs\u001b[49m\u001b[43m=\u001b[49m\u001b[43mca_certs\u001b[49m\u001b[43m,\u001b[49m\n\u001b[32m    975\u001b[39m \u001b[43m    \u001b[49m\u001b[43mca_cert_dir\u001b[49m\u001b[43m=\u001b[49m\u001b[43mca_cert_dir\u001b[49m\u001b[43m,\u001b[49m\n\u001b[32m    976\u001b[39m \u001b[43m    \u001b[49m\u001b[43mca_cert_data\u001b[49m\u001b[43m=\u001b[49m\u001b[43mca_cert_data\u001b[49m\u001b[43m,\u001b[49m\n\u001b[32m    977\u001b[39m \u001b[43m    \u001b[49m\u001b[43mserver_hostname\u001b[49m\u001b[43m=\u001b[49m\u001b[43mserver_hostname\u001b[49m\u001b[43m,\u001b[49m\n\u001b[32m    978\u001b[39m \u001b[43m    \u001b[49m\u001b[43mssl_context\u001b[49m\u001b[43m=\u001b[49m\u001b[43mcontext\u001b[49m\u001b[43m,\u001b[49m\n\u001b[32m    979\u001b[39m \u001b[43m    \u001b[49m\u001b[43mtls_in_tls\u001b[49m\u001b[43m=\u001b[49m\u001b[43mtls_in_tls\u001b[49m\u001b[43m,\u001b[49m\n\u001b[32m    980\u001b[39m \u001b[43m\u001b[49m\u001b[43m)\u001b[49m\n\u001b[32m    982\u001b[39m \u001b[38;5;28;01mtry\u001b[39;00m:\n\u001b[32m    983\u001b[39m     \u001b[38;5;28;01mif\u001b[39;00m assert_fingerprint:\n",
      "\u001b[36mFile \u001b[39m\u001b[32mc:\\Users\\thais\\.virtualenvs\\climate\\Lib\\site-packages\\urllib3\\util\\ssl_.py:480\u001b[39m, in \u001b[36mssl_wrap_socket\u001b[39m\u001b[34m(sock, keyfile, certfile, cert_reqs, ca_certs, server_hostname, ssl_version, ciphers, ssl_context, ca_cert_dir, key_password, ca_cert_data, tls_in_tls)\u001b[39m\n\u001b[32m    476\u001b[39m         context.load_cert_chain(certfile, keyfile, key_password)\n\u001b[32m    478\u001b[39m context.set_alpn_protocols(ALPN_PROTOCOLS)\n\u001b[32m--> \u001b[39m\u001b[32m480\u001b[39m ssl_sock = \u001b[43m_ssl_wrap_socket_impl\u001b[49m\u001b[43m(\u001b[49m\u001b[43msock\u001b[49m\u001b[43m,\u001b[49m\u001b[43m \u001b[49m\u001b[43mcontext\u001b[49m\u001b[43m,\u001b[49m\u001b[43m \u001b[49m\u001b[43mtls_in_tls\u001b[49m\u001b[43m,\u001b[49m\u001b[43m \u001b[49m\u001b[43mserver_hostname\u001b[49m\u001b[43m)\u001b[49m\n\u001b[32m    481\u001b[39m \u001b[38;5;28;01mreturn\u001b[39;00m ssl_sock\n",
      "\u001b[36mFile \u001b[39m\u001b[32mc:\\Users\\thais\\.virtualenvs\\climate\\Lib\\site-packages\\urllib3\\util\\ssl_.py:524\u001b[39m, in \u001b[36m_ssl_wrap_socket_impl\u001b[39m\u001b[34m(sock, ssl_context, tls_in_tls, server_hostname)\u001b[39m\n\u001b[32m    521\u001b[39m     SSLTransport._validate_ssl_context_for_tls_in_tls(ssl_context)\n\u001b[32m    522\u001b[39m     \u001b[38;5;28;01mreturn\u001b[39;00m SSLTransport(sock, ssl_context, server_hostname)\n\u001b[32m--> \u001b[39m\u001b[32m524\u001b[39m \u001b[38;5;28;01mreturn\u001b[39;00m \u001b[43mssl_context\u001b[49m\u001b[43m.\u001b[49m\u001b[43mwrap_socket\u001b[49m\u001b[43m(\u001b[49m\u001b[43msock\u001b[49m\u001b[43m,\u001b[49m\u001b[43m \u001b[49m\u001b[43mserver_hostname\u001b[49m\u001b[43m=\u001b[49m\u001b[43mserver_hostname\u001b[49m\u001b[43m)\u001b[49m\n",
      "\u001b[36mFile \u001b[39m\u001b[32m~\\AppData\\Local\\Programs\\Python\\Python311\\Lib\\ssl.py:517\u001b[39m, in \u001b[36mSSLContext.wrap_socket\u001b[39m\u001b[34m(self, sock, server_side, do_handshake_on_connect, suppress_ragged_eofs, server_hostname, session)\u001b[39m\n\u001b[32m    511\u001b[39m \u001b[38;5;28;01mdef\u001b[39;00m\u001b[38;5;250m \u001b[39m\u001b[34mwrap_socket\u001b[39m(\u001b[38;5;28mself\u001b[39m, sock, server_side=\u001b[38;5;28;01mFalse\u001b[39;00m,\n\u001b[32m    512\u001b[39m                 do_handshake_on_connect=\u001b[38;5;28;01mTrue\u001b[39;00m,\n\u001b[32m    513\u001b[39m                 suppress_ragged_eofs=\u001b[38;5;28;01mTrue\u001b[39;00m,\n\u001b[32m    514\u001b[39m                 server_hostname=\u001b[38;5;28;01mNone\u001b[39;00m, session=\u001b[38;5;28;01mNone\u001b[39;00m):\n\u001b[32m    515\u001b[39m     \u001b[38;5;66;03m# SSLSocket class handles server_hostname encoding before it calls\u001b[39;00m\n\u001b[32m    516\u001b[39m     \u001b[38;5;66;03m# ctx._wrap_socket()\u001b[39;00m\n\u001b[32m--> \u001b[39m\u001b[32m517\u001b[39m     \u001b[38;5;28;01mreturn\u001b[39;00m \u001b[38;5;28;43mself\u001b[39;49m\u001b[43m.\u001b[49m\u001b[43msslsocket_class\u001b[49m\u001b[43m.\u001b[49m\u001b[43m_create\u001b[49m\u001b[43m(\u001b[49m\n\u001b[32m    518\u001b[39m \u001b[43m        \u001b[49m\u001b[43msock\u001b[49m\u001b[43m=\u001b[49m\u001b[43msock\u001b[49m\u001b[43m,\u001b[49m\n\u001b[32m    519\u001b[39m \u001b[43m        \u001b[49m\u001b[43mserver_side\u001b[49m\u001b[43m=\u001b[49m\u001b[43mserver_side\u001b[49m\u001b[43m,\u001b[49m\n\u001b[32m    520\u001b[39m \u001b[43m        \u001b[49m\u001b[43mdo_handshake_on_connect\u001b[49m\u001b[43m=\u001b[49m\u001b[43mdo_handshake_on_connect\u001b[49m\u001b[43m,\u001b[49m\n\u001b[32m    521\u001b[39m \u001b[43m        \u001b[49m\u001b[43msuppress_ragged_eofs\u001b[49m\u001b[43m=\u001b[49m\u001b[43msuppress_ragged_eofs\u001b[49m\u001b[43m,\u001b[49m\n\u001b[32m    522\u001b[39m \u001b[43m        \u001b[49m\u001b[43mserver_hostname\u001b[49m\u001b[43m=\u001b[49m\u001b[43mserver_hostname\u001b[49m\u001b[43m,\u001b[49m\n\u001b[32m    523\u001b[39m \u001b[43m        \u001b[49m\u001b[43mcontext\u001b[49m\u001b[43m=\u001b[49m\u001b[38;5;28;43mself\u001b[39;49m\u001b[43m,\u001b[49m\n\u001b[32m    524\u001b[39m \u001b[43m        \u001b[49m\u001b[43msession\u001b[49m\u001b[43m=\u001b[49m\u001b[43msession\u001b[49m\n\u001b[32m    525\u001b[39m \u001b[43m    \u001b[49m\u001b[43m)\u001b[49m\n",
      "\u001b[36mFile \u001b[39m\u001b[32m~\\AppData\\Local\\Programs\\Python\\Python311\\Lib\\ssl.py:1075\u001b[39m, in \u001b[36mSSLSocket._create\u001b[39m\u001b[34m(cls, sock, server_side, do_handshake_on_connect, suppress_ragged_eofs, server_hostname, context, session)\u001b[39m\n\u001b[32m   1072\u001b[39m         \u001b[38;5;28;01mif\u001b[39;00m timeout == \u001b[32m0.0\u001b[39m:\n\u001b[32m   1073\u001b[39m             \u001b[38;5;66;03m# non-blocking\u001b[39;00m\n\u001b[32m   1074\u001b[39m             \u001b[38;5;28;01mraise\u001b[39;00m \u001b[38;5;167;01mValueError\u001b[39;00m(\u001b[33m\"\u001b[39m\u001b[33mdo_handshake_on_connect should not be specified for non-blocking sockets\u001b[39m\u001b[33m\"\u001b[39m)\n\u001b[32m-> \u001b[39m\u001b[32m1075\u001b[39m         \u001b[38;5;28;43mself\u001b[39;49m\u001b[43m.\u001b[49m\u001b[43mdo_handshake\u001b[49m\u001b[43m(\u001b[49m\u001b[43m)\u001b[49m\n\u001b[32m   1076\u001b[39m \u001b[38;5;28;01mexcept\u001b[39;00m (\u001b[38;5;167;01mOSError\u001b[39;00m, \u001b[38;5;167;01mValueError\u001b[39;00m):\n\u001b[32m   1077\u001b[39m     \u001b[38;5;28mself\u001b[39m.close()\n",
      "\u001b[36mFile \u001b[39m\u001b[32m~\\AppData\\Local\\Programs\\Python\\Python311\\Lib\\ssl.py:1346\u001b[39m, in \u001b[36mSSLSocket.do_handshake\u001b[39m\u001b[34m(self, block)\u001b[39m\n\u001b[32m   1344\u001b[39m     \u001b[38;5;28;01mif\u001b[39;00m timeout == \u001b[32m0.0\u001b[39m \u001b[38;5;129;01mand\u001b[39;00m block:\n\u001b[32m   1345\u001b[39m         \u001b[38;5;28mself\u001b[39m.settimeout(\u001b[38;5;28;01mNone\u001b[39;00m)\n\u001b[32m-> \u001b[39m\u001b[32m1346\u001b[39m     \u001b[38;5;28mself\u001b[39m._sslobj.do_handshake()\n\u001b[32m   1347\u001b[39m \u001b[38;5;28;01mfinally\u001b[39;00m:\n\u001b[32m   1348\u001b[39m     \u001b[38;5;28mself\u001b[39m.settimeout(timeout)\n",
      "\u001b[31mKeyboardInterrupt\u001b[39m: "
     ]
    }
   ],
   "source": [
    "variaveis = [\"tas\", \"tasmin\", \"tasmax\", \"tos\", \"ps\", \"pr\"]  # exemplo com 6 variáveis\n",
    "modelos_por_variavel = defaultdict(set)\n",
    "\n",
    "conn = SearchConnection(\"https://esgf-node.llnl.gov/esg-search\", distrib=False)\n",
    "\n",
    "for var in variaveis:\n",
    "    ctx = conn.new_context(\n",
    "        project=\"CMIP6\",\n",
    "        experiment_id=[\"historical\", \"ssp245\", \"ssp585\"],\n",
    "        variable_id=var,\n",
    "        frequency=\"mon\",\n",
    "        replica=False,\n",
    "        latest=True\n",
    "    )\n",
    "\n",
    "    results = list(ctx.search(ignore_facet_check=True))\n",
    "    for d in results:\n",
    "        modelo = d.json.get(\"source_id\", [None])[0]\n",
    "        if modelo:\n",
    "            modelos_por_variavel[var].add(modelo)\n",
    "\n",
    "# Exibindo os resultados\n",
    "for var, modelos in modelos_por_variavel.items():\n",
    "    print(f\"{var}: {sorted(modelos)}\")"
   ]
  },
  {
   "cell_type": "code",
   "execution_count": null,
   "id": "fe27f396",
   "metadata": {},
   "outputs": [
    {
     "data": {
      "text/plain": [
       "{'mip_era': ['CMIP6'],\n",
       " 'activity_drs': ['ScenarioMIP'],\n",
       " 'institution_id': ['MIROC'],\n",
       " 'source_id': ['MIROC6'],\n",
       " 'experiment_id': ['ssp585'],\n",
       " 'member_id': ['r7i1p1f1'],\n",
       " 'table_id': ['Amon'],\n",
       " 'variable_id': ['tas'],\n",
       " 'grid_label': ['gn'],\n",
       " 'frequency': ['mon'],\n",
       " 'realm': ['atmos'],\n",
       " 'product': ['model-output'],\n",
       " 'nominal_resolution': ['250 km'],\n",
       " 'source_type': ['AOGCM', 'AER'],\n",
       " 'grid': ['native atmosphere T85 Gaussian grid'],\n",
       " 'creation_date': '2020-06-13T21:31:53Z',\n",
       " 'variant_label': ['r7i1p1f1'],\n",
       " 'sub_experiment_id': ['none'],\n",
       " 'further_info_url': ['https://furtherinfo.es-doc.org/CMIP6.MIROC.MIROC6.ssp585.none.r7i1p1f1'],\n",
       " 'activity_id': ['ScenarioMIP'],\n",
       " 'data_specs_version': ['01.00.31'],\n",
       " 'title': 'CMIP6.ScenarioMIP.MIROC.MIROC6.ssp585.r7i1p1f1.Amon.tas.gn',\n",
       " 'experiment_title': ['update of RCP8.5 based on SSP5'],\n",
       " 'model_cohort': ['Registered'],\n",
       " 'data_node': 'esgf-node.ornl.gov',\n",
       " 'index_node': 'us-index',\n",
       " 'master_id': 'CMIP6.ScenarioMIP.MIROC.MIROC6.ssp585.r7i1p1f1.Amon.tas.gn',\n",
       " 'instance_id': 'CMIP6.ScenarioMIP.MIROC.MIROC6.ssp585.r7i1p1f1.Amon.tas.gn.v20200623',\n",
       " 'id': 'CMIP6.ScenarioMIP.MIROC.MIROC6.ssp585.r7i1p1f1.Amon.tas.gn.v20200623|esgf-node.ornl.gov',\n",
       " 'short_description': ['MIROC6 output prepared for CMIP6'],\n",
       " 'replica': True,\n",
       " 'latest': True,\n",
       " 'type': 'Dataset',\n",
       " 'project': ['CMIP6'],\n",
       " 'version': '20200623',\n",
       " 'dataset_id_template_': ['%(mip_era)s.%(activity_drs)s.%(institution_id)s.%(source_id)s.%(experiment_id)s.%(member_id)s.%(table_id)s.%(variable_id)s.%(grid_label)s'],\n",
       " 'directory_format_template_': ['%(root)s/%(mip_era)s/%(activity_drs)s/%(institution_id)s/%(source_id)s/%(experiment_id)s/%(member_id)s/%(table_id)s/%(variable_id)s/%(grid_label)s/%(version)s'],\n",
       " 'variable_long_name': ['Near-Surface Air Temperature'],\n",
       " 'cf_standard_name': ['air_temperature'],\n",
       " 'variable_units': ['K'],\n",
       " 'variable': ['tas'],\n",
       " 'north_degrees': 88.927734,\n",
       " 'south_degrees': -88.927734,\n",
       " 'east_degrees': 358.59375,\n",
       " 'west_degrees': 0.0,\n",
       " 'datetime_start': '2015-01-16T12:00:00Z',\n",
       " 'datetime_end': '2100-12-16T12:00:00Z',\n",
       " 'number_of_files': 1,\n",
       " 'size': 74537048,\n",
       " 'access': ['HTTPServer', 'OPENDAP', 'GridFTP', 'Globus'],\n",
       " 'citation_url': ['http://cera-www.dkrz.de/WDCC/meta/CMIP6/CMIP6.ScenarioMIP.MIROC.MIROC6.ssp585.r7i1p1f1.Amon.tas.gn.v20200623.json'],\n",
       " 'xlink': ['http://cera-www.dkrz.de/WDCC/meta/CMIP6/CMIP6.ScenarioMIP.MIROC.MIROC6.ssp585.r7i1p1f1.Amon.tas.gn.v20200623.json|Citation|citation',\n",
       "  'http://hd1.handle.net/hdl:21.14100/283a1cc3-3bd2-36bc-8489-1c1832e3a05d|PID|pid'],\n",
       " 'pid': ['hdl:21.14100/283a1cc3-3bd2-36bc-8489-1c1832e3a05d'],\n",
       " 'retracted': False,\n",
       " '_timestamp': '2020-08-24T19:31:14.284Z',\n",
       " '_version_': 1767519928809684993,\n",
       " 'score': 0.5}"
      ]
     },
     "execution_count": 27,
     "metadata": {},
     "output_type": "execute_result"
    }
   ],
   "source": [
    "d.json[\"source_id\"]"
   ]
  }
 ],
 "metadata": {
  "kernelspec": {
   "display_name": "climate",
   "language": "python",
   "name": "python3"
  },
  "language_info": {
   "codemirror_mode": {
    "name": "ipython",
    "version": 3
   },
   "file_extension": ".py",
   "mimetype": "text/x-python",
   "name": "python",
   "nbconvert_exporter": "python",
   "pygments_lexer": "ipython3",
   "version": "3.11.2"
  }
 },
 "nbformat": 4,
 "nbformat_minor": 5
}
