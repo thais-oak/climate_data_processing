{
 "cells": [
  {
   "cell_type": "code",
   "execution_count": null,
   "id": "72d61b66",
   "metadata": {},
   "outputs": [],
   "source": [
    "import sys\n",
    "\n",
    "# apontar para a versão local da lib\n",
    "sys.path.insert(0, './dreqPy')"
   ]
  },
  {
   "cell_type": "code",
   "execution_count": 3,
   "id": "d8765649",
   "metadata": {},
   "outputs": [],
   "source": [
    "from dreqPy import dreq"
   ]
  },
  {
   "cell_type": "code",
   "execution_count": 4,
   "id": "e470d134",
   "metadata": {},
   "outputs": [],
   "source": [
    "# inicializando a biblioteca\n",
    "dq = dreq.loadDreq()"
   ]
  },
  {
   "cell_type": "code",
   "execution_count": 5,
   "id": "9b8f1a26",
   "metadata": {},
   "outputs": [
    {
     "name": "stdout",
     "output_type": "stream",
     "text": [
      "bigthetao - Sea Water Conservative Temperature - sea_water_conservative_temperature\n",
      "bigthetaoga - Global Average Sea Water Conservative Temperature - sea_water_conservative_temperature\n",
      "edt - Eddy Diffusivity Coefficient for Temperature - atmosphere_heat_diffusivity\n",
      "hfevapds - Temperature Flux Due to Evaporation Expressed as Heat Flux out of Sea Water - temperature_flux_due_to_evaporation_expressed_as_heat_flux_out_of_sea_water\n",
      "hfrainds - Temperature Flux Due to Rainfall Expressed as Heat Flux into Sea Water - temperature_flux_due_to_rainfall_expressed_as_heat_flux_into_sea_water\n",
      "hfrunoffds - Temperature Flux Due to Runoff Expressed as Heat Flux into Sea Water - temperature_flux_due_to_runoff_expressed_as_heat_flux_into_sea_water\n",
      "litempbotfl - Basal Temperature of Floating Ice Shelf - land_ice_basal_temperature\n",
      "litempbotgr - Basal Temperature of Grounded Ice Sheet - land_ice_basal_temperature\n",
      "litemptop - Temperature at Top of Ice Sheet Model - temperature_at_top_of_ice_sheet_model\n",
      "litemptopIs - Ice Sheet Temperature at Top of Ice Sheet Model - temperature_at_top_of_ice_sheet_model\n",
      "ocontempdiff - Tendency of Sea Water Conservative Temperature Expressed as Heat Content Due to Parameterized Dianeutral Mixing - tendency_of_sea_water_conservative_temperature_expressed_as_heat_content_due_to_parameterized_dianeutral_mixing\n",
      "ocontempmint - Depth Integral of Product of Sea Water Density and Conservative Temperature - integral_wrt_depth_of_product_of_conservative_temperature_and_sea_water_density\n",
      "ocontemppadvect - Tendency of Sea Water Conservative Temperature Expressed as Heat Content Due to Parameterized Eddy Advection - tendency_of_sea_water_conservative_temperature_expressed_as_heat_content_due_to_parameterized_eddy_advection\n",
      "ocontemppmdiff - Tendency of Sea Water Conservative Temperature Expressed as Heat Content Due to Parameterized Mesoscale Diffusion - tendency_of_sea_water_conservative_temperature_expressed_as_heat_content_due_to_parameterized_mesoscale_eddy_diffusion\n",
      "ocontemppsmadvect - Tendency of Sea Water Conservative Temperature Expressed as Heat Content Due to Parameterized Submesoscale Advection - tendency_of_sea_water_conservative_temperature_expressed_as_heat_content_due_to_parameterized_submesoscale_eddy_advection\n",
      "ocontemprmadvect - Tendency of Sea Water Conservative Temperature Expressed as Heat Content Due to Residual Mean Advection - tendency_of_sea_water_conservative_temperature_expressed_as_heat_content_due_to_residual_mean_advection\n",
      "ocontemptend - Tendency of Sea Water Conservative Temperature Expressed as Heat Content - tendency_of_sea_water_conservative_temperature_expressed_as_heat_content\n",
      "opottempdiff - Tendency of Sea Water Potential Temperature Expressed as Heat Content Due to Parameterized Dianeutral Mixing - tendency_of_sea_water_potential_temperature_expressed_as_heat_content_due_to_parameterized_dianeutral_mixing\n",
      "opottempmint - Integral with Respect to Depth of Product of Sea Water Density and Potential Temperature - integral_wrt_depth_of_product_of_potential_temperature_and_sea_water_density\n",
      "opottemppadvect - Tendency of Sea Water Potential Temperature Expressed as Heat Content Due to Parameterized Eddy Advection - tendency_of_sea_water_potential_temperature_expressed_as_heat_content_due_to_parameterized_eddy_advection\n",
      "opottemppmdiff - Tendency of Sea Water Potential Temperature Expressed as Heat Content Due to Parameterized Mesoscale Diffusion - tendency_of_sea_water_potential_temperature_expressed_as_heat_content_due_to_parameterized_mesoscale_eddy_diffusion\n",
      "opottemppsmadvect - Tendency of Sea Water Potential Temperature Expressed as Heat Content Due to Parameterized Submesoscale Advection - tendency_of_sea_water_potential_temperature_expressed_as_heat_content_due_to_parameterized_submesoscale_eddy_advection\n",
      "opottemprmadvect - Tendency of Sea Water Potential Temperature Expressed as Heat Content Due to Residual Mean Advection - tendency_of_sea_water_potential_temperature_expressed_as_heat_content_due_to_residual_mean_advection\n",
      "opottemptend - Tendency of Sea Water Potential Temperature Expressed as Heat Content - tendency_of_sea_water_potential_temperature_expressed_as_heat_content\n",
      "pabigthetao - Sea Water Added Conservative Temperature - sea_water_added_conservative_temperature\n",
      "pathetao - Sea Water Additional Potential Temperature - sea_water_added_potential_temperature\n",
      "prbigthetao - Sea Water Redistributed Conservative Temperature - sea_water_redistributed_conservative_temperature\n",
      "prthetao - Sea Water Redistributed Potential Temperature - sea_water_redistributed_potential_temperature\n",
      "sitempbot - Temperature at Ice-Ocean Interface - sea_ice_basal_temperature\n",
      "sitempsnic - Temperature at Snow-Ice Interface - sea_ice_surface_temperature\n",
      "sitemptop - Surface Temperature of Sea Ice - sea_ice_surface_temperature\n",
      "t2 - Mean-Squared Air Temperature - square_of_air_temperature\n",
      "ta - Air Temperature - air_temperature\n",
      "ta500 - Air Temperature - air_temperature\n",
      "ta700 - Air Temperature - air_temperature\n",
      "ta850 - Air Temperature - air_temperature\n",
      "tas - Near-Surface Air Temperature - air_temperature\n",
      "tasIs - Ice Sheet Near-Surface Air Temperature - air_temperature\n",
      "tasLut - Near-Surface Air Temperature on Land Use Tile - air_temperature\n",
      "tasmax - Daily Maximum Near-Surface Air Temperature - air_temperature\n",
      "tasmaxCrop - Daily Maximum Near-Surface Air Temperature over Crop Tile - air_temperature\n",
      "tasmin - Daily Minimum Near-Surface Air Temperature - air_temperature\n",
      "tasminCrop - Daily Minimum Near-Surface Air Temperature over Crop Tile - air_temperature\n",
      "tatp - Tropopause Air Temperature - tropopause_air_temperature\n",
      "tcs - Vegetation Canopy Temperature - canopy_temperature\n",
      "tdps - 2m Dewpoint Temperature - dew_point_temperature\n",
      "tgs - Temperature of Bare Soil - surface_temperature\n",
      "thetao - Sea Water Potential Temperature - sea_water_potential_temperature\n",
      "thetaoga - Global Average Sea Water Potential Temperature - sea_water_potential_temperature\n",
      "thetaot - Vertically Averaged Sea Water Potential Temperature - sea_water_potential_temperature\n",
      "thetaot2000 - Depth Average Potential Temperature of Upper 2000m - sea_water_potential_temperature\n",
      "thetaot300 - Depth Average Potential Temperature of Upper 300m - sea_water_potential_temperature\n",
      "thetaot700 - Depth Average Potential Temperature of Upper 700m - sea_water_potential_temperature\n",
      "tnt - Tendency of Air Temperature - tendency_of_air_temperature\n",
      "tnta - Tendency of Air Temperature Due to Advection - tendency_of_air_temperature_due_to_advection\n",
      "tntc - Tendency of Air Temperature Due to Convection - tendency_of_air_temperature_due_to_convection\n",
      "tntd - Tendency of Air Temperature Due to Numerical Diffusion - tendency_of_air_temperature_due_to_diffusion\n",
      "tntmp - Tendency of Air Temperature Due to Model Physics - tendency_of_air_temperature_due_to_model_physics\n",
      "tntnogw - Temperature Tendency Due to Non-Orographic Gravity Wave Dissipation - tendency_of_air_temperature_due_to_dissipation_of_nonorographic_gravity_waves\n",
      "tntogw - Temperature Tendency Due to Orographic Gravity Wave Dissipation - tendency_of_air_temperature_due_to_dissipation_of_orographic_gravity_waves\n",
      "tntpbl - Tendency of Air Temperature Due to Boundary Layer Mixing - tendency_of_air_temperature_due_to_boundary_layer_mixing\n",
      "tntr - Tendency of Air Temperature Due to Radiative Heating - tendency_of_air_temperature_due_to_radiative_heating\n",
      "tntrl - Tendency of Air Temperature Due to Longwave Radiative Heating - tendency_of_air_temperature_due_to_longwave_heating\n",
      "tntrlcs - Tendency of Air Temperature Due to Clear Sky Longwave Radiative Heating - tendency_of_air_temperature_due_to_longwave_heating_assuming_clear_sky\n",
      "tntrs - Tendency of Air Temperature Due to Shortwave Radiative Heating - tendency_of_air_temperature_due_to_shortwave_heating\n",
      "tntrscs - Tendency of Air Temperature Due to Clear Sky Shortwave Radiative Heating - tendency_of_air_temperature_due_to_shortwave_heating_assuming_clear_sky\n",
      "tntscp - Tendency of Air Temperature Due to Stratiform Clouds and Precipitation - tendency_of_air_temperature_due_to_stratiform_cloud_and_precipitation\n",
      "tntscpbl - Tendency of Air Temperature Due to Stratiform Cloud and Precipitation and Boundary Layer Mixing - tendency_of_air_temperature_due_to_stratiform_cloud_and_precipitation_and_boundary_layer_mixing\n",
      "tob - Sea Water Potential Temperature at Sea Floor - sea_water_potential_temperature_at_sea_floor\n",
      "tos - Sea Surface Temperature - sea_surface_temperature\n",
      "tosga - Global Average Sea Surface Temperature - sea_surface_temperature\n",
      "tossq - Square of Sea Surface Temperature - square_of_sea_surface_temperature\n",
      "tr - Surface Radiative Temperature - surface_temperature\n",
      "ts - Surface Temperature - surface_temperature\n",
      "tsIs - Ice Sheet Surface Temperature - surface_temperature\n",
      "tsl - Temperature of Soil - soil_temperature\n",
      "tsland - Land Surface Temperature - surface_temperature\n",
      "tslsi - Surface Temperature Where Land or Sea Ice - surface_temperature\n",
      "tslsiLut - Surface Temperature on Landuse Tile - surface_temperature\n",
      "tsn - Snow Internal Temperature - temperature_in_surface_snow\n",
      "tsnIs - Ice Sheet Snow Internal Temperature - temperature_in_surface_snow\n",
      "tsnl - Temperature Profile in the Snow - temperature_in_surface_snow\n",
      "tsns - Snow Surface Temperature - surface_temperature\n",
      "ttop - Air Temperature at Cloud Top - air_temperature_at_cloud_top\n",
      "twap - Product of Air Temperature and Omega - product_of_lagrangian_tendency_of_air_pressure_and_air_temperature\n",
      "ut - Product of Air Temperature and Eastward Wind - product_of_eastward_wind_and_air_temperature\n",
      "vt - Product of Air Temperature and Northward Wind - product_of_northward_wind_and_air_temperature\n",
      "vt100 - Northward Eddy Temperature Flux - covariance_over_longitude_of_northward_wind_and_air_temperature\n",
      "wbptemp - Wet Bulb Potential Temperature - wet_bulb_potential_temperature\n"
     ]
    }
   ],
   "source": [
    "# listando variáveis relacionadas à temperatura\n",
    "temperature_vars = [var for var in dq.coll[\"var\"].items if \"temperature\" in var.title.lower()]\n",
    "\n",
    "for v in temperature_vars:\n",
    "    print(v.label, \"-\", v.title, \"-\", v.sn)"
   ]
  }
 ],
 "metadata": {
  "kernelspec": {
   "display_name": "climate",
   "language": "python",
   "name": "python3"
  },
  "language_info": {
   "codemirror_mode": {
    "name": "ipython",
    "version": 3
   },
   "file_extension": ".py",
   "mimetype": "text/x-python",
   "name": "python",
   "nbconvert_exporter": "python",
   "pygments_lexer": "ipython3",
   "version": "3.11.2"
  }
 },
 "nbformat": 4,
 "nbformat_minor": 5
}
